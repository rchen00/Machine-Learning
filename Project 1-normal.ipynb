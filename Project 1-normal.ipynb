{
 "cells": [
  {
   "cell_type": "markdown",
   "id": "recorded-gather",
   "metadata": {},
   "source": [
    "# Heart Disease Data Set\n",
    "\n",
    "https://archive.ics.uci.edu/ml/datasets/Heart+Disease\n",
    "\n",
    "\n",
    "### Description\n",
    "\n",
    "- **age**: The person's age in years\n",
    "- **sex**: The person's sex (1 = male, 0 = female)\n",
    "- **cp:** The chest pain experienced (Value 1: typical angina, Value 2: atypical angina, Value 3: non-anginal pain, Value 4: asymptomatic)\n",
    "- **trestbps:** The person's resting blood pressure (mm Hg on admission to the hospital)\n",
    "- **chol:** The person's cholesterol measurement in mg/dl\n",
    "- **fbs:** The person's fasting blood sugar (> 120 mg/dl, 1 = true; 0 = false) \n",
    "- **restecg:** Resting electrocardiographic measurement (0 = normal, 1 = having ST-T wave abnormality, 2 = showing probable or definite left ventricular hypertrophy by Estes' criteria)\n",
    "- **thalach:** The person's maximum heart rate achieved\n",
    "- **exang:** Exercise induced angina (1 = yes; 0 = no)\n",
    "- **oldpeak:** ST depression induced by exercise relative to rest ('ST' relates to positions on the ECG plot. See more [here](https://litfl.com/st-segment-ecg-library/))\n",
    "- **slope:** the slope of the peak exercise ST segment (Value 1: upsloping, Value 2: flat, Value 3: downsloping)\n",
    "- **ca:** The number of major vessels (0-3)\n",
    "- **thal:** A blood disorder called thalassemia (3 = normal; 6 = fixed defect; 7 = reversable defect)\n",
    "- **target:** Heart disease (0 = no, 1 = yes)\n",
    "\n",
    "### Heart Disease Classification \n",
    "\n",
    "Perform exploratory data analysis on the data. Then, train and validate different ML classifiers."
   ]
  },
  {
   "cell_type": "code",
   "execution_count": 52,
   "id": "impaired-wealth",
   "metadata": {},
   "outputs": [
    {
     "data": {
      "text/plain": [
       "(303, 14)"
      ]
     },
     "execution_count": 52,
     "metadata": {},
     "output_type": "execute_result"
    }
   ],
   "source": [
    "import pandas as pd\n",
    "df = pd.read_csv(\"./data/heart.csv\")\n",
    "df.shape"
   ]
  },
  {
   "cell_type": "code",
   "execution_count": 53,
   "id": "mediterranean-richmond",
   "metadata": {},
   "outputs": [
    {
     "data": {
      "text/html": [
       "<div>\n",
       "<style scoped>\n",
       "    .dataframe tbody tr th:only-of-type {\n",
       "        vertical-align: middle;\n",
       "    }\n",
       "\n",
       "    .dataframe tbody tr th {\n",
       "        vertical-align: top;\n",
       "    }\n",
       "\n",
       "    .dataframe thead th {\n",
       "        text-align: right;\n",
       "    }\n",
       "</style>\n",
       "<table border=\"1\" class=\"dataframe\">\n",
       "  <thead>\n",
       "    <tr style=\"text-align: right;\">\n",
       "      <th></th>\n",
       "      <th>age</th>\n",
       "      <th>sex</th>\n",
       "      <th>cp</th>\n",
       "      <th>trestbps</th>\n",
       "      <th>chol</th>\n",
       "      <th>fbs</th>\n",
       "      <th>restecg</th>\n",
       "      <th>thalach</th>\n",
       "      <th>exang</th>\n",
       "      <th>oldpeak</th>\n",
       "      <th>slope</th>\n",
       "      <th>ca</th>\n",
       "      <th>thal</th>\n",
       "      <th>target</th>\n",
       "    </tr>\n",
       "  </thead>\n",
       "  <tbody>\n",
       "    <tr>\n",
       "      <th>0</th>\n",
       "      <td>63</td>\n",
       "      <td>1</td>\n",
       "      <td>3</td>\n",
       "      <td>145</td>\n",
       "      <td>233</td>\n",
       "      <td>1</td>\n",
       "      <td>0</td>\n",
       "      <td>150</td>\n",
       "      <td>0</td>\n",
       "      <td>2.3</td>\n",
       "      <td>0</td>\n",
       "      <td>0</td>\n",
       "      <td>1</td>\n",
       "      <td>1</td>\n",
       "    </tr>\n",
       "    <tr>\n",
       "      <th>1</th>\n",
       "      <td>37</td>\n",
       "      <td>1</td>\n",
       "      <td>2</td>\n",
       "      <td>130</td>\n",
       "      <td>250</td>\n",
       "      <td>0</td>\n",
       "      <td>1</td>\n",
       "      <td>187</td>\n",
       "      <td>0</td>\n",
       "      <td>3.5</td>\n",
       "      <td>0</td>\n",
       "      <td>0</td>\n",
       "      <td>2</td>\n",
       "      <td>1</td>\n",
       "    </tr>\n",
       "    <tr>\n",
       "      <th>2</th>\n",
       "      <td>41</td>\n",
       "      <td>0</td>\n",
       "      <td>1</td>\n",
       "      <td>130</td>\n",
       "      <td>204</td>\n",
       "      <td>0</td>\n",
       "      <td>0</td>\n",
       "      <td>172</td>\n",
       "      <td>0</td>\n",
       "      <td>1.4</td>\n",
       "      <td>2</td>\n",
       "      <td>0</td>\n",
       "      <td>2</td>\n",
       "      <td>1</td>\n",
       "    </tr>\n",
       "    <tr>\n",
       "      <th>3</th>\n",
       "      <td>56</td>\n",
       "      <td>1</td>\n",
       "      <td>1</td>\n",
       "      <td>120</td>\n",
       "      <td>236</td>\n",
       "      <td>0</td>\n",
       "      <td>1</td>\n",
       "      <td>178</td>\n",
       "      <td>0</td>\n",
       "      <td>0.8</td>\n",
       "      <td>2</td>\n",
       "      <td>0</td>\n",
       "      <td>2</td>\n",
       "      <td>1</td>\n",
       "    </tr>\n",
       "    <tr>\n",
       "      <th>4</th>\n",
       "      <td>57</td>\n",
       "      <td>0</td>\n",
       "      <td>0</td>\n",
       "      <td>120</td>\n",
       "      <td>354</td>\n",
       "      <td>0</td>\n",
       "      <td>1</td>\n",
       "      <td>163</td>\n",
       "      <td>1</td>\n",
       "      <td>0.6</td>\n",
       "      <td>2</td>\n",
       "      <td>0</td>\n",
       "      <td>2</td>\n",
       "      <td>1</td>\n",
       "    </tr>\n",
       "  </tbody>\n",
       "</table>\n",
       "</div>"
      ],
      "text/plain": [
       "   age  sex  cp  trestbps  chol  fbs  restecg  thalach  exang  oldpeak  slope  \\\n",
       "0   63    1   3       145   233    1        0      150      0      2.3      0   \n",
       "1   37    1   2       130   250    0        1      187      0      3.5      0   \n",
       "2   41    0   1       130   204    0        0      172      0      1.4      2   \n",
       "3   56    1   1       120   236    0        1      178      0      0.8      2   \n",
       "4   57    0   0       120   354    0        1      163      1      0.6      2   \n",
       "\n",
       "   ca  thal  target  \n",
       "0   0     1       1  \n",
       "1   0     2       1  \n",
       "2   0     2       1  \n",
       "3   0     2       1  \n",
       "4   0     2       1  "
      ]
     },
     "execution_count": 53,
     "metadata": {},
     "output_type": "execute_result"
    }
   ],
   "source": [
    "df.head()"
   ]
  },
  {
   "cell_type": "code",
   "execution_count": 54,
   "id": "spare-split",
   "metadata": {},
   "outputs": [
    {
     "data": {
      "image/png": "[encoded data removed]",
      "text/plain": [
       "<Figure size 1800x1800 with 16 Axes>"
      ]
     },
     "metadata": {
      "needs_background": "light"
     },
     "output_type": "display_data"
    }
   ],
   "source": [
    "import matplotlib.pyplot as plt\n",
    "df.hist(bins=50, figsize=(25,25))\n",
    "plt.show()"
   ]
  },
  {
   "cell_type": "code",
   "execution_count": 55,
   "id": "accepted-multiple",
   "metadata": {},
   "outputs": [],
   "source": [
    "import numpy as np\n",
    "def split_train_test(data, test_ratio):\n",
    "    shuffled_indices = np.random.permutation(len(data))\n",
    "    test_set_size = int(len(data) * test_ratio)\n",
    "    test_indices = shuffled_indices[:test_set_size]\n",
    "    train_indices = shuffled_indices[test_set_size:]\n",
    "    return data.iloc[train_indices], data.iloc[test_indices]"
   ]
  },
  {
   "cell_type": "code",
   "execution_count": 56,
   "id": "revised-measure",
   "metadata": {},
   "outputs": [
    {
     "data": {
      "text/plain": [
       "target      1.000000\n",
       "cp          0.433798\n",
       "thalach     0.421741\n",
       "slope       0.345877\n",
       "restecg     0.137230\n",
       "fbs        -0.028046\n",
       "chol       -0.085239\n",
       "trestbps   -0.144931\n",
       "age        -0.225439\n",
       "sex        -0.280937\n",
       "thal       -0.344029\n",
       "ca         -0.391724\n",
       "oldpeak    -0.430696\n",
       "exang      -0.436757\n",
       "Name: target, dtype: float64"
      ]
     },
     "execution_count": 56,
     "metadata": {},
     "output_type": "execute_result"
    }
   ],
   "source": [
    "corr_matrix = df.corr()\n",
    "corr_matrix[\"target\"].sort_values(ascending=False)"
   ]
  },
  {
   "cell_type": "code",
   "execution_count": 57,
   "id": "stone-newark",
   "metadata": {},
   "outputs": [
    {
     "data": {
      "text/plain": [
       "array([[<AxesSubplot:xlabel='cp', ylabel='cp'>,\n",
       "        <AxesSubplot:xlabel='slope', ylabel='cp'>,\n",
       "        <AxesSubplot:xlabel='thalach', ylabel='cp'>,\n",
       "        <AxesSubplot:xlabel='restecg', ylabel='cp'>,\n",
       "        <AxesSubplot:xlabel='target', ylabel='cp'>],\n",
       "       [<AxesSubplot:xlabel='cp', ylabel='slope'>,\n",
       "        <AxesSubplot:xlabel='slope', ylabel='slope'>,\n",
       "        <AxesSubplot:xlabel='thalach', ylabel='slope'>,\n",
       "        <AxesSubplot:xlabel='restecg', ylabel='slope'>,\n",
       "        <AxesSubplot:xlabel='target', ylabel='slope'>],\n",
       "       [<AxesSubplot:xlabel='cp', ylabel='thalach'>,\n",
       "        <AxesSubplot:xlabel='slope', ylabel='thalach'>,\n",
       "        <AxesSubplot:xlabel='thalach', ylabel='thalach'>,\n",
       "        <AxesSubplot:xlabel='restecg', ylabel='thalach'>,\n",
       "        <AxesSubplot:xlabel='target', ylabel='thalach'>],\n",
       "       [<AxesSubplot:xlabel='cp', ylabel='restecg'>,\n",
       "        <AxesSubplot:xlabel='slope', ylabel='restecg'>,\n",
       "        <AxesSubplot:xlabel='thalach', ylabel='restecg'>,\n",
       "        <AxesSubplot:xlabel='restecg', ylabel='restecg'>,\n",
       "        <AxesSubplot:xlabel='target', ylabel='restecg'>],\n",
       "       [<AxesSubplot:xlabel='cp', ylabel='target'>,\n",
       "        <AxesSubplot:xlabel='slope', ylabel='target'>,\n",
       "        <AxesSubplot:xlabel='thalach', ylabel='target'>,\n",
       "        <AxesSubplot:xlabel='restecg', ylabel='target'>,\n",
       "        <AxesSubplot:xlabel='target', ylabel='target'>]], dtype=object)"
      ]
     },
     "execution_count": 57,
     "metadata": {},
     "output_type": "execute_result"
    },
    {
     "data": {
      "image/png": "[encoded data removed]",
      "text/plain": [
       "<Figure size 1080x1080 with 25 Axes>"
      ]
     },
     "metadata": {
      "needs_background": "light"
     },
     "output_type": "display_data"
    }
   ],
   "source": [
    "from pandas.plotting import scatter_matrix\n",
    "attributes = [\"cp\", \"slope\", \"thalach\", \"restecg\", \"target\"]\n",
    "scatter_matrix(df[attributes], figsize = (15, 15))"
   ]
  },
  {
   "cell_type": "code",
   "execution_count": 58,
   "id": "boolean-colombia",
   "metadata": {},
   "outputs": [],
   "source": [
    "from sklearn.impute import SimpleImputer\n",
    "imputer = SimpleImputer(strategy=\"median\")"
   ]
  },
  {
   "cell_type": "code",
   "execution_count": 59,
   "id": "liable-adapter",
   "metadata": {
    "tags": []
   },
   "outputs": [],
   "source": [
    "from sklearn.pipeline import Pipeline\n",
    "from sklearn.preprocessing import StandardScaler, MinMaxScaler\n",
    "\n",
    "num_pipeline = Pipeline([\n",
    "        ('imputer', SimpleImputer(strategy=\"median\")),\n",
    "        ('std_scaler', MinMaxScaler()),\n",
    "    ])\n"
   ]
  },
  {
   "cell_type": "markdown",
   "id": "improving-recognition",
   "metadata": {},
   "source": [
    "df_num = df.select_dtypes(include=[np.number])\n",
    "df_num_trans = num_pipeline.fit_transform(df_num)\n",
    "df_num_trans\n",
    "df_num_trans.shape"
   ]
  },
  {
   "cell_type": "code",
   "execution_count": 60,
   "id": "czech-chemistry",
   "metadata": {},
   "outputs": [
    {
     "data": {
      "text/plain": [
       "(303, 25)"
      ]
     },
     "execution_count": 60,
     "metadata": {},
     "output_type": "execute_result"
    }
   ],
   "source": [
    "from sklearn.preprocessing import OneHotEncoder\n",
    "from sklearn.compose import ColumnTransformer\n",
    "\n",
    "num_attribs = [\"age\", \"trestbps\", \"chol\", \"thalach\", \"exang\", \"oldpeak\", \"ca\"]\n",
    "cat_attribs = [\"sex\", \"cp\", \"fbs\", \"restecg\", \"slope\", \"thal\"]\n",
    "\n",
    "full_pipeline = ColumnTransformer([\n",
    "        (\"num\", num_pipeline, num_attribs),\n",
    "        (\"cat\", OneHotEncoder(), cat_attribs),\n",
    "    ])\n",
    "heart = df.drop(\"target\", axis = 1)\n",
    "heart_disease = df[\"target\"].copy()\n",
    "heart_prepared = full_pipeline.fit_transform(heart)\n",
    "heart_prepared\n",
    "heart_prepared.shape"
   ]
  },
  {
   "cell_type": "code",
   "execution_count": 61,
   "id": "grateful-acquisition",
   "metadata": {},
   "outputs": [
    {
     "data": {
      "text/html": [
       "<div>\n",
       "<style scoped>\n",
       "    .dataframe tbody tr th:only-of-type {\n",
       "        vertical-align: middle;\n",
       "    }\n",
       "\n",
       "    .dataframe tbody tr th {\n",
       "        vertical-align: top;\n",
       "    }\n",
       "\n",
       "    .dataframe thead th {\n",
       "        text-align: right;\n",
       "    }\n",
       "</style>\n",
       "<table border=\"1\" class=\"dataframe\">\n",
       "  <thead>\n",
       "    <tr style=\"text-align: right;\">\n",
       "      <th></th>\n",
       "      <th>0</th>\n",
       "      <th>1</th>\n",
       "      <th>2</th>\n",
       "      <th>3</th>\n",
       "      <th>4</th>\n",
       "      <th>5</th>\n",
       "      <th>6</th>\n",
       "      <th>7</th>\n",
       "      <th>8</th>\n",
       "      <th>9</th>\n",
       "      <th>...</th>\n",
       "      <th>16</th>\n",
       "      <th>17</th>\n",
       "      <th>18</th>\n",
       "      <th>19</th>\n",
       "      <th>20</th>\n",
       "      <th>21</th>\n",
       "      <th>22</th>\n",
       "      <th>23</th>\n",
       "      <th>24</th>\n",
       "      <th>target</th>\n",
       "    </tr>\n",
       "  </thead>\n",
       "  <tbody>\n",
       "    <tr>\n",
       "      <th>0</th>\n",
       "      <td>0.708333</td>\n",
       "      <td>0.481132</td>\n",
       "      <td>0.244292</td>\n",
       "      <td>0.603053</td>\n",
       "      <td>0.0</td>\n",
       "      <td>0.370968</td>\n",
       "      <td>0.00</td>\n",
       "      <td>0.0</td>\n",
       "      <td>1.0</td>\n",
       "      <td>0.0</td>\n",
       "      <td>...</td>\n",
       "      <td>0.0</td>\n",
       "      <td>0.0</td>\n",
       "      <td>1.0</td>\n",
       "      <td>0.0</td>\n",
       "      <td>0.0</td>\n",
       "      <td>0.0</td>\n",
       "      <td>1.0</td>\n",
       "      <td>0.0</td>\n",
       "      <td>0.0</td>\n",
       "      <td>1</td>\n",
       "    </tr>\n",
       "    <tr>\n",
       "      <th>1</th>\n",
       "      <td>0.166667</td>\n",
       "      <td>0.339623</td>\n",
       "      <td>0.283105</td>\n",
       "      <td>0.885496</td>\n",
       "      <td>0.0</td>\n",
       "      <td>0.564516</td>\n",
       "      <td>0.00</td>\n",
       "      <td>0.0</td>\n",
       "      <td>1.0</td>\n",
       "      <td>0.0</td>\n",
       "      <td>...</td>\n",
       "      <td>1.0</td>\n",
       "      <td>0.0</td>\n",
       "      <td>1.0</td>\n",
       "      <td>0.0</td>\n",
       "      <td>0.0</td>\n",
       "      <td>0.0</td>\n",
       "      <td>0.0</td>\n",
       "      <td>1.0</td>\n",
       "      <td>0.0</td>\n",
       "      <td>1</td>\n",
       "    </tr>\n",
       "    <tr>\n",
       "      <th>2</th>\n",
       "      <td>0.250000</td>\n",
       "      <td>0.339623</td>\n",
       "      <td>0.178082</td>\n",
       "      <td>0.770992</td>\n",
       "      <td>0.0</td>\n",
       "      <td>0.225806</td>\n",
       "      <td>0.00</td>\n",
       "      <td>1.0</td>\n",
       "      <td>0.0</td>\n",
       "      <td>0.0</td>\n",
       "      <td>...</td>\n",
       "      <td>0.0</td>\n",
       "      <td>0.0</td>\n",
       "      <td>0.0</td>\n",
       "      <td>0.0</td>\n",
       "      <td>1.0</td>\n",
       "      <td>0.0</td>\n",
       "      <td>0.0</td>\n",
       "      <td>1.0</td>\n",
       "      <td>0.0</td>\n",
       "      <td>1</td>\n",
       "    </tr>\n",
       "    <tr>\n",
       "      <th>3</th>\n",
       "      <td>0.562500</td>\n",
       "      <td>0.245283</td>\n",
       "      <td>0.251142</td>\n",
       "      <td>0.816794</td>\n",
       "      <td>0.0</td>\n",
       "      <td>0.129032</td>\n",
       "      <td>0.00</td>\n",
       "      <td>0.0</td>\n",
       "      <td>1.0</td>\n",
       "      <td>0.0</td>\n",
       "      <td>...</td>\n",
       "      <td>1.0</td>\n",
       "      <td>0.0</td>\n",
       "      <td>0.0</td>\n",
       "      <td>0.0</td>\n",
       "      <td>1.0</td>\n",
       "      <td>0.0</td>\n",
       "      <td>0.0</td>\n",
       "      <td>1.0</td>\n",
       "      <td>0.0</td>\n",
       "      <td>1</td>\n",
       "    </tr>\n",
       "    <tr>\n",
       "      <th>4</th>\n",
       "      <td>0.583333</td>\n",
       "      <td>0.245283</td>\n",
       "      <td>0.520548</td>\n",
       "      <td>0.702290</td>\n",
       "      <td>1.0</td>\n",
       "      <td>0.096774</td>\n",
       "      <td>0.00</td>\n",
       "      <td>1.0</td>\n",
       "      <td>0.0</td>\n",
       "      <td>1.0</td>\n",
       "      <td>...</td>\n",
       "      <td>1.0</td>\n",
       "      <td>0.0</td>\n",
       "      <td>0.0</td>\n",
       "      <td>0.0</td>\n",
       "      <td>1.0</td>\n",
       "      <td>0.0</td>\n",
       "      <td>0.0</td>\n",
       "      <td>1.0</td>\n",
       "      <td>0.0</td>\n",
       "      <td>1</td>\n",
       "    </tr>\n",
       "    <tr>\n",
       "      <th>...</th>\n",
       "      <td>...</td>\n",
       "      <td>...</td>\n",
       "      <td>...</td>\n",
       "      <td>...</td>\n",
       "      <td>...</td>\n",
       "      <td>...</td>\n",
       "      <td>...</td>\n",
       "      <td>...</td>\n",
       "      <td>...</td>\n",
       "      <td>...</td>\n",
       "      <td>...</td>\n",
       "      <td>...</td>\n",
       "      <td>...</td>\n",
       "      <td>...</td>\n",
       "      <td>...</td>\n",
       "      <td>...</td>\n",
       "      <td>...</td>\n",
       "      <td>...</td>\n",
       "      <td>...</td>\n",
       "      <td>...</td>\n",
       "      <td>...</td>\n",
       "    </tr>\n",
       "    <tr>\n",
       "      <th>298</th>\n",
       "      <td>0.583333</td>\n",
       "      <td>0.433962</td>\n",
       "      <td>0.262557</td>\n",
       "      <td>0.396947</td>\n",
       "      <td>1.0</td>\n",
       "      <td>0.032258</td>\n",
       "      <td>0.00</td>\n",
       "      <td>1.0</td>\n",
       "      <td>0.0</td>\n",
       "      <td>1.0</td>\n",
       "      <td>...</td>\n",
       "      <td>1.0</td>\n",
       "      <td>0.0</td>\n",
       "      <td>0.0</td>\n",
       "      <td>1.0</td>\n",
       "      <td>0.0</td>\n",
       "      <td>0.0</td>\n",
       "      <td>0.0</td>\n",
       "      <td>0.0</td>\n",
       "      <td>1.0</td>\n",
       "      <td>0</td>\n",
       "    </tr>\n",
       "    <tr>\n",
       "      <th>299</th>\n",
       "      <td>0.333333</td>\n",
       "      <td>0.150943</td>\n",
       "      <td>0.315068</td>\n",
       "      <td>0.465649</td>\n",
       "      <td>0.0</td>\n",
       "      <td>0.193548</td>\n",
       "      <td>0.00</td>\n",
       "      <td>0.0</td>\n",
       "      <td>1.0</td>\n",
       "      <td>0.0</td>\n",
       "      <td>...</td>\n",
       "      <td>1.0</td>\n",
       "      <td>0.0</td>\n",
       "      <td>0.0</td>\n",
       "      <td>1.0</td>\n",
       "      <td>0.0</td>\n",
       "      <td>0.0</td>\n",
       "      <td>0.0</td>\n",
       "      <td>0.0</td>\n",
       "      <td>1.0</td>\n",
       "      <td>0</td>\n",
       "    </tr>\n",
       "    <tr>\n",
       "      <th>300</th>\n",
       "      <td>0.812500</td>\n",
       "      <td>0.471698</td>\n",
       "      <td>0.152968</td>\n",
       "      <td>0.534351</td>\n",
       "      <td>0.0</td>\n",
       "      <td>0.548387</td>\n",
       "      <td>0.50</td>\n",
       "      <td>0.0</td>\n",
       "      <td>1.0</td>\n",
       "      <td>1.0</td>\n",
       "      <td>...</td>\n",
       "      <td>1.0</td>\n",
       "      <td>0.0</td>\n",
       "      <td>0.0</td>\n",
       "      <td>1.0</td>\n",
       "      <td>0.0</td>\n",
       "      <td>0.0</td>\n",
       "      <td>0.0</td>\n",
       "      <td>0.0</td>\n",
       "      <td>1.0</td>\n",
       "      <td>0</td>\n",
       "    </tr>\n",
       "    <tr>\n",
       "      <th>301</th>\n",
       "      <td>0.583333</td>\n",
       "      <td>0.339623</td>\n",
       "      <td>0.011416</td>\n",
       "      <td>0.335878</td>\n",
       "      <td>1.0</td>\n",
       "      <td>0.193548</td>\n",
       "      <td>0.25</td>\n",
       "      <td>0.0</td>\n",
       "      <td>1.0</td>\n",
       "      <td>1.0</td>\n",
       "      <td>...</td>\n",
       "      <td>1.0</td>\n",
       "      <td>0.0</td>\n",
       "      <td>0.0</td>\n",
       "      <td>1.0</td>\n",
       "      <td>0.0</td>\n",
       "      <td>0.0</td>\n",
       "      <td>0.0</td>\n",
       "      <td>0.0</td>\n",
       "      <td>1.0</td>\n",
       "      <td>0</td>\n",
       "    </tr>\n",
       "    <tr>\n",
       "      <th>302</th>\n",
       "      <td>0.583333</td>\n",
       "      <td>0.339623</td>\n",
       "      <td>0.251142</td>\n",
       "      <td>0.786260</td>\n",
       "      <td>0.0</td>\n",
       "      <td>0.000000</td>\n",
       "      <td>0.25</td>\n",
       "      <td>1.0</td>\n",
       "      <td>0.0</td>\n",
       "      <td>0.0</td>\n",
       "      <td>...</td>\n",
       "      <td>0.0</td>\n",
       "      <td>0.0</td>\n",
       "      <td>0.0</td>\n",
       "      <td>1.0</td>\n",
       "      <td>0.0</td>\n",
       "      <td>0.0</td>\n",
       "      <td>0.0</td>\n",
       "      <td>1.0</td>\n",
       "      <td>0.0</td>\n",
       "      <td>0</td>\n",
       "    </tr>\n",
       "  </tbody>\n",
       "</table>\n",
       "<p>303 rows × 26 columns</p>\n",
       "</div>"
      ],
      "text/plain": [
       "            0         1         2         3    4         5     6    7    8  \\\n",
       "0    0.708333  0.481132  0.244292  0.603053  0.0  0.370968  0.00  0.0  1.0   \n",
       "1    0.166667  0.339623  0.283105  0.885496  0.0  0.564516  0.00  0.0  1.0   \n",
       "2    0.250000  0.339623  0.178082  0.770992  0.0  0.225806  0.00  1.0  0.0   \n",
       "3    0.562500  0.245283  0.251142  0.816794  0.0  0.129032  0.00  0.0  1.0   \n",
       "4    0.583333  0.245283  0.520548  0.702290  1.0  0.096774  0.00  1.0  0.0   \n",
       "..        ...       ...       ...       ...  ...       ...   ...  ...  ...   \n",
       "298  0.583333  0.433962  0.262557  0.396947  1.0  0.032258  0.00  1.0  0.0   \n",
       "299  0.333333  0.150943  0.315068  0.465649  0.0  0.193548  0.00  0.0  1.0   \n",
       "300  0.812500  0.471698  0.152968  0.534351  0.0  0.548387  0.50  0.0  1.0   \n",
       "301  0.583333  0.339623  0.011416  0.335878  1.0  0.193548  0.25  0.0  1.0   \n",
       "302  0.583333  0.339623  0.251142  0.786260  0.0  0.000000  0.25  1.0  0.0   \n",
       "\n",
       "       9  ...   16   17   18   19   20   21   22   23   24  target  \n",
       "0    0.0  ...  0.0  0.0  1.0  0.0  0.0  0.0  1.0  0.0  0.0       1  \n",
       "1    0.0  ...  1.0  0.0  1.0  0.0  0.0  0.0  0.0  1.0  0.0       1  \n",
       "2    0.0  ...  0.0  0.0  0.0  0.0  1.0  0.0  0.0  1.0  0.0       1  \n",
       "3    0.0  ...  1.0  0.0  0.0  0.0  1.0  0.0  0.0  1.0  0.0       1  \n",
       "4    1.0  ...  1.0  0.0  0.0  0.0  1.0  0.0  0.0  1.0  0.0       1  \n",
       "..   ...  ...  ...  ...  ...  ...  ...  ...  ...  ...  ...     ...  \n",
       "298  1.0  ...  1.0  0.0  0.0  1.0  0.0  0.0  0.0  0.0  1.0       0  \n",
       "299  0.0  ...  1.0  0.0  0.0  1.0  0.0  0.0  0.0  0.0  1.0       0  \n",
       "300  1.0  ...  1.0  0.0  0.0  1.0  0.0  0.0  0.0  0.0  1.0       0  \n",
       "301  1.0  ...  1.0  0.0  0.0  1.0  0.0  0.0  0.0  0.0  1.0       0  \n",
       "302  0.0  ...  0.0  0.0  0.0  1.0  0.0  0.0  0.0  1.0  0.0       0  \n",
       "\n",
       "[303 rows x 26 columns]"
      ]
     },
     "execution_count": 61,
     "metadata": {},
     "output_type": "execute_result"
    }
   ],
   "source": [
    "heart_df = pd.DataFrame(heart_prepared)\n",
    "heart_df[\"target\"] = heart_disease\n",
    "heart_df"
   ]
  },
  {
   "cell_type": "code",
   "execution_count": 62,
   "id": "tender-auditor",
   "metadata": {
    "tags": []
   },
   "outputs": [
    {
     "data": {
      "text/plain": [
       "(303, 26)"
      ]
     },
     "execution_count": 62,
     "metadata": {},
     "output_type": "execute_result"
    }
   ],
   "source": [
    "train_set, test_set = split_train_test(heart_df, 0.2)\n",
    "heart_df.shape"
   ]
  },
  {
   "cell_type": "code",
   "execution_count": 63,
   "id": "available-reviewer",
   "metadata": {},
   "outputs": [
    {
     "data": {
      "text/plain": [
       "(243, 26)"
      ]
     },
     "execution_count": 63,
     "metadata": {},
     "output_type": "execute_result"
    }
   ],
   "source": [
    "train_set.shape"
   ]
  },
  {
   "cell_type": "code",
   "execution_count": 64,
   "id": "romantic-garage",
   "metadata": {},
   "outputs": [
    {
     "data": {
      "text/plain": [
       "(60, 26)"
      ]
     },
     "execution_count": 64,
     "metadata": {},
     "output_type": "execute_result"
    }
   ],
   "source": [
    "test_set.shape"
   ]
  },
  {
   "cell_type": "code",
   "execution_count": 65,
   "id": "immune-surface",
   "metadata": {},
   "outputs": [
    {
     "name": "stdout",
     "output_type": "stream",
     "text": [
      "           0         1         2         3    4         5     6    7    8   \\\n",
      "264  0.520833  0.150943  0.182648  0.282443  1.0  0.000000  0.25  0.0  1.0   \n",
      "129  0.937500  0.245283  0.326484  0.381679  1.0  0.032258  0.25  1.0  0.0   \n",
      "78   0.479167  0.320755  0.180365  0.862595  0.0  0.000000  0.00  0.0  1.0   \n",
      "201  0.645833  0.292453  0.301370  0.534351  1.0  0.451613  0.25  0.0  1.0   \n",
      "244  0.562500  0.358491  0.132420  0.259542  1.0  0.338710  0.25  0.0  1.0   \n",
      "..        ...       ...       ...       ...  ...       ...   ...  ...  ...   \n",
      "100  0.270833  0.509434  0.269406  0.816794  0.0  0.129032  0.50  0.0  1.0   \n",
      "196  0.354167  0.528302  0.239726  0.580153  0.0  0.580645  0.00  0.0  1.0   \n",
      "102  0.708333  0.433962  0.157534  0.824427  0.0  0.000000  0.50  1.0  0.0   \n",
      "127  0.791667  0.547170  0.344749  0.770992  0.0  0.000000  0.25  1.0  0.0   \n",
      "228  0.625000  0.716981  0.369863  0.671756  0.0  0.032258  0.00  0.0  1.0   \n",
      "\n",
      "      9   ...   15   16   17   18   19   20   21   22   23   24  \n",
      "264  1.0  ...  1.0  0.0  0.0  0.0  1.0  0.0  0.0  0.0  1.0  0.0  \n",
      "129  0.0  ...  1.0  0.0  0.0  0.0  0.0  1.0  0.0  0.0  1.0  0.0  \n",
      "78   0.0  ...  0.0  1.0  0.0  0.0  0.0  1.0  0.0  0.0  1.0  0.0  \n",
      "201  1.0  ...  1.0  0.0  0.0  0.0  1.0  0.0  0.0  0.0  0.0  1.0  \n",
      "244  1.0  ...  1.0  0.0  0.0  0.0  1.0  0.0  0.0  1.0  0.0  0.0  \n",
      "..   ...  ...  ...  ...  ...  ...  ...  ...  ...  ...  ...  ...  \n",
      "100  0.0  ...  1.0  0.0  0.0  0.0  0.0  1.0  0.0  0.0  1.0  0.0  \n",
      "196  0.0  ...  0.0  1.0  0.0  0.0  1.0  0.0  0.0  0.0  1.0  0.0  \n",
      "102  0.0  ...  0.0  1.0  0.0  0.0  0.0  1.0  0.0  0.0  1.0  0.0  \n",
      "127  0.0  ...  0.0  1.0  0.0  0.0  0.0  1.0  0.0  0.0  1.0  0.0  \n",
      "228  0.0  ...  1.0  0.0  0.0  0.0  1.0  0.0  0.0  0.0  0.0  1.0  \n",
      "\n",
      "[243 rows x 25 columns]\n",
      "264    0\n",
      "129    1\n",
      "78     1\n",
      "201    0\n",
      "244    0\n",
      "      ..\n",
      "100    1\n",
      "196    0\n",
      "102    1\n",
      "127    1\n",
      "228    0\n",
      "Name: target, Length: 243, dtype: int64\n"
     ]
    }
   ],
   "source": [
    "x = train_set.iloc[:,:25]\n",
    "y = train_set.iloc[:,25]\n",
    "print(x)\n",
    "print(y)"
   ]
  },
  {
   "cell_type": "code",
   "execution_count": 66,
   "id": "direct-witness",
   "metadata": {
    "tags": []
   },
   "outputs": [
    {
     "name": "stdout",
     "output_type": "stream",
     "text": [
      "           0         1         2         3    4         5     6    7    8   \\\n",
      "206  0.625000  0.150943  0.257991  0.541985  1.0  0.193548  0.25  0.0  1.0   \n",
      "185  0.312500  0.169811  0.374429  0.625954  0.0  0.000000  0.25  0.0  1.0   \n",
      "92   0.479167  0.415094  0.221461  0.748092  0.0  0.000000  1.00  0.0  1.0   \n",
      "176  0.645833  0.216981  0.237443  0.679389  1.0  0.225806  0.50  0.0  1.0   \n",
      "230  0.375000  0.132075  0.267123  0.618321  0.0  0.000000  0.00  0.0  1.0   \n",
      "182  0.666667  0.339623  0.465753  0.748092  0.0  0.000000  0.00  1.0  0.0   \n",
      "117  0.562500  0.245283  0.152968  0.694656  0.0  0.306452  0.00  0.0  1.0   \n",
      "57   0.333333  0.198113  0.305936  0.870229  0.0  0.000000  0.00  0.0  1.0   \n",
      "159  0.562500  0.339623  0.216895  0.702290  0.0  0.000000  0.00  0.0  1.0   \n",
      "87   0.354167  0.066038  0.162100  0.648855  0.0  0.000000  0.00  0.0  1.0   \n",
      "29   0.500000  0.339623  0.162100  0.618321  0.0  0.193548  0.00  0.0  1.0   \n",
      "218  0.750000  0.386792  0.292237  0.427481  0.0  0.451613  0.25  0.0  1.0   \n",
      "112  0.729167  0.433962  0.426941  0.473282  0.0  0.032258  0.00  1.0  0.0   \n",
      "115  0.166667  0.245283  0.203196  0.755725  0.0  0.000000  0.00  1.0  0.0   \n",
      "86   0.812500  0.226415  0.344749  0.610687  0.0  0.161290  0.25  0.0  1.0   \n",
      "12   0.416667  0.339623  0.319635  0.763359  0.0  0.096774  0.00  0.0  1.0   \n",
      "124  0.208333  0.000000  0.166667  0.824427  0.0  0.000000  0.00  1.0  0.0   \n",
      "273  0.604167  0.056604  0.246575  0.648855  0.0  0.016129  0.25  0.0  1.0   \n",
      "290  0.666667  0.509434  0.175799  0.687023  0.0  0.000000  0.25  0.0  1.0   \n",
      "8    0.479167  0.735849  0.166667  0.694656  0.0  0.080645  0.00  0.0  1.0   \n",
      "279  0.666667  0.415094  0.091324  0.412214  1.0  0.580645  0.25  0.0  1.0   \n",
      "68   0.312500  0.245283  0.214612  0.755725  0.0  0.000000  0.00  0.0  1.0   \n",
      "83   0.479167  0.547170  0.392694  0.816794  0.0  0.193548  0.00  0.0  1.0   \n",
      "120  0.729167  0.339623  0.404110  0.389313  0.0  0.322581  0.50  1.0  0.0   \n",
      "190  0.458333  0.339623  0.408676  0.541985  1.0  0.193548  0.00  1.0  0.0   \n",
      "137  0.687500  0.320755  0.187215  0.526718  0.0  0.000000  0.00  0.0  1.0   \n",
      "76   0.458333  0.292453  0.271689  0.725191  0.0  0.387097  0.00  0.0  1.0   \n",
      "97   0.479167  0.132075  0.244292  0.580153  0.0  0.016129  0.75  0.0  1.0   \n",
      "161  0.541667  0.358491  0.493151  0.725191  0.0  0.193548  0.00  1.0  0.0   \n",
      "59   0.583333  0.320755  0.404110  0.671756  0.0  0.000000  0.25  1.0  0.0   \n",
      "235  0.458333  0.433962  0.394977  0.778626  1.0  0.258065  0.00  0.0  1.0   \n",
      "38   0.750000  0.575472  0.326484  0.587786  0.0  0.129032  0.00  1.0  0.0   \n",
      "111  0.583333  0.528302  0.000000  0.778626  0.0  0.032258  0.25  0.0  1.0   \n",
      "109  0.437500  0.150943  0.292237  0.671756  0.0  0.000000  0.00  1.0  0.0   \n",
      "114  0.541667  0.339623  0.310502  0.641221  0.0  0.000000  0.00  0.0  1.0   \n",
      "179  0.583333  0.528302  0.342466  0.312977  1.0  0.096774  0.25  0.0  1.0   \n",
      "145  0.854167  0.584906  0.271689  0.549618  0.0  0.000000  0.00  0.0  1.0   \n",
      "139  0.729167  0.320755  0.312785  0.259542  1.0  0.032258  0.25  0.0  1.0   \n",
      "216  0.687500  0.339623  0.312785  0.198473  0.0  0.193548  0.25  1.0  0.0   \n",
      "256  0.604167  0.320755  0.303653  0.450382  1.0  0.483871  0.50  0.0  1.0   \n",
      "278  0.604167  0.396226  0.440639  0.618321  0.0  0.000000  0.50  1.0  0.0   \n",
      "302  0.583333  0.339623  0.251142  0.786260  0.0  0.000000  0.25  1.0  0.0   \n",
      "2    0.250000  0.339623  0.178082  0.770992  0.0  0.225806  0.00  1.0  0.0   \n",
      "60   0.875000  0.150943  0.317352  0.450382  0.0  0.000000  0.25  1.0  0.0   \n",
      "81   0.333333  0.320755  0.415525  0.755725  0.0  0.000000  0.00  0.0  1.0   \n",
      "140  0.458333  0.245283  0.385845  0.656489  0.0  0.096774  0.00  1.0  0.0   \n",
      "99   0.500000  0.339623  0.273973  0.778626  0.0  0.000000  0.75  0.0  1.0   \n",
      "49   0.500000  0.415094  0.246575  0.679389  0.0  0.000000  0.00  1.0  0.0   \n",
      "91   0.583333  0.358491  0.184932  0.740458  1.0  0.000000  0.00  0.0  1.0   \n",
      "194  0.645833  0.433962  0.134703  0.641221  0.0  0.483871  0.00  0.0  1.0   \n",
      "142  0.270833  0.245283  0.189498  0.778626  0.0  0.000000  0.00  1.0  0.0   \n",
      "255  0.333333  0.452830  0.417808  0.580153  1.0  0.000000  0.75  0.0  1.0   \n",
      "188  0.437500  0.433962  0.244292  0.702290  0.0  0.096774  0.25  0.0  1.0   \n",
      "270  0.354167  0.245283  0.280822  0.557252  0.0  0.129032  0.00  0.0  1.0   \n",
      "32   0.312500  0.339623  0.212329  0.893130  0.0  0.000000  0.00  0.0  1.0   \n",
      "55   0.479167  0.377358  0.171233  0.664122  0.0  0.129032  0.25  0.0  1.0   \n",
      "252  0.687500  0.415094  0.383562  0.267176  0.0  0.306452  0.75  1.0  0.0   \n",
      "90   0.395833  0.283019  0.294521  0.793893  0.0  0.000000  0.50  0.0  1.0   \n",
      "191  0.604167  0.320755  0.205479  0.458015  1.0  0.354839  0.75  0.0  1.0   \n",
      "151  0.875000  0.169811  0.052511  0.412214  0.0  0.258065  0.00  1.0  0.0   \n",
      "\n",
      "      9   ...   15   16   17   18   19   20   21   22   23   24  \n",
      "206  1.0  ...  1.0  0.0  0.0  0.0  1.0  0.0  0.0  0.0  0.0  1.0  \n",
      "185  1.0  ...  1.0  0.0  0.0  0.0  0.0  1.0  0.0  0.0  1.0  0.0  \n",
      "92   0.0  ...  0.0  1.0  0.0  0.0  0.0  1.0  0.0  0.0  1.0  0.0  \n",
      "176  1.0  ...  0.0  1.0  0.0  0.0  0.0  1.0  0.0  0.0  0.0  1.0  \n",
      "230  0.0  ...  0.0  1.0  0.0  0.0  0.0  1.0  0.0  0.0  1.0  0.0  \n",
      "182  1.0  ...  1.0  0.0  0.0  0.0  0.0  1.0  0.0  0.0  1.0  0.0  \n",
      "117  0.0  ...  1.0  0.0  0.0  0.0  1.0  0.0  0.0  0.0  0.0  1.0  \n",
      "57   1.0  ...  1.0  0.0  0.0  0.0  0.0  1.0  0.0  0.0  1.0  0.0  \n",
      "159  0.0  ...  1.0  0.0  0.0  0.0  0.0  1.0  0.0  0.0  0.0  1.0  \n",
      "87   0.0  ...  0.0  1.0  0.0  0.0  0.0  1.0  0.0  0.0  0.0  1.0  \n",
      "29   0.0  ...  1.0  0.0  0.0  1.0  0.0  0.0  0.0  0.0  1.0  0.0  \n",
      "218  1.0  ...  1.0  0.0  0.0  0.0  1.0  0.0  0.0  0.0  0.0  1.0  \n",
      "112  0.0  ...  0.0  1.0  0.0  0.0  0.0  1.0  0.0  0.0  0.0  1.0  \n",
      "115  0.0  ...  0.0  1.0  0.0  0.0  0.0  1.0  0.0  0.0  1.0  0.0  \n",
      "86   0.0  ...  0.0  1.0  0.0  0.0  0.0  1.0  0.0  0.0  0.0  1.0  \n",
      "12   0.0  ...  0.0  1.0  0.0  0.0  0.0  1.0  0.0  0.0  1.0  0.0  \n",
      "124  0.0  ...  0.0  1.0  0.0  0.0  0.0  1.0  0.0  0.0  1.0  0.0  \n",
      "273  1.0  ...  0.0  1.0  0.0  0.0  0.0  1.0  0.0  0.0  0.0  1.0  \n",
      "290  1.0  ...  0.0  1.0  0.0  0.0  0.0  1.0  0.0  0.0  0.0  1.0  \n",
      "8    0.0  ...  0.0  1.0  0.0  0.0  0.0  1.0  0.0  0.0  0.0  1.0  \n",
      "279  1.0  ...  1.0  0.0  0.0  0.0  1.0  0.0  0.0  0.0  1.0  0.0  \n",
      "68   0.0  ...  0.0  1.0  0.0  0.0  0.0  1.0  0.0  0.0  1.0  0.0  \n",
      "83   0.0  ...  0.0  1.0  0.0  0.0  1.0  0.0  0.0  0.0  0.0  1.0  \n",
      "120  1.0  ...  0.0  1.0  0.0  0.0  1.0  0.0  0.0  0.0  1.0  0.0  \n",
      "190  1.0  ...  0.0  1.0  0.0  0.0  1.0  0.0  0.0  0.0  0.0  1.0  \n",
      "137  0.0  ...  1.0  0.0  0.0  0.0  0.0  1.0  0.0  0.0  1.0  0.0  \n",
      "76   0.0  ...  1.0  0.0  0.0  0.0  1.0  0.0  0.0  0.0  1.0  0.0  \n",
      "97   1.0  ...  0.0  1.0  0.0  0.0  0.0  1.0  0.0  0.0  0.0  1.0  \n",
      "161  0.0  ...  0.0  1.0  0.0  0.0  0.0  1.0  0.0  0.0  1.0  0.0  \n",
      "59   1.0  ...  1.0  0.0  0.0  0.0  0.0  1.0  0.0  0.0  1.0  0.0  \n",
      "235  1.0  ...  0.0  1.0  0.0  0.0  0.0  1.0  0.0  0.0  0.0  1.0  \n",
      "38   0.0  ...  0.0  1.0  0.0  0.0  0.0  1.0  0.0  0.0  1.0  0.0  \n",
      "111  0.0  ...  0.0  1.0  0.0  0.0  0.0  1.0  0.0  0.0  0.0  1.0  \n",
      "109  1.0  ...  1.0  0.0  0.0  0.0  0.0  1.0  0.0  0.0  1.0  0.0  \n",
      "114  0.0  ...  0.0  1.0  0.0  0.0  0.0  1.0  0.0  0.0  1.0  0.0  \n",
      "179  1.0  ...  1.0  0.0  0.0  0.0  1.0  0.0  0.0  1.0  0.0  0.0  \n",
      "145  0.0  ...  1.0  0.0  0.0  0.0  0.0  1.0  0.0  0.0  1.0  0.0  \n",
      "139  1.0  ...  0.0  1.0  0.0  0.0  1.0  0.0  0.0  0.0  0.0  1.0  \n",
      "216  0.0  ...  0.0  1.0  0.0  0.0  1.0  0.0  0.0  0.0  0.0  1.0  \n",
      "256  1.0  ...  1.0  0.0  0.0  0.0  1.0  0.0  0.0  0.0  0.0  1.0  \n",
      "278  0.0  ...  1.0  0.0  0.0  0.0  0.0  1.0  0.0  0.0  1.0  0.0  \n",
      "302  0.0  ...  1.0  0.0  0.0  0.0  1.0  0.0  0.0  0.0  1.0  0.0  \n",
      "2    0.0  ...  1.0  0.0  0.0  0.0  0.0  1.0  0.0  0.0  1.0  0.0  \n",
      "60   0.0  ...  1.0  0.0  0.0  0.0  0.0  1.0  0.0  0.0  1.0  0.0  \n",
      "81   0.0  ...  1.0  0.0  0.0  0.0  0.0  1.0  0.0  0.0  1.0  0.0  \n",
      "140  0.0  ...  1.0  0.0  0.0  0.0  0.0  1.0  0.0  0.0  1.0  0.0  \n",
      "99   0.0  ...  1.0  0.0  0.0  0.0  0.0  1.0  0.0  0.0  1.0  0.0  \n",
      "49   1.0  ...  1.0  0.0  0.0  0.0  0.0  1.0  0.0  0.0  1.0  0.0  \n",
      "91   1.0  ...  0.0  1.0  0.0  0.0  0.0  1.0  0.0  0.0  0.0  1.0  \n",
      "194  0.0  ...  1.0  0.0  0.0  0.0  1.0  0.0  0.0  0.0  1.0  0.0  \n",
      "142  0.0  ...  0.0  1.0  0.0  0.0  1.0  0.0  0.0  0.0  1.0  0.0  \n",
      "255  1.0  ...  1.0  0.0  0.0  0.0  1.0  0.0  0.0  0.0  0.0  1.0  \n",
      "188  0.0  ...  0.0  1.0  0.0  0.0  1.0  0.0  0.0  0.0  0.0  1.0  \n",
      "270  1.0  ...  1.0  0.0  0.0  0.0  0.0  1.0  0.0  0.0  0.0  1.0  \n",
      "32   0.0  ...  1.0  0.0  0.0  0.0  0.0  1.0  0.0  0.0  1.0  0.0  \n",
      "55   0.0  ...  0.0  1.0  0.0  0.0  0.0  1.0  0.0  0.0  1.0  0.0  \n",
      "252  1.0  ...  0.0  1.0  0.0  0.0  1.0  0.0  0.0  0.0  1.0  0.0  \n",
      "90   0.0  ...  0.0  1.0  0.0  0.0  0.0  1.0  0.0  0.0  1.0  0.0  \n",
      "191  1.0  ...  1.0  0.0  0.0  0.0  1.0  0.0  0.0  0.0  0.0  1.0  \n",
      "151  1.0  ...  0.0  1.0  0.0  0.0  1.0  0.0  0.0  0.0  1.0  0.0  \n",
      "\n",
      "[60 rows x 25 columns]\n",
      "206    0\n",
      "185    0\n",
      "92     1\n",
      "176    0\n",
      "230    0\n",
      "182    0\n",
      "117    1\n",
      "57     1\n",
      "159    1\n",
      "87     1\n",
      "29     1\n",
      "218    0\n",
      "112    1\n",
      "115    1\n",
      "86     1\n",
      "12     1\n",
      "124    1\n",
      "273    0\n",
      "290    0\n",
      "8      1\n",
      "279    0\n",
      "68     1\n",
      "83     1\n",
      "120    1\n",
      "190    0\n",
      "137    1\n",
      "76     1\n",
      "97     1\n",
      "161    1\n",
      "59     1\n",
      "235    0\n",
      "38     1\n",
      "111    1\n",
      "109    1\n",
      "114    1\n",
      "179    0\n",
      "145    1\n",
      "139    1\n",
      "216    0\n",
      "256    0\n",
      "278    0\n",
      "302    0\n",
      "2      1\n",
      "60     1\n",
      "81     1\n",
      "140    1\n",
      "99     1\n",
      "49     1\n",
      "91     1\n",
      "194    0\n",
      "142    1\n",
      "255    0\n",
      "188    0\n",
      "270    0\n",
      "32     1\n",
      "55     1\n",
      "252    0\n",
      "90     1\n",
      "191    0\n",
      "151    1\n",
      "Name: target, dtype: int64\n"
     ]
    }
   ],
   "source": [
    "X = test_set.iloc[:,:25]\n",
    "Y = test_set.iloc[:,25]\n",
    "print(X)\n",
    "print(Y)"
   ]
  },
  {
   "cell_type": "code",
   "execution_count": 67,
   "id": "associate-investigator",
   "metadata": {},
   "outputs": [],
   "source": [
    "def display_scores(scores):\n",
    "    print(\"Scores:\",scores)\n",
    "    print(\"Mean:\",scores.mean())\n",
    "    print(\"Standard deviation:\",scores.std())\n",
    "    "
   ]
  },
  {
   "cell_type": "code",
   "execution_count": 68,
   "id": "raising-quantity",
   "metadata": {},
   "outputs": [
    {
     "name": "stderr",
     "output_type": "stream",
     "text": [
      "<ipython-input-68-9ab303c0ac01>:4: SettingWithCopyWarning: \n",
      "A value is trying to be set on a copy of a slice from a DataFrame.\n",
      "Try using .loc[row_indexer,col_indexer] = value instead\n",
      "\n",
      "See the caveats in the documentation: https://pandas.pydata.org/pandas-docs/stable/user_guide/indexing.html#returning-a-view-versus-a-copy\n",
      "  test_set[\"predicted\"] = tree.predict(X.iloc[:,:])\n"
     ]
    },
    {
     "data": {
      "text/html": [
       "<div>\n",
       "<style scoped>\n",
       "    .dataframe tbody tr th:only-of-type {\n",
       "        vertical-align: middle;\n",
       "    }\n",
       "\n",
       "    .dataframe tbody tr th {\n",
       "        vertical-align: top;\n",
       "    }\n",
       "\n",
       "    .dataframe thead th {\n",
       "        text-align: right;\n",
       "    }\n",
       "</style>\n",
       "<table border=\"1\" class=\"dataframe\">\n",
       "  <thead>\n",
       "    <tr style=\"text-align: right;\">\n",
       "      <th></th>\n",
       "      <th>0</th>\n",
       "      <th>1</th>\n",
       "      <th>2</th>\n",
       "      <th>3</th>\n",
       "      <th>4</th>\n",
       "      <th>5</th>\n",
       "      <th>6</th>\n",
       "      <th>7</th>\n",
       "      <th>8</th>\n",
       "      <th>9</th>\n",
       "      <th>...</th>\n",
       "      <th>17</th>\n",
       "      <th>18</th>\n",
       "      <th>19</th>\n",
       "      <th>20</th>\n",
       "      <th>21</th>\n",
       "      <th>22</th>\n",
       "      <th>23</th>\n",
       "      <th>24</th>\n",
       "      <th>target</th>\n",
       "      <th>predicted</th>\n",
       "    </tr>\n",
       "  </thead>\n",
       "  <tbody>\n",
       "    <tr>\n",
       "      <th>206</th>\n",
       "      <td>0.625000</td>\n",
       "      <td>0.150943</td>\n",
       "      <td>0.257991</td>\n",
       "      <td>0.541985</td>\n",
       "      <td>1.0</td>\n",
       "      <td>0.193548</td>\n",
       "      <td>0.25</td>\n",
       "      <td>0.0</td>\n",
       "      <td>1.0</td>\n",
       "      <td>1.0</td>\n",
       "      <td>...</td>\n",
       "      <td>0.0</td>\n",
       "      <td>0.0</td>\n",
       "      <td>1.0</td>\n",
       "      <td>0.0</td>\n",
       "      <td>0.0</td>\n",
       "      <td>0.0</td>\n",
       "      <td>0.0</td>\n",
       "      <td>1.0</td>\n",
       "      <td>0</td>\n",
       "      <td>0</td>\n",
       "    </tr>\n",
       "    <tr>\n",
       "      <th>185</th>\n",
       "      <td>0.312500</td>\n",
       "      <td>0.169811</td>\n",
       "      <td>0.374429</td>\n",
       "      <td>0.625954</td>\n",
       "      <td>0.0</td>\n",
       "      <td>0.000000</td>\n",
       "      <td>0.25</td>\n",
       "      <td>0.0</td>\n",
       "      <td>1.0</td>\n",
       "      <td>1.0</td>\n",
       "      <td>...</td>\n",
       "      <td>0.0</td>\n",
       "      <td>0.0</td>\n",
       "      <td>0.0</td>\n",
       "      <td>1.0</td>\n",
       "      <td>0.0</td>\n",
       "      <td>0.0</td>\n",
       "      <td>1.0</td>\n",
       "      <td>0.0</td>\n",
       "      <td>0</td>\n",
       "      <td>0</td>\n",
       "    </tr>\n",
       "    <tr>\n",
       "      <th>92</th>\n",
       "      <td>0.479167</td>\n",
       "      <td>0.415094</td>\n",
       "      <td>0.221461</td>\n",
       "      <td>0.748092</td>\n",
       "      <td>0.0</td>\n",
       "      <td>0.000000</td>\n",
       "      <td>1.00</td>\n",
       "      <td>0.0</td>\n",
       "      <td>1.0</td>\n",
       "      <td>0.0</td>\n",
       "      <td>...</td>\n",
       "      <td>0.0</td>\n",
       "      <td>0.0</td>\n",
       "      <td>0.0</td>\n",
       "      <td>1.0</td>\n",
       "      <td>0.0</td>\n",
       "      <td>0.0</td>\n",
       "      <td>1.0</td>\n",
       "      <td>0.0</td>\n",
       "      <td>1</td>\n",
       "      <td>1</td>\n",
       "    </tr>\n",
       "    <tr>\n",
       "      <th>176</th>\n",
       "      <td>0.645833</td>\n",
       "      <td>0.216981</td>\n",
       "      <td>0.237443</td>\n",
       "      <td>0.679389</td>\n",
       "      <td>1.0</td>\n",
       "      <td>0.225806</td>\n",
       "      <td>0.50</td>\n",
       "      <td>0.0</td>\n",
       "      <td>1.0</td>\n",
       "      <td>1.0</td>\n",
       "      <td>...</td>\n",
       "      <td>0.0</td>\n",
       "      <td>0.0</td>\n",
       "      <td>0.0</td>\n",
       "      <td>1.0</td>\n",
       "      <td>0.0</td>\n",
       "      <td>0.0</td>\n",
       "      <td>0.0</td>\n",
       "      <td>1.0</td>\n",
       "      <td>0</td>\n",
       "      <td>0</td>\n",
       "    </tr>\n",
       "    <tr>\n",
       "      <th>230</th>\n",
       "      <td>0.375000</td>\n",
       "      <td>0.132075</td>\n",
       "      <td>0.267123</td>\n",
       "      <td>0.618321</td>\n",
       "      <td>0.0</td>\n",
       "      <td>0.000000</td>\n",
       "      <td>0.00</td>\n",
       "      <td>0.0</td>\n",
       "      <td>1.0</td>\n",
       "      <td>0.0</td>\n",
       "      <td>...</td>\n",
       "      <td>0.0</td>\n",
       "      <td>0.0</td>\n",
       "      <td>0.0</td>\n",
       "      <td>1.0</td>\n",
       "      <td>0.0</td>\n",
       "      <td>0.0</td>\n",
       "      <td>1.0</td>\n",
       "      <td>0.0</td>\n",
       "      <td>0</td>\n",
       "      <td>1</td>\n",
       "    </tr>\n",
       "  </tbody>\n",
       "</table>\n",
       "<p>5 rows × 27 columns</p>\n",
       "</div>"
      ],
      "text/plain": [
       "            0         1         2         3    4         5     6    7    8  \\\n",
       "206  0.625000  0.150943  0.257991  0.541985  1.0  0.193548  0.25  0.0  1.0   \n",
       "185  0.312500  0.169811  0.374429  0.625954  0.0  0.000000  0.25  0.0  1.0   \n",
       "92   0.479167  0.415094  0.221461  0.748092  0.0  0.000000  1.00  0.0  1.0   \n",
       "176  0.645833  0.216981  0.237443  0.679389  1.0  0.225806  0.50  0.0  1.0   \n",
       "230  0.375000  0.132075  0.267123  0.618321  0.0  0.000000  0.00  0.0  1.0   \n",
       "\n",
       "       9  ...   17   18   19   20   21   22   23   24  target  predicted  \n",
       "206  1.0  ...  0.0  0.0  1.0  0.0  0.0  0.0  0.0  1.0       0          0  \n",
       "185  1.0  ...  0.0  0.0  0.0  1.0  0.0  0.0  1.0  0.0       0          0  \n",
       "92   0.0  ...  0.0  0.0  0.0  1.0  0.0  0.0  1.0  0.0       1          1  \n",
       "176  1.0  ...  0.0  0.0  0.0  1.0  0.0  0.0  0.0  1.0       0          0  \n",
       "230  0.0  ...  0.0  0.0  0.0  1.0  0.0  0.0  1.0  0.0       0          1  \n",
       "\n",
       "[5 rows x 27 columns]"
      ]
     },
     "execution_count": 68,
     "metadata": {},
     "output_type": "execute_result"
    }
   ],
   "source": [
    "from sklearn.tree import DecisionTreeClassifier\n",
    "tree = DecisionTreeClassifier().fit(x,y)\n",
    "tree.predict(X.iloc[:,:])\n",
    "test_set[\"predicted\"] = tree.predict(X.iloc[:,:])\n",
    "test_set.head()"
   ]
  },
  {
   "cell_type": "code",
   "execution_count": 69,
   "id": "mineral-tuning",
   "metadata": {
    "tags": []
   },
   "outputs": [],
   "source": [
    "df_test = pd.DataFrame(test_set)\n",
    "df_test.sort_index(inplace=True)"
   ]
  },
  {
   "cell_type": "code",
   "execution_count": 70,
   "id": "editorial-morning",
   "metadata": {
    "tags": []
   },
   "outputs": [
    {
     "data": {
      "image/png": "[encoded data removed]",
      "text/plain": [
       "<Figure size 432x288 with 1 Axes>"
      ]
     },
     "metadata": {
      "needs_background": "light"
     },
     "output_type": "display_data"
    }
   ],
   "source": [
    "df_test[[\"target\",\"predicted\"]].plot(alpha=0.5);"
   ]
  },
  {
   "cell_type": "code",
   "execution_count": 71,
   "id": "vocational-nightmare",
   "metadata": {
    "tags": []
   },
   "outputs": [
    {
     "data": {
      "text/plain": [
       "array([[14,  8],\n",
       "       [ 8, 30]], dtype=int64)"
      ]
     },
     "execution_count": 71,
     "metadata": {},
     "output_type": "execute_result"
    }
   ],
   "source": [
    "from sklearn.metrics import confusion_matrix\n",
    "confusion_matrix(Y, test_set[\"predicted\"])"
   ]
  },
  {
   "cell_type": "code",
   "execution_count": 72,
   "id": "english-witness",
   "metadata": {},
   "outputs": [
    {
     "data": {
      "text/plain": [
       "0.7333333333333333"
      ]
     },
     "execution_count": 72,
     "metadata": {},
     "output_type": "execute_result"
    }
   ],
   "source": [
    "from sklearn.metrics import accuracy_score\n",
    "accuracy_score(Y, test_set[\"predicted\"])    "
   ]
  },
  {
   "cell_type": "code",
   "execution_count": 73,
   "id": "pregnant-fabric",
   "metadata": {},
   "outputs": [
    {
     "data": {
      "text/plain": [
       "0.5163977794943222"
      ]
     },
     "execution_count": 73,
     "metadata": {},
     "output_type": "execute_result"
    }
   ],
   "source": [
    "from sklearn.metrics import mean_squared_error\n",
    "tree_pred = tree.predict(X.iloc[:,:])\n",
    "tree_mse = mean_squared_error(Y, tree_pred)\n",
    "tree_rmse = np.sqrt(tree_mse)\n",
    "tree_rmse"
   ]
  },
  {
   "cell_type": "code",
   "execution_count": 74,
   "id": "alpha-empty",
   "metadata": {
    "tags": []
   },
   "outputs": [
    {
     "name": "stdout",
     "output_type": "stream",
     "text": [
      "Scores: [0.4472136  0.56568542 0.4        0.5        0.45643546 0.40824829\n",
      " 0.45643546 0.         0.54006172 0.57735027]\n",
      "Mean: 0.4351430234145283\n",
      "Standard deviation: 0.15647326451185387\n"
     ]
    }
   ],
   "source": [
    "from sklearn.model_selection import cross_val_score\n",
    "scores = cross_val_score(tree, x, y, scoring=\"neg_mean_squared_error\", cv=10)\n",
    "tree_rmse_scores = np.sqrt(-scores)\n",
    "display_scores(tree_rmse_scores)"
   ]
  },
  {
   "cell_type": "code",
   "execution_count": 75,
   "id": "surgical-continent",
   "metadata": {
    "tags": []
   },
   "outputs": [
    {
     "name": "stderr",
     "output_type": "stream",
     "text": [
      "<ipython-input-75-0bebaf82705f>:5: SettingWithCopyWarning: \n",
      "A value is trying to be set on a copy of a slice from a DataFrame.\n",
      "Try using .loc[row_indexer,col_indexer] = value instead\n",
      "\n",
      "See the caveats in the documentation: https://pandas.pydata.org/pandas-docs/stable/user_guide/indexing.html#returning-a-view-versus-a-copy\n",
      "  test_set[\"predicted\"] = forest.predict(X.iloc[:,:])\n"
     ]
    },
    {
     "data": {
      "text/html": [
       "<div>\n",
       "<style scoped>\n",
       "    .dataframe tbody tr th:only-of-type {\n",
       "        vertical-align: middle;\n",
       "    }\n",
       "\n",
       "    .dataframe tbody tr th {\n",
       "        vertical-align: top;\n",
       "    }\n",
       "\n",
       "    .dataframe thead th {\n",
       "        text-align: right;\n",
       "    }\n",
       "</style>\n",
       "<table border=\"1\" class=\"dataframe\">\n",
       "  <thead>\n",
       "    <tr style=\"text-align: right;\">\n",
       "      <th></th>\n",
       "      <th>0</th>\n",
       "      <th>1</th>\n",
       "      <th>2</th>\n",
       "      <th>3</th>\n",
       "      <th>4</th>\n",
       "      <th>5</th>\n",
       "      <th>6</th>\n",
       "      <th>7</th>\n",
       "      <th>8</th>\n",
       "      <th>9</th>\n",
       "      <th>...</th>\n",
       "      <th>17</th>\n",
       "      <th>18</th>\n",
       "      <th>19</th>\n",
       "      <th>20</th>\n",
       "      <th>21</th>\n",
       "      <th>22</th>\n",
       "      <th>23</th>\n",
       "      <th>24</th>\n",
       "      <th>target</th>\n",
       "      <th>predicted</th>\n",
       "    </tr>\n",
       "  </thead>\n",
       "  <tbody>\n",
       "    <tr>\n",
       "      <th>206</th>\n",
       "      <td>0.625000</td>\n",
       "      <td>0.150943</td>\n",
       "      <td>0.257991</td>\n",
       "      <td>0.541985</td>\n",
       "      <td>1.0</td>\n",
       "      <td>0.193548</td>\n",
       "      <td>0.25</td>\n",
       "      <td>0.0</td>\n",
       "      <td>1.0</td>\n",
       "      <td>1.0</td>\n",
       "      <td>...</td>\n",
       "      <td>0.0</td>\n",
       "      <td>0.0</td>\n",
       "      <td>1.0</td>\n",
       "      <td>0.0</td>\n",
       "      <td>0.0</td>\n",
       "      <td>0.0</td>\n",
       "      <td>0.0</td>\n",
       "      <td>1.0</td>\n",
       "      <td>0</td>\n",
       "      <td>0</td>\n",
       "    </tr>\n",
       "    <tr>\n",
       "      <th>185</th>\n",
       "      <td>0.312500</td>\n",
       "      <td>0.169811</td>\n",
       "      <td>0.374429</td>\n",
       "      <td>0.625954</td>\n",
       "      <td>0.0</td>\n",
       "      <td>0.000000</td>\n",
       "      <td>0.25</td>\n",
       "      <td>0.0</td>\n",
       "      <td>1.0</td>\n",
       "      <td>1.0</td>\n",
       "      <td>...</td>\n",
       "      <td>0.0</td>\n",
       "      <td>0.0</td>\n",
       "      <td>0.0</td>\n",
       "      <td>1.0</td>\n",
       "      <td>0.0</td>\n",
       "      <td>0.0</td>\n",
       "      <td>1.0</td>\n",
       "      <td>0.0</td>\n",
       "      <td>0</td>\n",
       "      <td>0</td>\n",
       "    </tr>\n",
       "    <tr>\n",
       "      <th>92</th>\n",
       "      <td>0.479167</td>\n",
       "      <td>0.415094</td>\n",
       "      <td>0.221461</td>\n",
       "      <td>0.748092</td>\n",
       "      <td>0.0</td>\n",
       "      <td>0.000000</td>\n",
       "      <td>1.00</td>\n",
       "      <td>0.0</td>\n",
       "      <td>1.0</td>\n",
       "      <td>0.0</td>\n",
       "      <td>...</td>\n",
       "      <td>0.0</td>\n",
       "      <td>0.0</td>\n",
       "      <td>0.0</td>\n",
       "      <td>1.0</td>\n",
       "      <td>0.0</td>\n",
       "      <td>0.0</td>\n",
       "      <td>1.0</td>\n",
       "      <td>0.0</td>\n",
       "      <td>1</td>\n",
       "      <td>1</td>\n",
       "    </tr>\n",
       "    <tr>\n",
       "      <th>176</th>\n",
       "      <td>0.645833</td>\n",
       "      <td>0.216981</td>\n",
       "      <td>0.237443</td>\n",
       "      <td>0.679389</td>\n",
       "      <td>1.0</td>\n",
       "      <td>0.225806</td>\n",
       "      <td>0.50</td>\n",
       "      <td>0.0</td>\n",
       "      <td>1.0</td>\n",
       "      <td>1.0</td>\n",
       "      <td>...</td>\n",
       "      <td>0.0</td>\n",
       "      <td>0.0</td>\n",
       "      <td>0.0</td>\n",
       "      <td>1.0</td>\n",
       "      <td>0.0</td>\n",
       "      <td>0.0</td>\n",
       "      <td>0.0</td>\n",
       "      <td>1.0</td>\n",
       "      <td>0</td>\n",
       "      <td>0</td>\n",
       "    </tr>\n",
       "    <tr>\n",
       "      <th>230</th>\n",
       "      <td>0.375000</td>\n",
       "      <td>0.132075</td>\n",
       "      <td>0.267123</td>\n",
       "      <td>0.618321</td>\n",
       "      <td>0.0</td>\n",
       "      <td>0.000000</td>\n",
       "      <td>0.00</td>\n",
       "      <td>0.0</td>\n",
       "      <td>1.0</td>\n",
       "      <td>0.0</td>\n",
       "      <td>...</td>\n",
       "      <td>0.0</td>\n",
       "      <td>0.0</td>\n",
       "      <td>0.0</td>\n",
       "      <td>1.0</td>\n",
       "      <td>0.0</td>\n",
       "      <td>0.0</td>\n",
       "      <td>1.0</td>\n",
       "      <td>0.0</td>\n",
       "      <td>0</td>\n",
       "      <td>1</td>\n",
       "    </tr>\n",
       "  </tbody>\n",
       "</table>\n",
       "<p>5 rows × 27 columns</p>\n",
       "</div>"
      ],
      "text/plain": [
       "            0         1         2         3    4         5     6    7    8  \\\n",
       "206  0.625000  0.150943  0.257991  0.541985  1.0  0.193548  0.25  0.0  1.0   \n",
       "185  0.312500  0.169811  0.374429  0.625954  0.0  0.000000  0.25  0.0  1.0   \n",
       "92   0.479167  0.415094  0.221461  0.748092  0.0  0.000000  1.00  0.0  1.0   \n",
       "176  0.645833  0.216981  0.237443  0.679389  1.0  0.225806  0.50  0.0  1.0   \n",
       "230  0.375000  0.132075  0.267123  0.618321  0.0  0.000000  0.00  0.0  1.0   \n",
       "\n",
       "       9  ...   17   18   19   20   21   22   23   24  target  predicted  \n",
       "206  1.0  ...  0.0  0.0  1.0  0.0  0.0  0.0  0.0  1.0       0          0  \n",
       "185  1.0  ...  0.0  0.0  0.0  1.0  0.0  0.0  1.0  0.0       0          0  \n",
       "92   0.0  ...  0.0  0.0  0.0  1.0  0.0  0.0  1.0  0.0       1          1  \n",
       "176  1.0  ...  0.0  0.0  0.0  1.0  0.0  0.0  0.0  1.0       0          0  \n",
       "230  0.0  ...  0.0  0.0  0.0  1.0  0.0  0.0  1.0  0.0       0          1  \n",
       "\n",
       "[5 rows x 27 columns]"
      ]
     },
     "execution_count": 75,
     "metadata": {},
     "output_type": "execute_result"
    }
   ],
   "source": [
    "from sklearn.ensemble import RandomForestClassifier\n",
    "forest = RandomForestClassifier()\n",
    "forest.fit(x,y)\n",
    "forest.predict(X.iloc[:,:])\n",
    "test_set[\"predicted\"] = forest.predict(X.iloc[:,:])\n",
    "test_set.head()"
   ]
  },
  {
   "cell_type": "code",
   "execution_count": 76,
   "id": "ceramic-serbia",
   "metadata": {},
   "outputs": [],
   "source": [
    "df_test = pd.DataFrame(test_set)\n",
    "df_test.sort_index(inplace=True)"
   ]
  },
  {
   "cell_type": "code",
   "execution_count": 77,
   "id": "wicked-bernard",
   "metadata": {},
   "outputs": [
    {
     "data": {
      "image/png": "[encoded data removed]",
      "text/plain": [
       "<Figure size 432x288 with 1 Axes>"
      ]
     },
     "metadata": {
      "needs_background": "light"
     },
     "output_type": "display_data"
    }
   ],
   "source": [
    "df_test[[\"target\",\"predicted\"]].plot(alpha=0.5);"
   ]
  },
  {
   "cell_type": "code",
   "execution_count": 78,
   "id": "ready-eleven",
   "metadata": {
    "tags": []
   },
   "outputs": [
    {
     "data": {
      "text/plain": [
       "array([[16,  6],\n",
       "       [ 8, 30]], dtype=int64)"
      ]
     },
     "execution_count": 78,
     "metadata": {},
     "output_type": "execute_result"
    }
   ],
   "source": [
    "from sklearn.metrics import confusion_matrix\n",
    "confusion_matrix(Y, test_set[\"predicted\"])"
   ]
  },
  {
   "cell_type": "code",
   "execution_count": 79,
   "id": "therapeutic-belly",
   "metadata": {},
   "outputs": [
    {
     "data": {
      "text/plain": [
       "0.7666666666666667"
      ]
     },
     "execution_count": 79,
     "metadata": {},
     "output_type": "execute_result"
    }
   ],
   "source": [
    "accuracy_score(Y, test_set[\"predicted\"])    "
   ]
  },
  {
   "cell_type": "code",
   "execution_count": 80,
   "id": "handy-brother",
   "metadata": {
    "tags": []
   },
   "outputs": [
    {
     "data": {
      "text/plain": [
       "0.48304589153964794"
      ]
     },
     "execution_count": 80,
     "metadata": {},
     "output_type": "execute_result"
    }
   ],
   "source": [
    "from sklearn.metrics import mean_squared_error\n",
    "forest_pred = forest.predict(X.iloc[:,:])\n",
    "forest_mse = mean_squared_error(Y, forest_pred)\n",
    "forest_rmse = np.sqrt(forest_mse)\n",
    "forest_rmse"
   ]
  },
  {
   "cell_type": "code",
   "execution_count": 81,
   "id": "biblical-kernel",
   "metadata": {
    "tags": []
   },
   "outputs": [
    {
     "name": "stdout",
     "output_type": "stream",
     "text": [
      "Scores: [0.4        0.4        0.4472136  0.28867513 0.35355339 0.40824829\n",
      " 0.45643546 0.28867513 0.5        0.40824829]\n",
      "Mean: 0.3951049300798222\n",
      "Standard deviation: 0.06500328883950528\n"
     ]
    }
   ],
   "source": [
    "from sklearn.model_selection import cross_val_score\n",
    "scores = cross_val_score(forest, x, y, scoring=\"neg_mean_squared_error\", cv=10)\n",
    "forest_rmse_scores = np.sqrt(-scores)\n",
    "display_scores(forest_rmse_scores)"
   ]
  },
  {
   "cell_type": "code",
   "execution_count": 82,
   "id": "smart-lloyd",
   "metadata": {
    "tags": []
   },
   "outputs": [
    {
     "name": "stderr",
     "output_type": "stream",
     "text": [
      "<ipython-input-82-46ebce9b838d>:4: SettingWithCopyWarning: \n",
      "A value is trying to be set on a copy of a slice from a DataFrame.\n",
      "Try using .loc[row_indexer,col_indexer] = value instead\n",
      "\n",
      "See the caveats in the documentation: https://pandas.pydata.org/pandas-docs/stable/user_guide/indexing.html#returning-a-view-versus-a-copy\n",
      "  test_set[\"predicted\"] = log_reg.predict(X.iloc[:,:])\n"
     ]
    },
    {
     "data": {
      "text/html": [
       "<div>\n",
       "<style scoped>\n",
       "    .dataframe tbody tr th:only-of-type {\n",
       "        vertical-align: middle;\n",
       "    }\n",
       "\n",
       "    .dataframe tbody tr th {\n",
       "        vertical-align: top;\n",
       "    }\n",
       "\n",
       "    .dataframe thead th {\n",
       "        text-align: right;\n",
       "    }\n",
       "</style>\n",
       "<table border=\"1\" class=\"dataframe\">\n",
       "  <thead>\n",
       "    <tr style=\"text-align: right;\">\n",
       "      <th></th>\n",
       "      <th>0</th>\n",
       "      <th>1</th>\n",
       "      <th>2</th>\n",
       "      <th>3</th>\n",
       "      <th>4</th>\n",
       "      <th>5</th>\n",
       "      <th>6</th>\n",
       "      <th>7</th>\n",
       "      <th>8</th>\n",
       "      <th>9</th>\n",
       "      <th>...</th>\n",
       "      <th>17</th>\n",
       "      <th>18</th>\n",
       "      <th>19</th>\n",
       "      <th>20</th>\n",
       "      <th>21</th>\n",
       "      <th>22</th>\n",
       "      <th>23</th>\n",
       "      <th>24</th>\n",
       "      <th>target</th>\n",
       "      <th>predicted</th>\n",
       "    </tr>\n",
       "  </thead>\n",
       "  <tbody>\n",
       "    <tr>\n",
       "      <th>206</th>\n",
       "      <td>0.625000</td>\n",
       "      <td>0.150943</td>\n",
       "      <td>0.257991</td>\n",
       "      <td>0.541985</td>\n",
       "      <td>1.0</td>\n",
       "      <td>0.193548</td>\n",
       "      <td>0.25</td>\n",
       "      <td>0.0</td>\n",
       "      <td>1.0</td>\n",
       "      <td>1.0</td>\n",
       "      <td>...</td>\n",
       "      <td>0.0</td>\n",
       "      <td>0.0</td>\n",
       "      <td>1.0</td>\n",
       "      <td>0.0</td>\n",
       "      <td>0.0</td>\n",
       "      <td>0.0</td>\n",
       "      <td>0.0</td>\n",
       "      <td>1.0</td>\n",
       "      <td>0</td>\n",
       "      <td>0</td>\n",
       "    </tr>\n",
       "    <tr>\n",
       "      <th>185</th>\n",
       "      <td>0.312500</td>\n",
       "      <td>0.169811</td>\n",
       "      <td>0.374429</td>\n",
       "      <td>0.625954</td>\n",
       "      <td>0.0</td>\n",
       "      <td>0.000000</td>\n",
       "      <td>0.25</td>\n",
       "      <td>0.0</td>\n",
       "      <td>1.0</td>\n",
       "      <td>1.0</td>\n",
       "      <td>...</td>\n",
       "      <td>0.0</td>\n",
       "      <td>0.0</td>\n",
       "      <td>0.0</td>\n",
       "      <td>1.0</td>\n",
       "      <td>0.0</td>\n",
       "      <td>0.0</td>\n",
       "      <td>1.0</td>\n",
       "      <td>0.0</td>\n",
       "      <td>0</td>\n",
       "      <td>1</td>\n",
       "    </tr>\n",
       "    <tr>\n",
       "      <th>92</th>\n",
       "      <td>0.479167</td>\n",
       "      <td>0.415094</td>\n",
       "      <td>0.221461</td>\n",
       "      <td>0.748092</td>\n",
       "      <td>0.0</td>\n",
       "      <td>0.000000</td>\n",
       "      <td>1.00</td>\n",
       "      <td>0.0</td>\n",
       "      <td>1.0</td>\n",
       "      <td>0.0</td>\n",
       "      <td>...</td>\n",
       "      <td>0.0</td>\n",
       "      <td>0.0</td>\n",
       "      <td>0.0</td>\n",
       "      <td>1.0</td>\n",
       "      <td>0.0</td>\n",
       "      <td>0.0</td>\n",
       "      <td>1.0</td>\n",
       "      <td>0.0</td>\n",
       "      <td>1</td>\n",
       "      <td>1</td>\n",
       "    </tr>\n",
       "    <tr>\n",
       "      <th>176</th>\n",
       "      <td>0.645833</td>\n",
       "      <td>0.216981</td>\n",
       "      <td>0.237443</td>\n",
       "      <td>0.679389</td>\n",
       "      <td>1.0</td>\n",
       "      <td>0.225806</td>\n",
       "      <td>0.50</td>\n",
       "      <td>0.0</td>\n",
       "      <td>1.0</td>\n",
       "      <td>1.0</td>\n",
       "      <td>...</td>\n",
       "      <td>0.0</td>\n",
       "      <td>0.0</td>\n",
       "      <td>0.0</td>\n",
       "      <td>1.0</td>\n",
       "      <td>0.0</td>\n",
       "      <td>0.0</td>\n",
       "      <td>0.0</td>\n",
       "      <td>1.0</td>\n",
       "      <td>0</td>\n",
       "      <td>0</td>\n",
       "    </tr>\n",
       "    <tr>\n",
       "      <th>230</th>\n",
       "      <td>0.375000</td>\n",
       "      <td>0.132075</td>\n",
       "      <td>0.267123</td>\n",
       "      <td>0.618321</td>\n",
       "      <td>0.0</td>\n",
       "      <td>0.000000</td>\n",
       "      <td>0.00</td>\n",
       "      <td>0.0</td>\n",
       "      <td>1.0</td>\n",
       "      <td>0.0</td>\n",
       "      <td>...</td>\n",
       "      <td>0.0</td>\n",
       "      <td>0.0</td>\n",
       "      <td>0.0</td>\n",
       "      <td>1.0</td>\n",
       "      <td>0.0</td>\n",
       "      <td>0.0</td>\n",
       "      <td>1.0</td>\n",
       "      <td>0.0</td>\n",
       "      <td>0</td>\n",
       "      <td>1</td>\n",
       "    </tr>\n",
       "  </tbody>\n",
       "</table>\n",
       "<p>5 rows × 27 columns</p>\n",
       "</div>"
      ],
      "text/plain": [
       "            0         1         2         3    4         5     6    7    8  \\\n",
       "206  0.625000  0.150943  0.257991  0.541985  1.0  0.193548  0.25  0.0  1.0   \n",
       "185  0.312500  0.169811  0.374429  0.625954  0.0  0.000000  0.25  0.0  1.0   \n",
       "92   0.479167  0.415094  0.221461  0.748092  0.0  0.000000  1.00  0.0  1.0   \n",
       "176  0.645833  0.216981  0.237443  0.679389  1.0  0.225806  0.50  0.0  1.0   \n",
       "230  0.375000  0.132075  0.267123  0.618321  0.0  0.000000  0.00  0.0  1.0   \n",
       "\n",
       "       9  ...   17   18   19   20   21   22   23   24  target  predicted  \n",
       "206  1.0  ...  0.0  0.0  1.0  0.0  0.0  0.0  0.0  1.0       0          0  \n",
       "185  1.0  ...  0.0  0.0  0.0  1.0  0.0  0.0  1.0  0.0       0          1  \n",
       "92   0.0  ...  0.0  0.0  0.0  1.0  0.0  0.0  1.0  0.0       1          1  \n",
       "176  1.0  ...  0.0  0.0  0.0  1.0  0.0  0.0  0.0  1.0       0          0  \n",
       "230  0.0  ...  0.0  0.0  0.0  1.0  0.0  0.0  1.0  0.0       0          1  \n",
       "\n",
       "[5 rows x 27 columns]"
      ]
     },
     "execution_count": 82,
     "metadata": {},
     "output_type": "execute_result"
    }
   ],
   "source": [
    "from sklearn.linear_model import LogisticRegression\n",
    "log_reg = LogisticRegression().fit(x,y)\n",
    "log_reg.predict(X.iloc[:,:])\n",
    "test_set[\"predicted\"] = log_reg.predict(X.iloc[:,:])\n",
    "test_set.head()\n"
   ]
  },
  {
   "cell_type": "code",
   "execution_count": 83,
   "id": "closing-ticket",
   "metadata": {},
   "outputs": [],
   "source": [
    "df_test = pd.DataFrame(test_set)\n",
    "df_test.sort_index(inplace=True)"
   ]
  },
  {
   "cell_type": "code",
   "execution_count": 84,
   "id": "flying-discipline",
   "metadata": {},
   "outputs": [
    {
     "data": {
      "text/plain": [
       "<AxesSubplot:>"
      ]
     },
     "execution_count": 84,
     "metadata": {},
     "output_type": "execute_result"
    },
    {
     "data": {
      "image/png": "[encoded data removed]",
      "text/plain": [
       "<Figure size 432x288 with 1 Axes>"
      ]
     },
     "metadata": {
      "needs_background": "light"
     },
     "output_type": "display_data"
    }
   ],
   "source": [
    "df_test[[\"target\",\"predicted\"]].plot(alpha=0.5)"
   ]
  },
  {
   "cell_type": "code",
   "execution_count": 85,
   "id": "formal-mount",
   "metadata": {
    "tags": []
   },
   "outputs": [
    {
     "data": {
      "text/plain": [
       "array([[15,  7],\n",
       "       [ 6, 32]], dtype=int64)"
      ]
     },
     "execution_count": 85,
     "metadata": {},
     "output_type": "execute_result"
    }
   ],
   "source": [
    "from sklearn.metrics import confusion_matrix\n",
    "confusion_matrix(Y, test_set[\"predicted\"])"
   ]
  },
  {
   "cell_type": "code",
   "execution_count": 86,
   "id": "prime-project",
   "metadata": {},
   "outputs": [
    {
     "data": {
      "text/plain": [
       "0.7833333333333333"
      ]
     },
     "execution_count": 86,
     "metadata": {},
     "output_type": "execute_result"
    }
   ],
   "source": [
    "accuracy_score(Y, test_set[\"predicted\"])    "
   ]
  },
  {
   "cell_type": "code",
   "execution_count": 87,
   "id": "advance-frame",
   "metadata": {
    "tags": []
   },
   "outputs": [
    {
     "data": {
      "text/plain": [
       "0.4654746681256314"
      ]
     },
     "execution_count": 87,
     "metadata": {},
     "output_type": "execute_result"
    }
   ],
   "source": [
    "log_pred = log_reg.predict(X.iloc[:,:])\n",
    "log_mse = mean_squared_error(Y, log_pred)\n",
    "log_rmse = np.sqrt(log_mse)\n",
    "log_rmse"
   ]
  },
  {
   "cell_type": "code",
   "execution_count": 88,
   "id": "simple-psychiatry",
   "metadata": {
    "tags": []
   },
   "outputs": [
    {
     "name": "stdout",
     "output_type": "stream",
     "text": [
      "Scores: [0.34641016 0.4472136  0.4        0.40824829 0.40824829 0.20412415\n",
      " 0.45643546 0.20412415 0.40824829 0.5       ]\n",
      "Mean: 0.3783052383456824\n",
      "Standard deviation: 0.09514101800423992\n"
     ]
    }
   ],
   "source": [
    "from sklearn.model_selection import cross_val_score\n",
    "scores = cross_val_score(log_reg, x, y, scoring=\"neg_mean_squared_error\", cv=10)\n",
    "log_rmse_scores = np.sqrt(-scores)\n",
    "display_scores(log_rmse_scores)"
   ]
  },
  {
   "cell_type": "code",
   "execution_count": 89,
   "id": "according-projection",
   "metadata": {},
   "outputs": [
    {
     "name": "stderr",
     "output_type": "stream",
     "text": [
      "<ipython-input-89-f1a1814739c4>:5: SettingWithCopyWarning: \n",
      "A value is trying to be set on a copy of a slice from a DataFrame.\n",
      "Try using .loc[row_indexer,col_indexer] = value instead\n",
      "\n",
      "See the caveats in the documentation: https://pandas.pydata.org/pandas-docs/stable/user_guide/indexing.html#returning-a-view-versus-a-copy\n",
      "  test_set[\"predicted\"] = model.predict(X.iloc[:,:])\n"
     ]
    },
    {
     "data": {
      "text/html": [
       "<div>\n",
       "<style scoped>\n",
       "    .dataframe tbody tr th:only-of-type {\n",
       "        vertical-align: middle;\n",
       "    }\n",
       "\n",
       "    .dataframe tbody tr th {\n",
       "        vertical-align: top;\n",
       "    }\n",
       "\n",
       "    .dataframe thead th {\n",
       "        text-align: right;\n",
       "    }\n",
       "</style>\n",
       "<table border=\"1\" class=\"dataframe\">\n",
       "  <thead>\n",
       "    <tr style=\"text-align: right;\">\n",
       "      <th></th>\n",
       "      <th>0</th>\n",
       "      <th>1</th>\n",
       "      <th>2</th>\n",
       "      <th>3</th>\n",
       "      <th>4</th>\n",
       "      <th>5</th>\n",
       "      <th>6</th>\n",
       "      <th>7</th>\n",
       "      <th>8</th>\n",
       "      <th>9</th>\n",
       "      <th>...</th>\n",
       "      <th>17</th>\n",
       "      <th>18</th>\n",
       "      <th>19</th>\n",
       "      <th>20</th>\n",
       "      <th>21</th>\n",
       "      <th>22</th>\n",
       "      <th>23</th>\n",
       "      <th>24</th>\n",
       "      <th>target</th>\n",
       "      <th>predicted</th>\n",
       "    </tr>\n",
       "  </thead>\n",
       "  <tbody>\n",
       "    <tr>\n",
       "      <th>206</th>\n",
       "      <td>0.625000</td>\n",
       "      <td>0.150943</td>\n",
       "      <td>0.257991</td>\n",
       "      <td>0.541985</td>\n",
       "      <td>1.0</td>\n",
       "      <td>0.193548</td>\n",
       "      <td>0.25</td>\n",
       "      <td>0.0</td>\n",
       "      <td>1.0</td>\n",
       "      <td>1.0</td>\n",
       "      <td>...</td>\n",
       "      <td>0.0</td>\n",
       "      <td>0.0</td>\n",
       "      <td>1.0</td>\n",
       "      <td>0.0</td>\n",
       "      <td>0.0</td>\n",
       "      <td>0.0</td>\n",
       "      <td>0.0</td>\n",
       "      <td>1.0</td>\n",
       "      <td>0</td>\n",
       "      <td>0</td>\n",
       "    </tr>\n",
       "    <tr>\n",
       "      <th>185</th>\n",
       "      <td>0.312500</td>\n",
       "      <td>0.169811</td>\n",
       "      <td>0.374429</td>\n",
       "      <td>0.625954</td>\n",
       "      <td>0.0</td>\n",
       "      <td>0.000000</td>\n",
       "      <td>0.25</td>\n",
       "      <td>0.0</td>\n",
       "      <td>1.0</td>\n",
       "      <td>1.0</td>\n",
       "      <td>...</td>\n",
       "      <td>0.0</td>\n",
       "      <td>0.0</td>\n",
       "      <td>0.0</td>\n",
       "      <td>1.0</td>\n",
       "      <td>0.0</td>\n",
       "      <td>0.0</td>\n",
       "      <td>1.0</td>\n",
       "      <td>0.0</td>\n",
       "      <td>0</td>\n",
       "      <td>0</td>\n",
       "    </tr>\n",
       "    <tr>\n",
       "      <th>92</th>\n",
       "      <td>0.479167</td>\n",
       "      <td>0.415094</td>\n",
       "      <td>0.221461</td>\n",
       "      <td>0.748092</td>\n",
       "      <td>0.0</td>\n",
       "      <td>0.000000</td>\n",
       "      <td>1.00</td>\n",
       "      <td>0.0</td>\n",
       "      <td>1.0</td>\n",
       "      <td>0.0</td>\n",
       "      <td>...</td>\n",
       "      <td>0.0</td>\n",
       "      <td>0.0</td>\n",
       "      <td>0.0</td>\n",
       "      <td>1.0</td>\n",
       "      <td>0.0</td>\n",
       "      <td>0.0</td>\n",
       "      <td>1.0</td>\n",
       "      <td>0.0</td>\n",
       "      <td>1</td>\n",
       "      <td>1</td>\n",
       "    </tr>\n",
       "    <tr>\n",
       "      <th>176</th>\n",
       "      <td>0.645833</td>\n",
       "      <td>0.216981</td>\n",
       "      <td>0.237443</td>\n",
       "      <td>0.679389</td>\n",
       "      <td>1.0</td>\n",
       "      <td>0.225806</td>\n",
       "      <td>0.50</td>\n",
       "      <td>0.0</td>\n",
       "      <td>1.0</td>\n",
       "      <td>1.0</td>\n",
       "      <td>...</td>\n",
       "      <td>0.0</td>\n",
       "      <td>0.0</td>\n",
       "      <td>0.0</td>\n",
       "      <td>1.0</td>\n",
       "      <td>0.0</td>\n",
       "      <td>0.0</td>\n",
       "      <td>0.0</td>\n",
       "      <td>1.0</td>\n",
       "      <td>0</td>\n",
       "      <td>0</td>\n",
       "    </tr>\n",
       "    <tr>\n",
       "      <th>230</th>\n",
       "      <td>0.375000</td>\n",
       "      <td>0.132075</td>\n",
       "      <td>0.267123</td>\n",
       "      <td>0.618321</td>\n",
       "      <td>0.0</td>\n",
       "      <td>0.000000</td>\n",
       "      <td>0.00</td>\n",
       "      <td>0.0</td>\n",
       "      <td>1.0</td>\n",
       "      <td>0.0</td>\n",
       "      <td>...</td>\n",
       "      <td>0.0</td>\n",
       "      <td>0.0</td>\n",
       "      <td>0.0</td>\n",
       "      <td>1.0</td>\n",
       "      <td>0.0</td>\n",
       "      <td>0.0</td>\n",
       "      <td>1.0</td>\n",
       "      <td>0.0</td>\n",
       "      <td>0</td>\n",
       "      <td>1</td>\n",
       "    </tr>\n",
       "  </tbody>\n",
       "</table>\n",
       "<p>5 rows × 27 columns</p>\n",
       "</div>"
      ],
      "text/plain": [
       "            0         1         2         3    4         5     6    7    8  \\\n",
       "206  0.625000  0.150943  0.257991  0.541985  1.0  0.193548  0.25  0.0  1.0   \n",
       "185  0.312500  0.169811  0.374429  0.625954  0.0  0.000000  0.25  0.0  1.0   \n",
       "92   0.479167  0.415094  0.221461  0.748092  0.0  0.000000  1.00  0.0  1.0   \n",
       "176  0.645833  0.216981  0.237443  0.679389  1.0  0.225806  0.50  0.0  1.0   \n",
       "230  0.375000  0.132075  0.267123  0.618321  0.0  0.000000  0.00  0.0  1.0   \n",
       "\n",
       "       9  ...   17   18   19   20   21   22   23   24  target  predicted  \n",
       "206  1.0  ...  0.0  0.0  1.0  0.0  0.0  0.0  0.0  1.0       0          0  \n",
       "185  1.0  ...  0.0  0.0  0.0  1.0  0.0  0.0  1.0  0.0       0          0  \n",
       "92   0.0  ...  0.0  0.0  0.0  1.0  0.0  0.0  1.0  0.0       1          1  \n",
       "176  1.0  ...  0.0  0.0  0.0  1.0  0.0  0.0  0.0  1.0       0          0  \n",
       "230  0.0  ...  0.0  0.0  0.0  1.0  0.0  0.0  1.0  0.0       0          1  \n",
       "\n",
       "[5 rows x 27 columns]"
      ]
     },
     "execution_count": 89,
     "metadata": {},
     "output_type": "execute_result"
    }
   ],
   "source": [
    "from sklearn.neighbors import KNeighborsClassifier\n",
    "model = KNeighborsClassifier(n_neighbors=1)\n",
    "model.fit(x, y)\n",
    "Y_model = model.predict(X)\n",
    "test_set[\"predicted\"] = model.predict(X.iloc[:,:])\n",
    "test_set.head()"
   ]
  },
  {
   "cell_type": "code",
   "execution_count": 90,
   "id": "modern-birth",
   "metadata": {},
   "outputs": [],
   "source": [
    "df_test = pd.DataFrame(test_set)\n",
    "df_test.sort_index(inplace=True)"
   ]
  },
  {
   "cell_type": "code",
   "execution_count": 91,
   "id": "legal-printing",
   "metadata": {},
   "outputs": [
    {
     "data": {
      "text/plain": [
       "<AxesSubplot:>"
      ]
     },
     "execution_count": 91,
     "metadata": {},
     "output_type": "execute_result"
    },
    {
     "data": {
      "image/png": "[encoded data removed]",
      "text/plain": [
       "<Figure size 432x288 with 1 Axes>"
      ]
     },
     "metadata": {
      "needs_background": "light"
     },
     "output_type": "display_data"
    }
   ],
   "source": [
    "df_test[[\"target\",\"predicted\"]].plot(alpha=0.5)"
   ]
  },
  {
   "cell_type": "code",
   "execution_count": 92,
   "id": "final-operator",
   "metadata": {
    "tags": []
   },
   "outputs": [
    {
     "data": {
      "text/plain": [
       "array([[12, 10],\n",
       "       [ 7, 31]], dtype=int64)"
      ]
     },
     "execution_count": 92,
     "metadata": {},
     "output_type": "execute_result"
    }
   ],
   "source": [
    "from sklearn.metrics import confusion_matrix\n",
    "confusion_matrix(Y, test_set[\"predicted\"])"
   ]
  },
  {
   "cell_type": "code",
   "execution_count": 93,
   "id": "mechanical-graphics",
   "metadata": {
    "tags": []
   },
   "outputs": [
    {
     "data": {
      "text/plain": [
       "0.7166666666666667"
      ]
     },
     "execution_count": 93,
     "metadata": {},
     "output_type": "execute_result"
    }
   ],
   "source": [
    "from sklearn.metrics import accuracy_score\n",
    "accuracy_score(Y, Y_model)"
   ]
  },
  {
   "cell_type": "code",
   "execution_count": 94,
   "id": "funded-headset",
   "metadata": {
    "tags": []
   },
   "outputs": [
    {
     "data": {
      "text/plain": [
       "0.5322906474223771"
      ]
     },
     "execution_count": 94,
     "metadata": {},
     "output_type": "execute_result"
    }
   ],
   "source": [
    "from sklearn.metrics import mean_squared_error\n",
    "knn_pred = model.predict(X.iloc[:,:])\n",
    "knn_mse = mean_squared_error(Y, knn_pred)\n",
    "knn_rmse = np.sqrt(knn_mse)\n",
    "knn_rmse"
   ]
  },
  {
   "cell_type": "code",
   "execution_count": 95,
   "id": "earned-terminal",
   "metadata": {
    "tags": []
   },
   "outputs": [
    {
     "name": "stdout",
     "output_type": "stream",
     "text": [
      "Scores: [0.56568542 0.4        0.52915026 0.35355339 0.45643546 0.35355339\n",
      " 0.57735027 0.5        0.54006172 0.40824829]\n",
      "Mean: 0.46840382174571527\n",
      "Standard deviation: 0.08122721079791062\n"
     ]
    }
   ],
   "source": [
    "from sklearn.model_selection import cross_val_score\n",
    "scores = cross_val_score(model, x, y, scoring=\"neg_mean_squared_error\", cv=10)\n",
    "knn_rmse_scores = np.sqrt(-scores)\n",
    "display_scores(knn_rmse_scores)"
   ]
  },
  {
   "cell_type": "code",
   "execution_count": 96,
   "id": "conceptual-summer",
   "metadata": {},
   "outputs": [
    {
     "name": "stderr",
     "output_type": "stream",
     "text": [
      "<ipython-input-96-0f1dd19e8d72>:5: SettingWithCopyWarning: \n",
      "A value is trying to be set on a copy of a slice from a DataFrame.\n",
      "Try using .loc[row_indexer,col_indexer] = value instead\n",
      "\n",
      "See the caveats in the documentation: https://pandas.pydata.org/pandas-docs/stable/user_guide/indexing.html#returning-a-view-versus-a-copy\n",
      "  test_set[\"predicted\"] = SVM.predict(X.iloc[:,:])\n"
     ]
    },
    {
     "data": {
      "text/html": [
       "<div>\n",
       "<style scoped>\n",
       "    .dataframe tbody tr th:only-of-type {\n",
       "        vertical-align: middle;\n",
       "    }\n",
       "\n",
       "    .dataframe tbody tr th {\n",
       "        vertical-align: top;\n",
       "    }\n",
       "\n",
       "    .dataframe thead th {\n",
       "        text-align: right;\n",
       "    }\n",
       "</style>\n",
       "<table border=\"1\" class=\"dataframe\">\n",
       "  <thead>\n",
       "    <tr style=\"text-align: right;\">\n",
       "      <th></th>\n",
       "      <th>0</th>\n",
       "      <th>1</th>\n",
       "      <th>2</th>\n",
       "      <th>3</th>\n",
       "      <th>4</th>\n",
       "      <th>5</th>\n",
       "      <th>6</th>\n",
       "      <th>7</th>\n",
       "      <th>8</th>\n",
       "      <th>9</th>\n",
       "      <th>...</th>\n",
       "      <th>17</th>\n",
       "      <th>18</th>\n",
       "      <th>19</th>\n",
       "      <th>20</th>\n",
       "      <th>21</th>\n",
       "      <th>22</th>\n",
       "      <th>23</th>\n",
       "      <th>24</th>\n",
       "      <th>target</th>\n",
       "      <th>predicted</th>\n",
       "    </tr>\n",
       "  </thead>\n",
       "  <tbody>\n",
       "    <tr>\n",
       "      <th>206</th>\n",
       "      <td>0.625000</td>\n",
       "      <td>0.150943</td>\n",
       "      <td>0.257991</td>\n",
       "      <td>0.541985</td>\n",
       "      <td>1.0</td>\n",
       "      <td>0.193548</td>\n",
       "      <td>0.25</td>\n",
       "      <td>0.0</td>\n",
       "      <td>1.0</td>\n",
       "      <td>1.0</td>\n",
       "      <td>...</td>\n",
       "      <td>0.0</td>\n",
       "      <td>0.0</td>\n",
       "      <td>1.0</td>\n",
       "      <td>0.0</td>\n",
       "      <td>0.0</td>\n",
       "      <td>0.0</td>\n",
       "      <td>0.0</td>\n",
       "      <td>1.0</td>\n",
       "      <td>0</td>\n",
       "      <td>0</td>\n",
       "    </tr>\n",
       "    <tr>\n",
       "      <th>185</th>\n",
       "      <td>0.312500</td>\n",
       "      <td>0.169811</td>\n",
       "      <td>0.374429</td>\n",
       "      <td>0.625954</td>\n",
       "      <td>0.0</td>\n",
       "      <td>0.000000</td>\n",
       "      <td>0.25</td>\n",
       "      <td>0.0</td>\n",
       "      <td>1.0</td>\n",
       "      <td>1.0</td>\n",
       "      <td>...</td>\n",
       "      <td>0.0</td>\n",
       "      <td>0.0</td>\n",
       "      <td>0.0</td>\n",
       "      <td>1.0</td>\n",
       "      <td>0.0</td>\n",
       "      <td>0.0</td>\n",
       "      <td>1.0</td>\n",
       "      <td>0.0</td>\n",
       "      <td>0</td>\n",
       "      <td>1</td>\n",
       "    </tr>\n",
       "    <tr>\n",
       "      <th>92</th>\n",
       "      <td>0.479167</td>\n",
       "      <td>0.415094</td>\n",
       "      <td>0.221461</td>\n",
       "      <td>0.748092</td>\n",
       "      <td>0.0</td>\n",
       "      <td>0.000000</td>\n",
       "      <td>1.00</td>\n",
       "      <td>0.0</td>\n",
       "      <td>1.0</td>\n",
       "      <td>0.0</td>\n",
       "      <td>...</td>\n",
       "      <td>0.0</td>\n",
       "      <td>0.0</td>\n",
       "      <td>0.0</td>\n",
       "      <td>1.0</td>\n",
       "      <td>0.0</td>\n",
       "      <td>0.0</td>\n",
       "      <td>1.0</td>\n",
       "      <td>0.0</td>\n",
       "      <td>1</td>\n",
       "      <td>1</td>\n",
       "    </tr>\n",
       "    <tr>\n",
       "      <th>176</th>\n",
       "      <td>0.645833</td>\n",
       "      <td>0.216981</td>\n",
       "      <td>0.237443</td>\n",
       "      <td>0.679389</td>\n",
       "      <td>1.0</td>\n",
       "      <td>0.225806</td>\n",
       "      <td>0.50</td>\n",
       "      <td>0.0</td>\n",
       "      <td>1.0</td>\n",
       "      <td>1.0</td>\n",
       "      <td>...</td>\n",
       "      <td>0.0</td>\n",
       "      <td>0.0</td>\n",
       "      <td>0.0</td>\n",
       "      <td>1.0</td>\n",
       "      <td>0.0</td>\n",
       "      <td>0.0</td>\n",
       "      <td>0.0</td>\n",
       "      <td>1.0</td>\n",
       "      <td>0</td>\n",
       "      <td>0</td>\n",
       "    </tr>\n",
       "    <tr>\n",
       "      <th>230</th>\n",
       "      <td>0.375000</td>\n",
       "      <td>0.132075</td>\n",
       "      <td>0.267123</td>\n",
       "      <td>0.618321</td>\n",
       "      <td>0.0</td>\n",
       "      <td>0.000000</td>\n",
       "      <td>0.00</td>\n",
       "      <td>0.0</td>\n",
       "      <td>1.0</td>\n",
       "      <td>0.0</td>\n",
       "      <td>...</td>\n",
       "      <td>0.0</td>\n",
       "      <td>0.0</td>\n",
       "      <td>0.0</td>\n",
       "      <td>1.0</td>\n",
       "      <td>0.0</td>\n",
       "      <td>0.0</td>\n",
       "      <td>1.0</td>\n",
       "      <td>0.0</td>\n",
       "      <td>0</td>\n",
       "      <td>1</td>\n",
       "    </tr>\n",
       "  </tbody>\n",
       "</table>\n",
       "<p>5 rows × 27 columns</p>\n",
       "</div>"
      ],
      "text/plain": [
       "            0         1         2         3    4         5     6    7    8  \\\n",
       "206  0.625000  0.150943  0.257991  0.541985  1.0  0.193548  0.25  0.0  1.0   \n",
       "185  0.312500  0.169811  0.374429  0.625954  0.0  0.000000  0.25  0.0  1.0   \n",
       "92   0.479167  0.415094  0.221461  0.748092  0.0  0.000000  1.00  0.0  1.0   \n",
       "176  0.645833  0.216981  0.237443  0.679389  1.0  0.225806  0.50  0.0  1.0   \n",
       "230  0.375000  0.132075  0.267123  0.618321  0.0  0.000000  0.00  0.0  1.0   \n",
       "\n",
       "       9  ...   17   18   19   20   21   22   23   24  target  predicted  \n",
       "206  1.0  ...  0.0  0.0  1.0  0.0  0.0  0.0  0.0  1.0       0          0  \n",
       "185  1.0  ...  0.0  0.0  0.0  1.0  0.0  0.0  1.0  0.0       0          1  \n",
       "92   0.0  ...  0.0  0.0  0.0  1.0  0.0  0.0  1.0  0.0       1          1  \n",
       "176  1.0  ...  0.0  0.0  0.0  1.0  0.0  0.0  0.0  1.0       0          0  \n",
       "230  0.0  ...  0.0  0.0  0.0  1.0  0.0  0.0  1.0  0.0       0          1  \n",
       "\n",
       "[5 rows x 27 columns]"
      ]
     },
     "execution_count": 96,
     "metadata": {},
     "output_type": "execute_result"
    }
   ],
   "source": [
    "from sklearn import svm\n",
    "SVM = svm.LinearSVC()\n",
    "SVM.fit(x,y)\n",
    "SVM.predict(X.iloc[:,:])\n",
    "test_set[\"predicted\"] = SVM.predict(X.iloc[:,:])\n",
    "test_set.head()"
   ]
  },
  {
   "cell_type": "code",
   "execution_count": 97,
   "id": "romance-comfort",
   "metadata": {},
   "outputs": [],
   "source": [
    "df_test = pd.DataFrame(test_set)\n",
    "df_test.sort_index(inplace=True)"
   ]
  },
  {
   "cell_type": "code",
   "execution_count": 98,
   "id": "gross-latitude",
   "metadata": {},
   "outputs": [
    {
     "data": {
      "image/png": "[encoded data removed]",
      "text/plain": [
       "<Figure size 432x288 with 1 Axes>"
      ]
     },
     "metadata": {
      "needs_background": "light"
     },
     "output_type": "display_data"
    }
   ],
   "source": [
    "df_test[[\"target\",\"predicted\"]].plot(alpha=0.5);"
   ]
  },
  {
   "cell_type": "code",
   "execution_count": 99,
   "id": "minus-female",
   "metadata": {
    "tags": []
   },
   "outputs": [
    {
     "data": {
      "text/plain": [
       "array([[15,  7],\n",
       "       [ 5, 33]], dtype=int64)"
      ]
     },
     "execution_count": 99,
     "metadata": {},
     "output_type": "execute_result"
    }
   ],
   "source": [
    "from sklearn.metrics import confusion_matrix\n",
    "confusion_matrix(Y, test_set[\"predicted\"])"
   ]
  },
  {
   "cell_type": "code",
   "execution_count": 100,
   "id": "preceding-satellite",
   "metadata": {},
   "outputs": [
    {
     "data": {
      "text/plain": [
       "0.8"
      ]
     },
     "execution_count": 100,
     "metadata": {},
     "output_type": "execute_result"
    }
   ],
   "source": [
    "accuracy_score(Y, test_set[\"predicted\"])    "
   ]
  },
  {
   "cell_type": "code",
   "execution_count": 101,
   "id": "refined-diagram",
   "metadata": {},
   "outputs": [
    {
     "data": {
      "text/plain": [
       "0.4472135954999579"
      ]
     },
     "execution_count": 101,
     "metadata": {},
     "output_type": "execute_result"
    }
   ],
   "source": [
    "SVM_pred = SVM.predict(X.iloc[:,:])\n",
    "SVM_mse = mean_squared_error(Y, SVM_pred)\n",
    "SVM_rmse = np.sqrt(SVM_mse)\n",
    "SVM_rmse"
   ]
  },
  {
   "cell_type": "code",
   "execution_count": 102,
   "id": "collective-migration",
   "metadata": {
    "tags": []
   },
   "outputs": [
    {
     "name": "stdout",
     "output_type": "stream",
     "text": [
      "Scores: [0.4472136  0.4472136  0.4472136  0.35355339 0.35355339 0.28867513\n",
      " 0.5        0.20412415 0.40824829 0.5       ]\n",
      "Mean: 0.3949795137977029\n",
      "Standard deviation: 0.09032081901088425\n"
     ]
    }
   ],
   "source": [
    "from sklearn.model_selection import cross_val_score\n",
    "scores = cross_val_score(SVM, x, y, scoring=\"neg_mean_squared_error\", cv=10)\n",
    "SVM_rmse_scores = np.sqrt(-scores)\n",
    "display_scores(SVM_rmse_scores)"
   ]
  },
  {
   "cell_type": "code",
   "execution_count": null,
   "id": "beginning-force",
   "metadata": {},
   "outputs": [],
   "source": []
  },
  {
   "cell_type": "code",
   "execution_count": null,
   "id": "material-adventure",
   "metadata": {},
   "outputs": [],
   "source": []
  }
 ],
 "metadata": {
  "kernelspec": {
   "display_name": "Python 3",
   "language": "python",
   "name": "python3"
  },
  "language_info": {
   "codemirror_mode": {
    "name": "ipython",
    "version": 3
   },
   "file_extension": ".py",
   "mimetype": "text/x-python",
   "name": "python",
   "nbconvert_exporter": "python",
   "pygments_lexer": "ipython3",
   "version": "3.8.5"
  }
 },
 "nbformat": 4,
 "nbformat_minor": 5
}
