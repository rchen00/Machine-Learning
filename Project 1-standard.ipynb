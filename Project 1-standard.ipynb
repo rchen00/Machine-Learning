{
 "cells": [
  {
   "cell_type": "markdown",
   "id": "worth-pollution",
   "metadata": {},
   "source": [
    "# Heart Disease Data Set\n",
    "\n",
    "https://archive.ics.uci.edu/ml/datasets/Heart+Disease\n",
    "\n",
    "\n",
    "### Description\n",
    "\n",
    "- **age**: The person's age in years\n",
    "- **sex**: The person's sex (1 = male, 0 = female)\n",
    "- **cp:** The chest pain experienced (Value 1: typical angina, Value 2: atypical angina, Value 3: non-anginal pain, Value 4: asymptomatic)\n",
    "- **trestbps:** The person's resting blood pressure (mm Hg on admission to the hospital)\n",
    "- **chol:** The person's cholesterol measurement in mg/dl\n",
    "- **fbs:** The person's fasting blood sugar (> 120 mg/dl, 1 = true; 0 = false) \n",
    "- **restecg:** Resting electrocardiographic measurement (0 = normal, 1 = having ST-T wave abnormality, 2 = showing probable or definite left ventricular hypertrophy by Estes' criteria)\n",
    "- **thalach:** The person's maximum heart rate achieved\n",
    "- **exang:** Exercise induced angina (1 = yes; 0 = no)\n",
    "- **oldpeak:** ST depression induced by exercise relative to rest ('ST' relates to positions on the ECG plot. See more [here](https://litfl.com/st-segment-ecg-library/))\n",
    "- **slope:** the slope of the peak exercise ST segment (Value 1: upsloping, Value 2: flat, Value 3: downsloping)\n",
    "- **ca:** The number of major vessels (0-3)\n",
    "- **thal:** A blood disorder called thalassemia (3 = normal; 6 = fixed defect; 7 = reversable defect)\n",
    "- **target:** Heart disease (0 = no, 1 = yes)\n",
    "\n",
    "### Heart Disease Classification \n",
    "\n",
    "Perform exploratory data analysis on the data. Then, train and validate different ML classifiers."
   ]
  },
  {
   "cell_type": "code",
   "execution_count": 1,
   "id": "pleasant-balloon",
   "metadata": {},
   "outputs": [
    {
     "data": {
      "text/plain": [
       "(303, 14)"
      ]
     },
     "execution_count": 1,
     "metadata": {},
     "output_type": "execute_result"
    }
   ],
   "source": [
    "import pandas as pd\n",
    "df = pd.read_csv(\"./data/heart.csv\")\n",
    "df.shape"
   ]
  },
  {
   "cell_type": "code",
   "execution_count": 2,
   "id": "later-bhutan",
   "metadata": {},
   "outputs": [
    {
     "data": {
      "text/html": [
       "<div>\n",
       "<style scoped>\n",
       "    .dataframe tbody tr th:only-of-type {\n",
       "        vertical-align: middle;\n",
       "    }\n",
       "\n",
       "    .dataframe tbody tr th {\n",
       "        vertical-align: top;\n",
       "    }\n",
       "\n",
       "    .dataframe thead th {\n",
       "        text-align: right;\n",
       "    }\n",
       "</style>\n",
       "<table border=\"1\" class=\"dataframe\">\n",
       "  <thead>\n",
       "    <tr style=\"text-align: right;\">\n",
       "      <th></th>\n",
       "      <th>age</th>\n",
       "      <th>sex</th>\n",
       "      <th>cp</th>\n",
       "      <th>trestbps</th>\n",
       "      <th>chol</th>\n",
       "      <th>fbs</th>\n",
       "      <th>restecg</th>\n",
       "      <th>thalach</th>\n",
       "      <th>exang</th>\n",
       "      <th>oldpeak</th>\n",
       "      <th>slope</th>\n",
       "      <th>ca</th>\n",
       "      <th>thal</th>\n",
       "      <th>target</th>\n",
       "    </tr>\n",
       "  </thead>\n",
       "  <tbody>\n",
       "    <tr>\n",
       "      <th>0</th>\n",
       "      <td>63</td>\n",
       "      <td>1</td>\n",
       "      <td>3</td>\n",
       "      <td>145</td>\n",
       "      <td>233</td>\n",
       "      <td>1</td>\n",
       "      <td>0</td>\n",
       "      <td>150</td>\n",
       "      <td>0</td>\n",
       "      <td>2.3</td>\n",
       "      <td>0</td>\n",
       "      <td>0</td>\n",
       "      <td>1</td>\n",
       "      <td>1</td>\n",
       "    </tr>\n",
       "    <tr>\n",
       "      <th>1</th>\n",
       "      <td>37</td>\n",
       "      <td>1</td>\n",
       "      <td>2</td>\n",
       "      <td>130</td>\n",
       "      <td>250</td>\n",
       "      <td>0</td>\n",
       "      <td>1</td>\n",
       "      <td>187</td>\n",
       "      <td>0</td>\n",
       "      <td>3.5</td>\n",
       "      <td>0</td>\n",
       "      <td>0</td>\n",
       "      <td>2</td>\n",
       "      <td>1</td>\n",
       "    </tr>\n",
       "    <tr>\n",
       "      <th>2</th>\n",
       "      <td>41</td>\n",
       "      <td>0</td>\n",
       "      <td>1</td>\n",
       "      <td>130</td>\n",
       "      <td>204</td>\n",
       "      <td>0</td>\n",
       "      <td>0</td>\n",
       "      <td>172</td>\n",
       "      <td>0</td>\n",
       "      <td>1.4</td>\n",
       "      <td>2</td>\n",
       "      <td>0</td>\n",
       "      <td>2</td>\n",
       "      <td>1</td>\n",
       "    </tr>\n",
       "    <tr>\n",
       "      <th>3</th>\n",
       "      <td>56</td>\n",
       "      <td>1</td>\n",
       "      <td>1</td>\n",
       "      <td>120</td>\n",
       "      <td>236</td>\n",
       "      <td>0</td>\n",
       "      <td>1</td>\n",
       "      <td>178</td>\n",
       "      <td>0</td>\n",
       "      <td>0.8</td>\n",
       "      <td>2</td>\n",
       "      <td>0</td>\n",
       "      <td>2</td>\n",
       "      <td>1</td>\n",
       "    </tr>\n",
       "    <tr>\n",
       "      <th>4</th>\n",
       "      <td>57</td>\n",
       "      <td>0</td>\n",
       "      <td>0</td>\n",
       "      <td>120</td>\n",
       "      <td>354</td>\n",
       "      <td>0</td>\n",
       "      <td>1</td>\n",
       "      <td>163</td>\n",
       "      <td>1</td>\n",
       "      <td>0.6</td>\n",
       "      <td>2</td>\n",
       "      <td>0</td>\n",
       "      <td>2</td>\n",
       "      <td>1</td>\n",
       "    </tr>\n",
       "  </tbody>\n",
       "</table>\n",
       "</div>"
      ],
      "text/plain": [
       "   age  sex  cp  trestbps  chol  fbs  restecg  thalach  exang  oldpeak  slope  \\\n",
       "0   63    1   3       145   233    1        0      150      0      2.3      0   \n",
       "1   37    1   2       130   250    0        1      187      0      3.5      0   \n",
       "2   41    0   1       130   204    0        0      172      0      1.4      2   \n",
       "3   56    1   1       120   236    0        1      178      0      0.8      2   \n",
       "4   57    0   0       120   354    0        1      163      1      0.6      2   \n",
       "\n",
       "   ca  thal  target  \n",
       "0   0     1       1  \n",
       "1   0     2       1  \n",
       "2   0     2       1  \n",
       "3   0     2       1  \n",
       "4   0     2       1  "
      ]
     },
     "execution_count": 2,
     "metadata": {},
     "output_type": "execute_result"
    }
   ],
   "source": [
    "df.head()"
   ]
  },
  {
   "cell_type": "code",
   "execution_count": 3,
   "id": "explicit-desperate",
   "metadata": {},
   "outputs": [
    {
     "data": {
      "image/png": "[encoded data removed]",
      "text/plain": [
       "<Figure size 1800x1800 with 16 Axes>"
      ]
     },
     "metadata": {
      "needs_background": "light"
     },
     "output_type": "display_data"
    }
   ],
   "source": [
    "import matplotlib.pyplot as plt\n",
    "df.hist(bins=50, figsize=(25,25))\n",
    "plt.show()"
   ]
  },
  {
   "cell_type": "code",
   "execution_count": 4,
   "id": "obvious-button",
   "metadata": {},
   "outputs": [],
   "source": [
    "import numpy as np\n",
    "def split_train_test(data, test_ratio):\n",
    "    shuffled_indices = np.random.permutation(len(data))\n",
    "    test_set_size = int(len(data) * test_ratio)\n",
    "    test_indices = shuffled_indices[:test_set_size]\n",
    "    train_indices = shuffled_indices[test_set_size:]\n",
    "    return data.iloc[train_indices], data.iloc[test_indices]"
   ]
  },
  {
   "cell_type": "code",
   "execution_count": 5,
   "id": "effective-visibility",
   "metadata": {},
   "outputs": [
    {
     "data": {
      "text/plain": [
       "target      1.000000\n",
       "cp          0.433798\n",
       "thalach     0.421741\n",
       "slope       0.345877\n",
       "restecg     0.137230\n",
       "fbs        -0.028046\n",
       "chol       -0.085239\n",
       "trestbps   -0.144931\n",
       "age        -0.225439\n",
       "sex        -0.280937\n",
       "thal       -0.344029\n",
       "ca         -0.391724\n",
       "oldpeak    -0.430696\n",
       "exang      -0.436757\n",
       "Name: target, dtype: float64"
      ]
     },
     "execution_count": 5,
     "metadata": {},
     "output_type": "execute_result"
    }
   ],
   "source": [
    "corr_matrix = df.corr()\n",
    "corr_matrix[\"target\"].sort_values(ascending=False)"
   ]
  },
  {
   "cell_type": "code",
   "execution_count": 6,
   "id": "happy-wyoming",
   "metadata": {},
   "outputs": [
    {
     "data": {
      "text/plain": [
       "array([[<AxesSubplot:xlabel='cp', ylabel='cp'>,\n",
       "        <AxesSubplot:xlabel='slope', ylabel='cp'>,\n",
       "        <AxesSubplot:xlabel='thalach', ylabel='cp'>,\n",
       "        <AxesSubplot:xlabel='restecg', ylabel='cp'>,\n",
       "        <AxesSubplot:xlabel='target', ylabel='cp'>],\n",
       "       [<AxesSubplot:xlabel='cp', ylabel='slope'>,\n",
       "        <AxesSubplot:xlabel='slope', ylabel='slope'>,\n",
       "        <AxesSubplot:xlabel='thalach', ylabel='slope'>,\n",
       "        <AxesSubplot:xlabel='restecg', ylabel='slope'>,\n",
       "        <AxesSubplot:xlabel='target', ylabel='slope'>],\n",
       "       [<AxesSubplot:xlabel='cp', ylabel='thalach'>,\n",
       "        <AxesSubplot:xlabel='slope', ylabel='thalach'>,\n",
       "        <AxesSubplot:xlabel='thalach', ylabel='thalach'>,\n",
       "        <AxesSubplot:xlabel='restecg', ylabel='thalach'>,\n",
       "        <AxesSubplot:xlabel='target', ylabel='thalach'>],\n",
       "       [<AxesSubplot:xlabel='cp', ylabel='restecg'>,\n",
       "        <AxesSubplot:xlabel='slope', ylabel='restecg'>,\n",
       "        <AxesSubplot:xlabel='thalach', ylabel='restecg'>,\n",
       "        <AxesSubplot:xlabel='restecg', ylabel='restecg'>,\n",
       "        <AxesSubplot:xlabel='target', ylabel='restecg'>],\n",
       "       [<AxesSubplot:xlabel='cp', ylabel='target'>,\n",
       "        <AxesSubplot:xlabel='slope', ylabel='target'>,\n",
       "        <AxesSubplot:xlabel='thalach', ylabel='target'>,\n",
       "        <AxesSubplot:xlabel='restecg', ylabel='target'>,\n",
       "        <AxesSubplot:xlabel='target', ylabel='target'>]], dtype=object)"
      ]
     },
     "execution_count": 6,
     "metadata": {},
     "output_type": "execute_result"
    },
    {
     "data": {
      "image/png": "[encoded data removed]",
      "text/plain": [
       "<Figure size 1080x1080 with 25 Axes>"
      ]
     },
     "metadata": {
      "needs_background": "light"
     },
     "output_type": "display_data"
    }
   ],
   "source": [
    "from pandas.plotting import scatter_matrix\n",
    "attributes = [\"cp\", \"slope\", \"thalach\", \"restecg\", \"target\"]\n",
    "scatter_matrix(df[attributes], figsize = (15, 15))"
   ]
  },
  {
   "cell_type": "code",
   "execution_count": 7,
   "id": "designed-chaos",
   "metadata": {},
   "outputs": [],
   "source": [
    "from sklearn.impute import SimpleImputer\n",
    "imputer = SimpleImputer(strategy=\"median\")"
   ]
  },
  {
   "cell_type": "code",
   "execution_count": 8,
   "id": "superior-ethiopia",
   "metadata": {
    "tags": []
   },
   "outputs": [],
   "source": [
    "from sklearn.pipeline import Pipeline\n",
    "from sklearn.preprocessing import StandardScaler, MinMaxScaler\n",
    "\n",
    "num_pipeline = Pipeline([\n",
    "        ('imputer', SimpleImputer(strategy=\"median\")),\n",
    "        ('std_scaler', StandardScaler()),\n",
    "    ])\n"
   ]
  },
  {
   "cell_type": "markdown",
   "id": "requested-inflation",
   "metadata": {},
   "source": [
    "df_num = df.select_dtypes(include=[np.number])\n",
    "df_num_trans = num_pipeline.fit_transform(df_num)\n",
    "df_num_trans\n",
    "df_num_trans.shape"
   ]
  },
  {
   "cell_type": "code",
   "execution_count": 9,
   "id": "emerging-finger",
   "metadata": {},
   "outputs": [
    {
     "data": {
      "text/plain": [
       "(303, 25)"
      ]
     },
     "execution_count": 9,
     "metadata": {},
     "output_type": "execute_result"
    }
   ],
   "source": [
    "from sklearn.preprocessing import OneHotEncoder\n",
    "from sklearn.compose import ColumnTransformer\n",
    "\n",
    "num_attribs = [\"age\", \"trestbps\", \"chol\", \"thalach\", \"exang\", \"oldpeak\", \"ca\"]\n",
    "cat_attribs = [\"sex\", \"cp\", \"fbs\", \"restecg\", \"slope\", \"thal\"]\n",
    "\n",
    "full_pipeline = ColumnTransformer([\n",
    "        (\"num\", num_pipeline, num_attribs),\n",
    "        (\"cat\", OneHotEncoder(), cat_attribs),\n",
    "    ])\n",
    "heart = df.drop(\"target\", axis = 1)\n",
    "heart_disease = df[\"target\"].copy()\n",
    "heart_prepared = full_pipeline.fit_transform(heart)\n",
    "heart_prepared\n",
    "heart_prepared.shape"
   ]
  },
  {
   "cell_type": "code",
   "execution_count": 10,
   "id": "adult-inspection",
   "metadata": {},
   "outputs": [
    {
     "data": {
      "text/html": [
       "<div>\n",
       "<style scoped>\n",
       "    .dataframe tbody tr th:only-of-type {\n",
       "        vertical-align: middle;\n",
       "    }\n",
       "\n",
       "    .dataframe tbody tr th {\n",
       "        vertical-align: top;\n",
       "    }\n",
       "\n",
       "    .dataframe thead th {\n",
       "        text-align: right;\n",
       "    }\n",
       "</style>\n",
       "<table border=\"1\" class=\"dataframe\">\n",
       "  <thead>\n",
       "    <tr style=\"text-align: right;\">\n",
       "      <th></th>\n",
       "      <th>0</th>\n",
       "      <th>1</th>\n",
       "      <th>2</th>\n",
       "      <th>3</th>\n",
       "      <th>4</th>\n",
       "      <th>5</th>\n",
       "      <th>6</th>\n",
       "      <th>7</th>\n",
       "      <th>8</th>\n",
       "      <th>9</th>\n",
       "      <th>...</th>\n",
       "      <th>16</th>\n",
       "      <th>17</th>\n",
       "      <th>18</th>\n",
       "      <th>19</th>\n",
       "      <th>20</th>\n",
       "      <th>21</th>\n",
       "      <th>22</th>\n",
       "      <th>23</th>\n",
       "      <th>24</th>\n",
       "      <th>target</th>\n",
       "    </tr>\n",
       "  </thead>\n",
       "  <tbody>\n",
       "    <tr>\n",
       "      <th>0</th>\n",
       "      <td>0.952197</td>\n",
       "      <td>0.763956</td>\n",
       "      <td>-0.256334</td>\n",
       "      <td>0.015443</td>\n",
       "      <td>-0.696631</td>\n",
       "      <td>1.087338</td>\n",
       "      <td>-0.714429</td>\n",
       "      <td>0.0</td>\n",
       "      <td>1.0</td>\n",
       "      <td>0.0</td>\n",
       "      <td>...</td>\n",
       "      <td>0.0</td>\n",
       "      <td>0.0</td>\n",
       "      <td>1.0</td>\n",
       "      <td>0.0</td>\n",
       "      <td>0.0</td>\n",
       "      <td>0.0</td>\n",
       "      <td>1.0</td>\n",
       "      <td>0.0</td>\n",
       "      <td>0.0</td>\n",
       "      <td>1</td>\n",
       "    </tr>\n",
       "    <tr>\n",
       "      <th>1</th>\n",
       "      <td>-1.915313</td>\n",
       "      <td>-0.092738</td>\n",
       "      <td>0.072199</td>\n",
       "      <td>1.633471</td>\n",
       "      <td>-0.696631</td>\n",
       "      <td>2.122573</td>\n",
       "      <td>-0.714429</td>\n",
       "      <td>0.0</td>\n",
       "      <td>1.0</td>\n",
       "      <td>0.0</td>\n",
       "      <td>...</td>\n",
       "      <td>1.0</td>\n",
       "      <td>0.0</td>\n",
       "      <td>1.0</td>\n",
       "      <td>0.0</td>\n",
       "      <td>0.0</td>\n",
       "      <td>0.0</td>\n",
       "      <td>0.0</td>\n",
       "      <td>1.0</td>\n",
       "      <td>0.0</td>\n",
       "      <td>1</td>\n",
       "    </tr>\n",
       "    <tr>\n",
       "      <th>2</th>\n",
       "      <td>-1.474158</td>\n",
       "      <td>-0.092738</td>\n",
       "      <td>-0.816773</td>\n",
       "      <td>0.977514</td>\n",
       "      <td>-0.696631</td>\n",
       "      <td>0.310912</td>\n",
       "      <td>-0.714429</td>\n",
       "      <td>1.0</td>\n",
       "      <td>0.0</td>\n",
       "      <td>0.0</td>\n",
       "      <td>...</td>\n",
       "      <td>0.0</td>\n",
       "      <td>0.0</td>\n",
       "      <td>0.0</td>\n",
       "      <td>0.0</td>\n",
       "      <td>1.0</td>\n",
       "      <td>0.0</td>\n",
       "      <td>0.0</td>\n",
       "      <td>1.0</td>\n",
       "      <td>0.0</td>\n",
       "      <td>1</td>\n",
       "    </tr>\n",
       "    <tr>\n",
       "      <th>3</th>\n",
       "      <td>0.180175</td>\n",
       "      <td>-0.663867</td>\n",
       "      <td>-0.198357</td>\n",
       "      <td>1.239897</td>\n",
       "      <td>-0.696631</td>\n",
       "      <td>-0.206705</td>\n",
       "      <td>-0.714429</td>\n",
       "      <td>0.0</td>\n",
       "      <td>1.0</td>\n",
       "      <td>0.0</td>\n",
       "      <td>...</td>\n",
       "      <td>1.0</td>\n",
       "      <td>0.0</td>\n",
       "      <td>0.0</td>\n",
       "      <td>0.0</td>\n",
       "      <td>1.0</td>\n",
       "      <td>0.0</td>\n",
       "      <td>0.0</td>\n",
       "      <td>1.0</td>\n",
       "      <td>0.0</td>\n",
       "      <td>1</td>\n",
       "    </tr>\n",
       "    <tr>\n",
       "      <th>4</th>\n",
       "      <td>0.290464</td>\n",
       "      <td>-0.663867</td>\n",
       "      <td>2.082050</td>\n",
       "      <td>0.583939</td>\n",
       "      <td>1.435481</td>\n",
       "      <td>-0.379244</td>\n",
       "      <td>-0.714429</td>\n",
       "      <td>1.0</td>\n",
       "      <td>0.0</td>\n",
       "      <td>1.0</td>\n",
       "      <td>...</td>\n",
       "      <td>1.0</td>\n",
       "      <td>0.0</td>\n",
       "      <td>0.0</td>\n",
       "      <td>0.0</td>\n",
       "      <td>1.0</td>\n",
       "      <td>0.0</td>\n",
       "      <td>0.0</td>\n",
       "      <td>1.0</td>\n",
       "      <td>0.0</td>\n",
       "      <td>1</td>\n",
       "    </tr>\n",
       "    <tr>\n",
       "      <th>...</th>\n",
       "      <td>...</td>\n",
       "      <td>...</td>\n",
       "      <td>...</td>\n",
       "      <td>...</td>\n",
       "      <td>...</td>\n",
       "      <td>...</td>\n",
       "      <td>...</td>\n",
       "      <td>...</td>\n",
       "      <td>...</td>\n",
       "      <td>...</td>\n",
       "      <td>...</td>\n",
       "      <td>...</td>\n",
       "      <td>...</td>\n",
       "      <td>...</td>\n",
       "      <td>...</td>\n",
       "      <td>...</td>\n",
       "      <td>...</td>\n",
       "      <td>...</td>\n",
       "      <td>...</td>\n",
       "      <td>...</td>\n",
       "      <td>...</td>\n",
       "    </tr>\n",
       "    <tr>\n",
       "      <th>298</th>\n",
       "      <td>0.290464</td>\n",
       "      <td>0.478391</td>\n",
       "      <td>-0.101730</td>\n",
       "      <td>-1.165281</td>\n",
       "      <td>1.435481</td>\n",
       "      <td>-0.724323</td>\n",
       "      <td>-0.714429</td>\n",
       "      <td>1.0</td>\n",
       "      <td>0.0</td>\n",
       "      <td>1.0</td>\n",
       "      <td>...</td>\n",
       "      <td>1.0</td>\n",
       "      <td>0.0</td>\n",
       "      <td>0.0</td>\n",
       "      <td>1.0</td>\n",
       "      <td>0.0</td>\n",
       "      <td>0.0</td>\n",
       "      <td>0.0</td>\n",
       "      <td>0.0</td>\n",
       "      <td>1.0</td>\n",
       "      <td>0</td>\n",
       "    </tr>\n",
       "    <tr>\n",
       "      <th>299</th>\n",
       "      <td>-1.033002</td>\n",
       "      <td>-1.234996</td>\n",
       "      <td>0.342756</td>\n",
       "      <td>-0.771706</td>\n",
       "      <td>-0.696631</td>\n",
       "      <td>0.138373</td>\n",
       "      <td>-0.714429</td>\n",
       "      <td>0.0</td>\n",
       "      <td>1.0</td>\n",
       "      <td>0.0</td>\n",
       "      <td>...</td>\n",
       "      <td>1.0</td>\n",
       "      <td>0.0</td>\n",
       "      <td>0.0</td>\n",
       "      <td>1.0</td>\n",
       "      <td>0.0</td>\n",
       "      <td>0.0</td>\n",
       "      <td>0.0</td>\n",
       "      <td>0.0</td>\n",
       "      <td>1.0</td>\n",
       "      <td>0</td>\n",
       "    </tr>\n",
       "    <tr>\n",
       "      <th>300</th>\n",
       "      <td>1.503641</td>\n",
       "      <td>0.706843</td>\n",
       "      <td>-1.029353</td>\n",
       "      <td>-0.378132</td>\n",
       "      <td>-0.696631</td>\n",
       "      <td>2.036303</td>\n",
       "      <td>1.244593</td>\n",
       "      <td>0.0</td>\n",
       "      <td>1.0</td>\n",
       "      <td>1.0</td>\n",
       "      <td>...</td>\n",
       "      <td>1.0</td>\n",
       "      <td>0.0</td>\n",
       "      <td>0.0</td>\n",
       "      <td>1.0</td>\n",
       "      <td>0.0</td>\n",
       "      <td>0.0</td>\n",
       "      <td>0.0</td>\n",
       "      <td>0.0</td>\n",
       "      <td>1.0</td>\n",
       "      <td>0</td>\n",
       "    </tr>\n",
       "    <tr>\n",
       "      <th>301</th>\n",
       "      <td>0.290464</td>\n",
       "      <td>-0.092738</td>\n",
       "      <td>-2.227533</td>\n",
       "      <td>-1.515125</td>\n",
       "      <td>1.435481</td>\n",
       "      <td>0.138373</td>\n",
       "      <td>0.265082</td>\n",
       "      <td>0.0</td>\n",
       "      <td>1.0</td>\n",
       "      <td>1.0</td>\n",
       "      <td>...</td>\n",
       "      <td>1.0</td>\n",
       "      <td>0.0</td>\n",
       "      <td>0.0</td>\n",
       "      <td>1.0</td>\n",
       "      <td>0.0</td>\n",
       "      <td>0.0</td>\n",
       "      <td>0.0</td>\n",
       "      <td>0.0</td>\n",
       "      <td>1.0</td>\n",
       "      <td>0</td>\n",
       "    </tr>\n",
       "    <tr>\n",
       "      <th>302</th>\n",
       "      <td>0.290464</td>\n",
       "      <td>-0.092738</td>\n",
       "      <td>-0.198357</td>\n",
       "      <td>1.064975</td>\n",
       "      <td>-0.696631</td>\n",
       "      <td>-0.896862</td>\n",
       "      <td>0.265082</td>\n",
       "      <td>1.0</td>\n",
       "      <td>0.0</td>\n",
       "      <td>0.0</td>\n",
       "      <td>...</td>\n",
       "      <td>0.0</td>\n",
       "      <td>0.0</td>\n",
       "      <td>0.0</td>\n",
       "      <td>1.0</td>\n",
       "      <td>0.0</td>\n",
       "      <td>0.0</td>\n",
       "      <td>0.0</td>\n",
       "      <td>1.0</td>\n",
       "      <td>0.0</td>\n",
       "      <td>0</td>\n",
       "    </tr>\n",
       "  </tbody>\n",
       "</table>\n",
       "<p>303 rows × 26 columns</p>\n",
       "</div>"
      ],
      "text/plain": [
       "            0         1         2         3         4         5         6  \\\n",
       "0    0.952197  0.763956 -0.256334  0.015443 -0.696631  1.087338 -0.714429   \n",
       "1   -1.915313 -0.092738  0.072199  1.633471 -0.696631  2.122573 -0.714429   \n",
       "2   -1.474158 -0.092738 -0.816773  0.977514 -0.696631  0.310912 -0.714429   \n",
       "3    0.180175 -0.663867 -0.198357  1.239897 -0.696631 -0.206705 -0.714429   \n",
       "4    0.290464 -0.663867  2.082050  0.583939  1.435481 -0.379244 -0.714429   \n",
       "..        ...       ...       ...       ...       ...       ...       ...   \n",
       "298  0.290464  0.478391 -0.101730 -1.165281  1.435481 -0.724323 -0.714429   \n",
       "299 -1.033002 -1.234996  0.342756 -0.771706 -0.696631  0.138373 -0.714429   \n",
       "300  1.503641  0.706843 -1.029353 -0.378132 -0.696631  2.036303  1.244593   \n",
       "301  0.290464 -0.092738 -2.227533 -1.515125  1.435481  0.138373  0.265082   \n",
       "302  0.290464 -0.092738 -0.198357  1.064975 -0.696631 -0.896862  0.265082   \n",
       "\n",
       "       7    8    9  ...   16   17   18   19   20   21   22   23   24  target  \n",
       "0    0.0  1.0  0.0  ...  0.0  0.0  1.0  0.0  0.0  0.0  1.0  0.0  0.0       1  \n",
       "1    0.0  1.0  0.0  ...  1.0  0.0  1.0  0.0  0.0  0.0  0.0  1.0  0.0       1  \n",
       "2    1.0  0.0  0.0  ...  0.0  0.0  0.0  0.0  1.0  0.0  0.0  1.0  0.0       1  \n",
       "3    0.0  1.0  0.0  ...  1.0  0.0  0.0  0.0  1.0  0.0  0.0  1.0  0.0       1  \n",
       "4    1.0  0.0  1.0  ...  1.0  0.0  0.0  0.0  1.0  0.0  0.0  1.0  0.0       1  \n",
       "..   ...  ...  ...  ...  ...  ...  ...  ...  ...  ...  ...  ...  ...     ...  \n",
       "298  1.0  0.0  1.0  ...  1.0  0.0  0.0  1.0  0.0  0.0  0.0  0.0  1.0       0  \n",
       "299  0.0  1.0  0.0  ...  1.0  0.0  0.0  1.0  0.0  0.0  0.0  0.0  1.0       0  \n",
       "300  0.0  1.0  1.0  ...  1.0  0.0  0.0  1.0  0.0  0.0  0.0  0.0  1.0       0  \n",
       "301  0.0  1.0  1.0  ...  1.0  0.0  0.0  1.0  0.0  0.0  0.0  0.0  1.0       0  \n",
       "302  1.0  0.0  0.0  ...  0.0  0.0  0.0  1.0  0.0  0.0  0.0  1.0  0.0       0  \n",
       "\n",
       "[303 rows x 26 columns]"
      ]
     },
     "execution_count": 10,
     "metadata": {},
     "output_type": "execute_result"
    }
   ],
   "source": [
    "heart_df = pd.DataFrame(heart_prepared)\n",
    "heart_df[\"target\"] = heart_disease\n",
    "heart_df"
   ]
  },
  {
   "cell_type": "code",
   "execution_count": 11,
   "id": "explicit-currency",
   "metadata": {
    "tags": []
   },
   "outputs": [
    {
     "data": {
      "text/plain": [
       "(303, 26)"
      ]
     },
     "execution_count": 11,
     "metadata": {},
     "output_type": "execute_result"
    }
   ],
   "source": [
    "train_set, test_set = split_train_test(heart_df, 0.2)\n",
    "heart_df.shape"
   ]
  },
  {
   "cell_type": "code",
   "execution_count": 12,
   "id": "russian-death",
   "metadata": {},
   "outputs": [
    {
     "data": {
      "text/plain": [
       "(243, 26)"
      ]
     },
     "execution_count": 12,
     "metadata": {},
     "output_type": "execute_result"
    }
   ],
   "source": [
    "train_set.shape"
   ]
  },
  {
   "cell_type": "code",
   "execution_count": 13,
   "id": "expanded-disabled",
   "metadata": {},
   "outputs": [
    {
     "data": {
      "text/plain": [
       "(60, 26)"
      ]
     },
     "execution_count": 13,
     "metadata": {},
     "output_type": "execute_result"
    }
   ],
   "source": [
    "test_set.shape"
   ]
  },
  {
   "cell_type": "code",
   "execution_count": 14,
   "id": "prerequisite-shakespeare",
   "metadata": {},
   "outputs": [
    {
     "name": "stdout",
     "output_type": "stream",
     "text": [
      "           0         1         2         3         4         5         6   \\\n",
      "231  0.290464  1.906214  0.825893 -1.121550 -0.696631 -0.034166  2.224104   \n",
      "234  1.724218 -0.092738  1.463634 -1.777508 -0.696631  1.173608  2.224104   \n",
      "164 -1.805024  0.364165 -1.377212  1.021244 -0.696631 -0.896862  3.203615   \n",
      "204  0.841908  1.620649 -1.589792 -0.203210 -0.696631  4.451851  2.224104   \n",
      "44  -1.694735  0.478391  1.444309  1.414819 -0.696631 -0.896862 -0.714429   \n",
      "..        ...       ...       ...       ...       ...       ...       ...   \n",
      "62  -0.260980 -0.778093 -1.164631  1.764663 -0.696631 -0.896862 -0.714429   \n",
      "83  -0.260980  1.163746  0.999823  1.239897 -0.696631  0.138373 -0.714429   \n",
      "292  0.400752  2.191778 -0.410938 -0.159479  1.435481  1.518686  1.244593   \n",
      "158  0.400752 -0.378302 -0.507565 -0.246940 -0.696631 -0.551783  3.203615   \n",
      "161  0.069886  0.021488  1.850144  0.715131 -0.696631  0.138373 -0.714429   \n",
      "\n",
      "      7    8    9   ...   15   16   17   18   19   20   21   22   23   24  \n",
      "231  0.0  1.0  1.0  ...  1.0  0.0  0.0  0.0  1.0  0.0  0.0  0.0  0.0  1.0  \n",
      "234  0.0  1.0  1.0  ...  1.0  0.0  0.0  0.0  1.0  0.0  0.0  0.0  1.0  0.0  \n",
      "164  0.0  1.0  0.0  ...  0.0  1.0  0.0  0.0  0.0  1.0  0.0  0.0  1.0  0.0  \n",
      "204  1.0  0.0  1.0  ...  1.0  0.0  0.0  1.0  0.0  0.0  0.0  0.0  0.0  1.0  \n",
      "44   0.0  1.0  0.0  ...  1.0  0.0  0.0  0.0  0.0  1.0  0.0  0.0  1.0  0.0  \n",
      "..   ...  ...  ...  ...  ...  ...  ...  ...  ...  ...  ...  ...  ...  ...  \n",
      "62   0.0  1.0  0.0  ...  1.0  0.0  0.0  0.0  1.0  0.0  0.0  1.0  0.0  0.0  \n",
      "83   0.0  1.0  0.0  ...  0.0  1.0  0.0  0.0  1.0  0.0  0.0  0.0  0.0  1.0  \n",
      "292  1.0  0.0  1.0  ...  1.0  0.0  0.0  0.0  1.0  0.0  0.0  1.0  0.0  0.0  \n",
      "158  0.0  1.0  0.0  ...  0.0  1.0  0.0  0.0  1.0  0.0  0.0  0.0  0.0  1.0  \n",
      "161  1.0  0.0  0.0  ...  0.0  1.0  0.0  0.0  0.0  1.0  0.0  0.0  1.0  0.0  \n",
      "\n",
      "[243 rows x 25 columns]\n",
      "231    0\n",
      "234    0\n",
      "164    1\n",
      "204    0\n",
      "44     1\n",
      "      ..\n",
      "62     1\n",
      "83     1\n",
      "292    0\n",
      "158    1\n",
      "161    1\n",
      "Name: target, Length: 243, dtype: int64\n"
     ]
    }
   ],
   "source": [
    "x = train_set.iloc[:,:25]\n",
    "y = train_set.iloc[:,25]\n",
    "print(x)\n",
    "print(y)"
   ]
  },
  {
   "cell_type": "code",
   "execution_count": 15,
   "id": "legal-holmes",
   "metadata": {
    "tags": []
   },
   "outputs": [
    {
     "name": "stdout",
     "output_type": "stream",
     "text": [
      "           0         1         2         3         4         5         6   \\\n",
      "131 -0.591847  0.135714  0.478035  0.540209 -0.696631 -0.896862 -0.714429   \n",
      "21  -1.143291 -0.092738 -0.256334  1.283627  1.435481 -0.551783 -0.714429   \n",
      "174  0.621330 -0.092738 -0.778122 -0.771706  1.435481  1.173608  1.244593   \n",
      "52   0.841908 -0.092738 -0.294985 -0.159479 -0.696631  0.655990  2.224104   \n",
      "266  0.069886  2.762907  1.560262 -1.427664  1.435481  2.036303 -0.714429   \n",
      "60   1.834507 -1.234996  0.362082 -0.859167 -0.696631 -0.896862  0.265082   \n",
      "8   -0.260980  2.306004 -0.913400  0.540209 -0.696631 -0.465514 -0.714429   \n",
      "84  -1.363869 -1.691899  0.362082 -1.209011 -0.696631 -0.379244 -0.714429   \n",
      "57  -1.033002 -0.949431  0.265454  1.546010 -0.696631 -0.896862 -0.714429   \n",
      "11  -0.702136 -0.092738  0.555337 -0.465593 -0.696631 -0.724323 -0.714429   \n",
      "186  0.621330 -0.092738  0.130176 -0.246940  1.435481  0.310912  0.265082   \n",
      "92  -0.260980  0.364165 -0.449589  0.846322 -0.696631 -0.896862  3.203615   \n",
      "241  0.511041  2.420230  0.052874 -0.290671  1.435481 -0.896862 -0.714429   \n",
      "223  0.180175  3.905165  0.806568 -0.727976  1.435481  2.553921  1.244593   \n",
      "32  -1.143291 -0.092738 -0.526890  1.677202 -0.696631 -0.896862 -0.714429   \n",
      "184 -0.481558  1.049520 -0.063079 -0.946628 -0.696631  1.346147 -0.714429   \n",
      "147  0.621330  1.049520 -0.121055  0.933783 -0.696631 -0.120436 -0.714429   \n",
      "19   1.613930  0.478391 -0.140381  0.059173 -0.696631  0.655990  1.244593   \n",
      "236  0.400752 -0.378302  1.038474  0.933783 -0.696631 -0.896862  1.244593   \n",
      "219 -0.702136 -0.092738  0.188152  0.015443  1.435481 -0.896862  1.244593   \n",
      "149 -1.363869 -0.092738 -1.280584  0.015443 -0.696631 -0.896862 -0.714429   \n",
      "70  -0.040403 -0.663867  0.226803 -0.115749 -0.696631 -0.551783 -0.714429   \n",
      "265  1.283063 -1.120770 -0.662169 -0.771706  1.435481 -0.810592  0.265082   \n",
      "246  0.180175  0.135714  3.144951  0.015443  1.435481  0.742260  1.244593   \n",
      "124 -1.694735 -2.148802 -0.913400  1.283627 -0.696631 -0.896862 -0.714429   \n",
      "224 -0.040403 -1.234996 -0.140381 -1.034089  1.435481  1.518686  0.265082   \n",
      "216  0.841908 -0.092738  0.323431 -2.302274 -0.696631  0.138373  0.265082   \n",
      "7   -1.143291 -0.663867  0.323431  1.021244 -0.696631 -0.896862 -0.714429   \n",
      "101  0.511041  2.648682  0.458709 -0.203210 -0.696631  2.726460 -0.714429   \n",
      "154 -1.694735  0.364165 -0.507565  0.102904 -0.696631 -0.896862 -0.714429   \n",
      "302  0.290464 -0.092738 -0.198357  1.064975 -0.696631 -0.896862  0.265082   \n",
      "90  -0.702136 -0.435415  0.168827  1.108705 -0.696631 -0.896862  1.244593   \n",
      "198  0.841908 -0.663867  0.400733 -2.214813  1.435481  0.655990  1.244593   \n",
      "37  -0.040403  1.049520 -0.275659  0.671400 -0.696631  0.483451 -0.714429   \n",
      "215 -1.253580  0.021488  1.830818 -0.596784  1.435481  1.691225 -0.714429   \n",
      "98  -1.253580 -0.092738  1.328356  0.540209 -0.696631  0.742260  0.265082   \n",
      "45  -0.260980 -0.663867  1.521611  0.977514 -0.696631 -0.724323 -0.714429   \n",
      "185 -1.143291 -1.120770  0.845219  0.146634 -0.696631 -0.896862  0.265082   \n",
      "91   0.290464  0.021488 -0.758796  0.802592  1.435481 -0.896862 -0.714429   \n",
      "85   1.393352 -0.949431  6.140401  0.452748 -0.696631  0.483451 -0.714429   \n",
      "28   1.172774  0.478391  3.299555  0.321556 -0.696631 -0.206705  0.265082   \n",
      "171 -0.702136 -1.234996 -0.333636  0.802592 -0.696631 -0.034166 -0.714429   \n",
      "252  0.841908  0.364165  0.922521 -1.908699 -0.696631  0.742260  2.224104   \n",
      "76  -0.371269 -0.378302 -0.024428  0.715131 -0.696631  1.173608 -0.714429   \n",
      "46  -1.143291  0.478391 -0.217683  1.327358 -0.696631 -0.896862 -0.714429   \n",
      "71  -0.371269 -2.148802 -0.372287  0.190365  1.435481 -0.896862  0.265082   \n",
      "126 -0.812425 -1.120770 -0.816773 -0.290671 -0.696631 -0.810592 -0.714429   \n",
      "210  0.290464 -0.206964 -0.333636  0.015443 -0.696631 -0.551783  0.265082   \n",
      "15  -0.481558 -0.663867 -0.526890  0.365287 -0.696631  0.483451 -0.714429   \n",
      "191  0.400752 -0.206964 -0.584867 -0.815437  1.435481  1.001069  2.224104   \n",
      "269  0.180175 -0.092738  0.709940 -2.039891  1.435481  0.483451 -0.714429   \n",
      "248 -0.040403  3.448262  0.709940  1.983316 -0.696631 -0.896862  0.265082   \n",
      "33  -0.040403 -0.378302  0.516686  0.102904 -0.696631 -0.465514  0.265082   \n",
      "67  -1.033002 -0.092738 -0.237008  1.108705 -0.696631 -0.379244 -0.714429   \n",
      "123 -0.040403 -1.349222  0.400733  0.758861 -0.696631 -0.896862 -0.714429   \n",
      "229  1.062485 -0.378302  1.212403 -0.815437  1.435481  0.655990 -0.714429   \n",
      "277  0.290464 -0.435415  0.284780 -0.378132 -0.696631 -0.638053 -0.714429   \n",
      "26   0.511041  1.049520 -0.662169  0.321556 -0.696631  0.483451 -0.714429   \n",
      "145  1.724218  1.392198 -0.024428 -0.290671 -0.696631 -0.896862 -0.714429   \n",
      "20   0.511041  0.192827 -0.237008  0.496478 -0.696631 -0.465514 -0.714429   \n",
      "\n",
      "      7    8    9   ...   15   16   17   18   19   20   21   22   23   24  \n",
      "131  1.0  0.0  0.0  ...  0.0  1.0  0.0  0.0  1.0  0.0  0.0  0.0  1.0  0.0  \n",
      "21   0.0  1.0  0.0  ...  0.0  1.0  0.0  0.0  0.0  1.0  0.0  0.0  1.0  0.0  \n",
      "174  0.0  1.0  1.0  ...  1.0  0.0  0.0  0.0  1.0  0.0  0.0  0.0  0.0  1.0  \n",
      "52   0.0  1.0  0.0  ...  0.0  1.0  0.0  0.0  1.0  0.0  0.0  0.0  0.0  1.0  \n",
      "266  1.0  0.0  1.0  ...  0.0  0.0  1.0  0.0  1.0  0.0  0.0  0.0  1.0  0.0  \n",
      "60   1.0  0.0  0.0  ...  1.0  0.0  0.0  0.0  0.0  1.0  0.0  0.0  1.0  0.0  \n",
      "8    0.0  1.0  0.0  ...  0.0  1.0  0.0  0.0  0.0  1.0  0.0  0.0  0.0  1.0  \n",
      "84   1.0  0.0  1.0  ...  1.0  0.0  0.0  0.0  1.0  0.0  0.0  0.0  1.0  0.0  \n",
      "57   0.0  1.0  1.0  ...  1.0  0.0  0.0  0.0  0.0  1.0  0.0  0.0  1.0  0.0  \n",
      "11   1.0  0.0  0.0  ...  0.0  1.0  0.0  0.0  0.0  1.0  0.0  0.0  1.0  0.0  \n",
      "186  0.0  1.0  1.0  ...  0.0  1.0  0.0  0.0  0.0  1.0  0.0  0.0  0.0  1.0  \n",
      "92   0.0  1.0  0.0  ...  0.0  1.0  0.0  0.0  0.0  1.0  0.0  0.0  1.0  0.0  \n",
      "241  1.0  0.0  1.0  ...  0.0  1.0  0.0  0.0  1.0  0.0  0.0  0.0  1.0  0.0  \n",
      "223  1.0  0.0  1.0  ...  1.0  0.0  0.0  1.0  0.0  0.0  0.0  0.0  0.0  1.0  \n",
      "32   0.0  1.0  0.0  ...  1.0  0.0  0.0  0.0  0.0  1.0  0.0  0.0  1.0  0.0  \n",
      "184  0.0  1.0  1.0  ...  1.0  0.0  0.0  0.0  1.0  0.0  0.0  0.0  0.0  1.0  \n",
      "147  1.0  0.0  0.0  ...  0.0  1.0  0.0  0.0  0.0  1.0  0.0  0.0  1.0  0.0  \n",
      "19   1.0  0.0  0.0  ...  0.0  1.0  0.0  0.0  0.0  1.0  0.0  0.0  1.0  0.0  \n",
      "236  0.0  1.0  1.0  ...  1.0  0.0  0.0  0.0  0.0  1.0  0.0  0.0  0.0  1.0  \n",
      "219  0.0  1.0  1.0  ...  1.0  0.0  0.0  0.0  0.0  1.0  0.0  0.0  0.0  1.0  \n",
      "149  0.0  1.0  0.0  ...  0.0  1.0  0.0  0.0  0.0  1.0  0.0  0.0  1.0  0.0  \n",
      "70   0.0  1.0  0.0  ...  1.0  0.0  0.0  0.0  1.0  0.0  0.0  0.0  0.0  1.0  \n",
      "265  0.0  1.0  1.0  ...  1.0  0.0  0.0  0.0  0.0  1.0  0.0  0.0  1.0  0.0  \n",
      "246  1.0  0.0  1.0  ...  1.0  0.0  0.0  0.0  1.0  0.0  0.0  0.0  0.0  1.0  \n",
      "124  1.0  0.0  0.0  ...  0.0  1.0  0.0  0.0  0.0  1.0  0.0  0.0  1.0  0.0  \n",
      "224  0.0  1.0  1.0  ...  0.0  1.0  0.0  0.0  1.0  0.0  0.0  0.0  0.0  1.0  \n",
      "216  1.0  0.0  0.0  ...  0.0  1.0  0.0  0.0  1.0  0.0  0.0  0.0  0.0  1.0  \n",
      "7    0.0  1.0  0.0  ...  0.0  1.0  0.0  0.0  0.0  1.0  0.0  0.0  0.0  1.0  \n",
      "101  0.0  1.0  0.0  ...  1.0  0.0  0.0  1.0  0.0  0.0  0.0  0.0  0.0  1.0  \n",
      "154  1.0  0.0  0.0  ...  0.0  1.0  0.0  0.0  1.0  0.0  0.0  0.0  1.0  0.0  \n",
      "302  1.0  0.0  0.0  ...  1.0  0.0  0.0  0.0  1.0  0.0  0.0  0.0  1.0  0.0  \n",
      "90   0.0  1.0  0.0  ...  0.0  1.0  0.0  0.0  0.0  1.0  0.0  0.0  1.0  0.0  \n",
      "198  0.0  1.0  1.0  ...  0.0  1.0  0.0  0.0  1.0  0.0  0.0  0.0  0.0  1.0  \n",
      "37   0.0  1.0  0.0  ...  1.0  0.0  0.0  0.0  0.0  1.0  0.0  0.0  0.0  1.0  \n",
      "215  1.0  0.0  1.0  ...  1.0  0.0  0.0  0.0  1.0  0.0  0.0  0.0  0.0  1.0  \n",
      "98   0.0  1.0  0.0  ...  0.0  1.0  0.0  0.0  0.0  1.0  0.0  0.0  1.0  0.0  \n",
      "45   0.0  1.0  0.0  ...  0.0  1.0  0.0  0.0  0.0  1.0  0.0  0.0  1.0  0.0  \n",
      "185  0.0  1.0  1.0  ...  1.0  0.0  0.0  0.0  0.0  1.0  0.0  0.0  1.0  0.0  \n",
      "91   0.0  1.0  1.0  ...  0.0  1.0  0.0  0.0  0.0  1.0  0.0  0.0  0.0  1.0  \n",
      "85   1.0  0.0  0.0  ...  1.0  0.0  0.0  0.0  1.0  0.0  0.0  0.0  0.0  1.0  \n",
      "28   1.0  0.0  0.0  ...  1.0  0.0  0.0  0.0  0.0  1.0  0.0  0.0  1.0  0.0  \n",
      "171  0.0  1.0  0.0  ...  0.0  1.0  0.0  1.0  0.0  0.0  0.0  0.0  0.0  1.0  \n",
      "252  1.0  0.0  1.0  ...  0.0  1.0  0.0  0.0  1.0  0.0  0.0  0.0  1.0  0.0  \n",
      "76   0.0  1.0  0.0  ...  1.0  0.0  0.0  0.0  1.0  0.0  0.0  0.0  1.0  0.0  \n",
      "46   0.0  1.0  0.0  ...  1.0  0.0  0.0  0.0  0.0  1.0  0.0  0.0  1.0  0.0  \n",
      "71   0.0  1.0  0.0  ...  0.0  1.0  0.0  0.0  0.0  1.0  0.0  0.0  0.0  1.0  \n",
      "126  0.0  1.0  1.0  ...  0.0  1.0  0.0  0.0  0.0  1.0  0.0  0.0  1.0  0.0  \n",
      "210  0.0  1.0  0.0  ...  1.0  0.0  0.0  0.0  1.0  0.0  0.0  0.0  0.0  1.0  \n",
      "15   1.0  0.0  0.0  ...  0.0  1.0  0.0  0.0  1.0  0.0  0.0  0.0  1.0  0.0  \n",
      "191  0.0  1.0  1.0  ...  1.0  0.0  0.0  0.0  1.0  0.0  0.0  0.0  0.0  1.0  \n",
      "269  0.0  1.0  1.0  ...  1.0  0.0  0.0  1.0  0.0  0.0  0.0  0.0  0.0  1.0  \n",
      "248  0.0  1.0  0.0  ...  1.0  0.0  0.0  0.0  0.0  1.0  0.0  0.0  0.0  1.0  \n",
      "33   0.0  1.0  0.0  ...  1.0  0.0  0.0  1.0  0.0  0.0  0.0  0.0  1.0  0.0  \n",
      "67   1.0  0.0  0.0  ...  1.0  0.0  0.0  0.0  1.0  0.0  0.0  0.0  1.0  0.0  \n",
      "123  1.0  0.0  0.0  ...  1.0  0.0  0.0  0.0  0.0  1.0  0.0  0.0  1.0  0.0  \n",
      "229  0.0  1.0  0.0  ...  0.0  1.0  0.0  0.0  1.0  0.0  0.0  0.0  0.0  1.0  \n",
      "277  0.0  1.0  0.0  ...  0.0  1.0  0.0  0.0  0.0  1.0  0.0  0.0  0.0  1.0  \n",
      "26   0.0  1.0  0.0  ...  0.0  1.0  0.0  0.0  0.0  1.0  0.0  0.0  1.0  0.0  \n",
      "145  0.0  1.0  0.0  ...  1.0  0.0  0.0  0.0  0.0  1.0  0.0  0.0  1.0  0.0  \n",
      "20   0.0  1.0  1.0  ...  0.0  1.0  0.0  0.0  1.0  0.0  0.0  0.0  0.0  1.0  \n",
      "\n",
      "[60 rows x 25 columns]\n",
      "131    1\n",
      "21     1\n",
      "174    0\n",
      "52     1\n",
      "266    0\n",
      "60     1\n",
      "8      1\n",
      "84     1\n",
      "57     1\n",
      "11     1\n",
      "186    0\n",
      "92     1\n",
      "241    0\n",
      "223    0\n",
      "32     1\n",
      "184    0\n",
      "147    1\n",
      "19     1\n",
      "236    0\n",
      "219    0\n",
      "149    1\n",
      "70     1\n",
      "265    0\n",
      "246    0\n",
      "124    1\n",
      "224    0\n",
      "216    0\n",
      "7      1\n",
      "101    1\n",
      "154    1\n",
      "302    0\n",
      "90     1\n",
      "198    0\n",
      "37     1\n",
      "215    0\n",
      "98     1\n",
      "45     1\n",
      "185    0\n",
      "91     1\n",
      "85     1\n",
      "28     1\n",
      "171    0\n",
      "252    0\n",
      "76     1\n",
      "46     1\n",
      "71     1\n",
      "126    1\n",
      "210    0\n",
      "15     1\n",
      "191    0\n",
      "269    0\n",
      "248    0\n",
      "33     1\n",
      "67     1\n",
      "123    1\n",
      "229    0\n",
      "277    0\n",
      "26     1\n",
      "145    1\n",
      "20     1\n",
      "Name: target, dtype: int64\n"
     ]
    }
   ],
   "source": [
    "X = test_set.iloc[:,:25]\n",
    "Y = test_set.iloc[:,25]\n",
    "print(X)\n",
    "print(Y)"
   ]
  },
  {
   "cell_type": "code",
   "execution_count": 16,
   "id": "sorted-chest",
   "metadata": {},
   "outputs": [],
   "source": [
    "def display_scores(scores):\n",
    "    print(\"Scores:\",scores)\n",
    "    print(\"Mean:\",scores.mean())\n",
    "    print(\"Standard deviation:\",scores.std())\n",
    "    "
   ]
  },
  {
   "cell_type": "code",
   "execution_count": 17,
   "id": "corrected-oxide",
   "metadata": {},
   "outputs": [
    {
     "name": "stderr",
     "output_type": "stream",
     "text": [
      "<ipython-input-17-477d3ef872e3>:4: SettingWithCopyWarning: \n",
      "A value is trying to be set on a copy of a slice from a DataFrame.\n",
      "Try using .loc[row_indexer,col_indexer] = value instead\n",
      "\n",
      "See the caveats in the documentation: https://pandas.pydata.org/pandas-docs/stable/user_guide/indexing.html#returning-a-view-versus-a-copy\n",
      "  test_set[\"predicted\"] = tree.predict(X)\n"
     ]
    },
    {
     "data": {
      "text/html": [
       "<div>\n",
       "<style scoped>\n",
       "    .dataframe tbody tr th:only-of-type {\n",
       "        vertical-align: middle;\n",
       "    }\n",
       "\n",
       "    .dataframe tbody tr th {\n",
       "        vertical-align: top;\n",
       "    }\n",
       "\n",
       "    .dataframe thead th {\n",
       "        text-align: right;\n",
       "    }\n",
       "</style>\n",
       "<table border=\"1\" class=\"dataframe\">\n",
       "  <thead>\n",
       "    <tr style=\"text-align: right;\">\n",
       "      <th></th>\n",
       "      <th>0</th>\n",
       "      <th>1</th>\n",
       "      <th>2</th>\n",
       "      <th>3</th>\n",
       "      <th>4</th>\n",
       "      <th>5</th>\n",
       "      <th>6</th>\n",
       "      <th>7</th>\n",
       "      <th>8</th>\n",
       "      <th>9</th>\n",
       "      <th>...</th>\n",
       "      <th>17</th>\n",
       "      <th>18</th>\n",
       "      <th>19</th>\n",
       "      <th>20</th>\n",
       "      <th>21</th>\n",
       "      <th>22</th>\n",
       "      <th>23</th>\n",
       "      <th>24</th>\n",
       "      <th>target</th>\n",
       "      <th>predicted</th>\n",
       "    </tr>\n",
       "  </thead>\n",
       "  <tbody>\n",
       "    <tr>\n",
       "      <th>131</th>\n",
       "      <td>-0.591847</td>\n",
       "      <td>0.135714</td>\n",
       "      <td>0.478035</td>\n",
       "      <td>0.540209</td>\n",
       "      <td>-0.696631</td>\n",
       "      <td>-0.896862</td>\n",
       "      <td>-0.714429</td>\n",
       "      <td>1.0</td>\n",
       "      <td>0.0</td>\n",
       "      <td>0.0</td>\n",
       "      <td>...</td>\n",
       "      <td>0.0</td>\n",
       "      <td>0.0</td>\n",
       "      <td>1.0</td>\n",
       "      <td>0.0</td>\n",
       "      <td>0.0</td>\n",
       "      <td>0.0</td>\n",
       "      <td>1.0</td>\n",
       "      <td>0.0</td>\n",
       "      <td>1</td>\n",
       "      <td>1</td>\n",
       "    </tr>\n",
       "    <tr>\n",
       "      <th>21</th>\n",
       "      <td>-1.143291</td>\n",
       "      <td>-0.092738</td>\n",
       "      <td>-0.256334</td>\n",
       "      <td>1.283627</td>\n",
       "      <td>1.435481</td>\n",
       "      <td>-0.551783</td>\n",
       "      <td>-0.714429</td>\n",
       "      <td>0.0</td>\n",
       "      <td>1.0</td>\n",
       "      <td>0.0</td>\n",
       "      <td>...</td>\n",
       "      <td>0.0</td>\n",
       "      <td>0.0</td>\n",
       "      <td>0.0</td>\n",
       "      <td>1.0</td>\n",
       "      <td>0.0</td>\n",
       "      <td>0.0</td>\n",
       "      <td>1.0</td>\n",
       "      <td>0.0</td>\n",
       "      <td>1</td>\n",
       "      <td>1</td>\n",
       "    </tr>\n",
       "    <tr>\n",
       "      <th>174</th>\n",
       "      <td>0.621330</td>\n",
       "      <td>-0.092738</td>\n",
       "      <td>-0.778122</td>\n",
       "      <td>-0.771706</td>\n",
       "      <td>1.435481</td>\n",
       "      <td>1.173608</td>\n",
       "      <td>1.244593</td>\n",
       "      <td>0.0</td>\n",
       "      <td>1.0</td>\n",
       "      <td>1.0</td>\n",
       "      <td>...</td>\n",
       "      <td>0.0</td>\n",
       "      <td>0.0</td>\n",
       "      <td>1.0</td>\n",
       "      <td>0.0</td>\n",
       "      <td>0.0</td>\n",
       "      <td>0.0</td>\n",
       "      <td>0.0</td>\n",
       "      <td>1.0</td>\n",
       "      <td>0</td>\n",
       "      <td>0</td>\n",
       "    </tr>\n",
       "    <tr>\n",
       "      <th>52</th>\n",
       "      <td>0.841908</td>\n",
       "      <td>-0.092738</td>\n",
       "      <td>-0.294985</td>\n",
       "      <td>-0.159479</td>\n",
       "      <td>-0.696631</td>\n",
       "      <td>0.655990</td>\n",
       "      <td>2.224104</td>\n",
       "      <td>0.0</td>\n",
       "      <td>1.0</td>\n",
       "      <td>0.0</td>\n",
       "      <td>...</td>\n",
       "      <td>0.0</td>\n",
       "      <td>0.0</td>\n",
       "      <td>1.0</td>\n",
       "      <td>0.0</td>\n",
       "      <td>0.0</td>\n",
       "      <td>0.0</td>\n",
       "      <td>0.0</td>\n",
       "      <td>1.0</td>\n",
       "      <td>1</td>\n",
       "      <td>0</td>\n",
       "    </tr>\n",
       "    <tr>\n",
       "      <th>266</th>\n",
       "      <td>0.069886</td>\n",
       "      <td>2.762907</td>\n",
       "      <td>1.560262</td>\n",
       "      <td>-1.427664</td>\n",
       "      <td>1.435481</td>\n",
       "      <td>2.036303</td>\n",
       "      <td>-0.714429</td>\n",
       "      <td>1.0</td>\n",
       "      <td>0.0</td>\n",
       "      <td>1.0</td>\n",
       "      <td>...</td>\n",
       "      <td>1.0</td>\n",
       "      <td>0.0</td>\n",
       "      <td>1.0</td>\n",
       "      <td>0.0</td>\n",
       "      <td>0.0</td>\n",
       "      <td>0.0</td>\n",
       "      <td>1.0</td>\n",
       "      <td>0.0</td>\n",
       "      <td>0</td>\n",
       "      <td>1</td>\n",
       "    </tr>\n",
       "  </tbody>\n",
       "</table>\n",
       "<p>5 rows × 27 columns</p>\n",
       "</div>"
      ],
      "text/plain": [
       "            0         1         2         3         4         5         6  \\\n",
       "131 -0.591847  0.135714  0.478035  0.540209 -0.696631 -0.896862 -0.714429   \n",
       "21  -1.143291 -0.092738 -0.256334  1.283627  1.435481 -0.551783 -0.714429   \n",
       "174  0.621330 -0.092738 -0.778122 -0.771706  1.435481  1.173608  1.244593   \n",
       "52   0.841908 -0.092738 -0.294985 -0.159479 -0.696631  0.655990  2.224104   \n",
       "266  0.069886  2.762907  1.560262 -1.427664  1.435481  2.036303 -0.714429   \n",
       "\n",
       "       7    8    9  ...   17   18   19   20   21   22   23   24  target  \\\n",
       "131  1.0  0.0  0.0  ...  0.0  0.0  1.0  0.0  0.0  0.0  1.0  0.0       1   \n",
       "21   0.0  1.0  0.0  ...  0.0  0.0  0.0  1.0  0.0  0.0  1.0  0.0       1   \n",
       "174  0.0  1.0  1.0  ...  0.0  0.0  1.0  0.0  0.0  0.0  0.0  1.0       0   \n",
       "52   0.0  1.0  0.0  ...  0.0  0.0  1.0  0.0  0.0  0.0  0.0  1.0       1   \n",
       "266  1.0  0.0  1.0  ...  1.0  0.0  1.0  0.0  0.0  0.0  1.0  0.0       0   \n",
       "\n",
       "     predicted  \n",
       "131          1  \n",
       "21           1  \n",
       "174          0  \n",
       "52           0  \n",
       "266          1  \n",
       "\n",
       "[5 rows x 27 columns]"
      ]
     },
     "execution_count": 17,
     "metadata": {},
     "output_type": "execute_result"
    }
   ],
   "source": [
    "from sklearn.tree import DecisionTreeClassifier\n",
    "tree = DecisionTreeClassifier().fit(x,y)\n",
    "tree.predict(X)\n",
    "test_set[\"predicted\"] = tree.predict(X)\n",
    "test_set.head()"
   ]
  },
  {
   "cell_type": "code",
   "execution_count": 18,
   "id": "corrected-consolidation",
   "metadata": {},
   "outputs": [],
   "source": [
    "df_test = pd.DataFrame(test_set)\n",
    "df_test.sort_index(inplace=True)"
   ]
  },
  {
   "cell_type": "code",
   "execution_count": 19,
   "id": "quality-hands",
   "metadata": {},
   "outputs": [
    {
     "data": {
      "image/png": "[encoded data removed]",
      "text/plain": [
       "<Figure size 432x288 with 1 Axes>"
      ]
     },
     "metadata": {
      "needs_background": "light"
     },
     "output_type": "display_data"
    }
   ],
   "source": [
    "df_test[[\"target\",\"predicted\"]].plot(alpha=0.5);"
   ]
  },
  {
   "cell_type": "code",
   "execution_count": 20,
   "id": "disturbed-casino",
   "metadata": {
    "tags": []
   },
   "outputs": [
    {
     "data": {
      "text/plain": [
       "array([[17,  7],\n",
       "       [ 8, 28]], dtype=int64)"
      ]
     },
     "execution_count": 20,
     "metadata": {},
     "output_type": "execute_result"
    }
   ],
   "source": [
    "from sklearn.metrics import confusion_matrix\n",
    "confusion_matrix(Y, test_set[\"predicted\"])"
   ]
  },
  {
   "cell_type": "code",
   "execution_count": 21,
   "id": "permanent-square",
   "metadata": {},
   "outputs": [
    {
     "data": {
      "text/plain": [
       "0.75"
      ]
     },
     "execution_count": 21,
     "metadata": {},
     "output_type": "execute_result"
    }
   ],
   "source": [
    "from sklearn.metrics import accuracy_score\n",
    "accuracy_score(Y, test_set[\"predicted\"])    "
   ]
  },
  {
   "cell_type": "code",
   "execution_count": 22,
   "id": "inclusive-appreciation",
   "metadata": {},
   "outputs": [
    {
     "data": {
      "text/plain": [
       "0.5"
      ]
     },
     "execution_count": 22,
     "metadata": {},
     "output_type": "execute_result"
    }
   ],
   "source": [
    "from sklearn.metrics import mean_squared_error\n",
    "tree_pred = tree.predict(X)\n",
    "tree_mse = mean_squared_error(Y, tree_pred)\n",
    "tree_rmse = np.sqrt(tree_mse)\n",
    "tree_rmse"
   ]
  },
  {
   "cell_type": "code",
   "execution_count": 23,
   "id": "searching-numbers",
   "metadata": {
    "tags": []
   },
   "outputs": [
    {
     "name": "stdout",
     "output_type": "stream",
     "text": [
      "Scores: [0.         0.63245553 0.4472136  0.4472136  0.4472136  0.63245553\n",
      " 0.4472136  0.63245553 0.4472136  0.63245553 0.63245553 0.4472136\n",
      " 0.63245553 0.4472136  0.63245553 0.63245553 0.63245553 0.4472136\n",
      " 0.77459667 0.         0.4472136  0.63245553 0.63245553 0.77459667\n",
      " 0.63245553 0.4472136  0.4472136  0.         0.63245553 0.\n",
      " 0.4472136  0.4472136  0.         0.         0.4472136  0.4472136\n",
      " 0.63245553 0.4472136  0.4472136  0.63245553 0.4472136  0.4472136\n",
      " 0.4472136  0.         1.         0.8660254  0.8660254  0.70710678\n",
      " 0.70710678 0.5       ]\n",
      "Mean: 0.49253125197858466\n",
      "Standard deviation: 0.23751413815688505\n"
     ]
    }
   ],
   "source": [
    "from sklearn.model_selection import cross_val_score\n",
    "scores = cross_val_score(tree, x, y, scoring=\"neg_mean_squared_error\", cv=50)\n",
    "tree_rmse_scores = np.sqrt(-scores)\n",
    "display_scores(tree_rmse_scores)"
   ]
  },
  {
   "cell_type": "code",
   "execution_count": 24,
   "id": "reserved-tourism",
   "metadata": {
    "tags": []
   },
   "outputs": [
    {
     "name": "stderr",
     "output_type": "stream",
     "text": [
      "<ipython-input-24-e324e5324584>:5: SettingWithCopyWarning: \n",
      "A value is trying to be set on a copy of a slice from a DataFrame.\n",
      "Try using .loc[row_indexer,col_indexer] = value instead\n",
      "\n",
      "See the caveats in the documentation: https://pandas.pydata.org/pandas-docs/stable/user_guide/indexing.html#returning-a-view-versus-a-copy\n",
      "  test_set[\"predicted\"] = forest.predict(X)\n"
     ]
    },
    {
     "data": {
      "text/html": [
       "<div>\n",
       "<style scoped>\n",
       "    .dataframe tbody tr th:only-of-type {\n",
       "        vertical-align: middle;\n",
       "    }\n",
       "\n",
       "    .dataframe tbody tr th {\n",
       "        vertical-align: top;\n",
       "    }\n",
       "\n",
       "    .dataframe thead th {\n",
       "        text-align: right;\n",
       "    }\n",
       "</style>\n",
       "<table border=\"1\" class=\"dataframe\">\n",
       "  <thead>\n",
       "    <tr style=\"text-align: right;\">\n",
       "      <th></th>\n",
       "      <th>0</th>\n",
       "      <th>1</th>\n",
       "      <th>2</th>\n",
       "      <th>3</th>\n",
       "      <th>4</th>\n",
       "      <th>5</th>\n",
       "      <th>6</th>\n",
       "      <th>7</th>\n",
       "      <th>8</th>\n",
       "      <th>9</th>\n",
       "      <th>...</th>\n",
       "      <th>17</th>\n",
       "      <th>18</th>\n",
       "      <th>19</th>\n",
       "      <th>20</th>\n",
       "      <th>21</th>\n",
       "      <th>22</th>\n",
       "      <th>23</th>\n",
       "      <th>24</th>\n",
       "      <th>target</th>\n",
       "      <th>predicted</th>\n",
       "    </tr>\n",
       "  </thead>\n",
       "  <tbody>\n",
       "    <tr>\n",
       "      <th>131</th>\n",
       "      <td>-0.591847</td>\n",
       "      <td>0.135714</td>\n",
       "      <td>0.478035</td>\n",
       "      <td>0.540209</td>\n",
       "      <td>-0.696631</td>\n",
       "      <td>-0.896862</td>\n",
       "      <td>-0.714429</td>\n",
       "      <td>1.0</td>\n",
       "      <td>0.0</td>\n",
       "      <td>0.0</td>\n",
       "      <td>...</td>\n",
       "      <td>0.0</td>\n",
       "      <td>0.0</td>\n",
       "      <td>1.0</td>\n",
       "      <td>0.0</td>\n",
       "      <td>0.0</td>\n",
       "      <td>0.0</td>\n",
       "      <td>1.0</td>\n",
       "      <td>0.0</td>\n",
       "      <td>1</td>\n",
       "      <td>1</td>\n",
       "    </tr>\n",
       "    <tr>\n",
       "      <th>21</th>\n",
       "      <td>-1.143291</td>\n",
       "      <td>-0.092738</td>\n",
       "      <td>-0.256334</td>\n",
       "      <td>1.283627</td>\n",
       "      <td>1.435481</td>\n",
       "      <td>-0.551783</td>\n",
       "      <td>-0.714429</td>\n",
       "      <td>0.0</td>\n",
       "      <td>1.0</td>\n",
       "      <td>0.0</td>\n",
       "      <td>...</td>\n",
       "      <td>0.0</td>\n",
       "      <td>0.0</td>\n",
       "      <td>0.0</td>\n",
       "      <td>1.0</td>\n",
       "      <td>0.0</td>\n",
       "      <td>0.0</td>\n",
       "      <td>1.0</td>\n",
       "      <td>0.0</td>\n",
       "      <td>1</td>\n",
       "      <td>1</td>\n",
       "    </tr>\n",
       "    <tr>\n",
       "      <th>174</th>\n",
       "      <td>0.621330</td>\n",
       "      <td>-0.092738</td>\n",
       "      <td>-0.778122</td>\n",
       "      <td>-0.771706</td>\n",
       "      <td>1.435481</td>\n",
       "      <td>1.173608</td>\n",
       "      <td>1.244593</td>\n",
       "      <td>0.0</td>\n",
       "      <td>1.0</td>\n",
       "      <td>1.0</td>\n",
       "      <td>...</td>\n",
       "      <td>0.0</td>\n",
       "      <td>0.0</td>\n",
       "      <td>1.0</td>\n",
       "      <td>0.0</td>\n",
       "      <td>0.0</td>\n",
       "      <td>0.0</td>\n",
       "      <td>0.0</td>\n",
       "      <td>1.0</td>\n",
       "      <td>0</td>\n",
       "      <td>0</td>\n",
       "    </tr>\n",
       "    <tr>\n",
       "      <th>52</th>\n",
       "      <td>0.841908</td>\n",
       "      <td>-0.092738</td>\n",
       "      <td>-0.294985</td>\n",
       "      <td>-0.159479</td>\n",
       "      <td>-0.696631</td>\n",
       "      <td>0.655990</td>\n",
       "      <td>2.224104</td>\n",
       "      <td>0.0</td>\n",
       "      <td>1.0</td>\n",
       "      <td>0.0</td>\n",
       "      <td>...</td>\n",
       "      <td>0.0</td>\n",
       "      <td>0.0</td>\n",
       "      <td>1.0</td>\n",
       "      <td>0.0</td>\n",
       "      <td>0.0</td>\n",
       "      <td>0.0</td>\n",
       "      <td>0.0</td>\n",
       "      <td>1.0</td>\n",
       "      <td>1</td>\n",
       "      <td>0</td>\n",
       "    </tr>\n",
       "    <tr>\n",
       "      <th>266</th>\n",
       "      <td>0.069886</td>\n",
       "      <td>2.762907</td>\n",
       "      <td>1.560262</td>\n",
       "      <td>-1.427664</td>\n",
       "      <td>1.435481</td>\n",
       "      <td>2.036303</td>\n",
       "      <td>-0.714429</td>\n",
       "      <td>1.0</td>\n",
       "      <td>0.0</td>\n",
       "      <td>1.0</td>\n",
       "      <td>...</td>\n",
       "      <td>1.0</td>\n",
       "      <td>0.0</td>\n",
       "      <td>1.0</td>\n",
       "      <td>0.0</td>\n",
       "      <td>0.0</td>\n",
       "      <td>0.0</td>\n",
       "      <td>1.0</td>\n",
       "      <td>0.0</td>\n",
       "      <td>0</td>\n",
       "      <td>0</td>\n",
       "    </tr>\n",
       "  </tbody>\n",
       "</table>\n",
       "<p>5 rows × 27 columns</p>\n",
       "</div>"
      ],
      "text/plain": [
       "            0         1         2         3         4         5         6  \\\n",
       "131 -0.591847  0.135714  0.478035  0.540209 -0.696631 -0.896862 -0.714429   \n",
       "21  -1.143291 -0.092738 -0.256334  1.283627  1.435481 -0.551783 -0.714429   \n",
       "174  0.621330 -0.092738 -0.778122 -0.771706  1.435481  1.173608  1.244593   \n",
       "52   0.841908 -0.092738 -0.294985 -0.159479 -0.696631  0.655990  2.224104   \n",
       "266  0.069886  2.762907  1.560262 -1.427664  1.435481  2.036303 -0.714429   \n",
       "\n",
       "       7    8    9  ...   17   18   19   20   21   22   23   24  target  \\\n",
       "131  1.0  0.0  0.0  ...  0.0  0.0  1.0  0.0  0.0  0.0  1.0  0.0       1   \n",
       "21   0.0  1.0  0.0  ...  0.0  0.0  0.0  1.0  0.0  0.0  1.0  0.0       1   \n",
       "174  0.0  1.0  1.0  ...  0.0  0.0  1.0  0.0  0.0  0.0  0.0  1.0       0   \n",
       "52   0.0  1.0  0.0  ...  0.0  0.0  1.0  0.0  0.0  0.0  0.0  1.0       1   \n",
       "266  1.0  0.0  1.0  ...  1.0  0.0  1.0  0.0  0.0  0.0  1.0  0.0       0   \n",
       "\n",
       "     predicted  \n",
       "131          1  \n",
       "21           1  \n",
       "174          0  \n",
       "52           0  \n",
       "266          0  \n",
       "\n",
       "[5 rows x 27 columns]"
      ]
     },
     "execution_count": 24,
     "metadata": {},
     "output_type": "execute_result"
    }
   ],
   "source": [
    "from sklearn.ensemble import RandomForestClassifier\n",
    "forest = RandomForestClassifier()\n",
    "forest.fit(x,y)\n",
    "forest.predict(X)\n",
    "test_set[\"predicted\"] = forest.predict(X)\n",
    "test_set.head()"
   ]
  },
  {
   "cell_type": "code",
   "execution_count": 25,
   "id": "valued-print",
   "metadata": {},
   "outputs": [],
   "source": [
    "df_test = pd.DataFrame(test_set)\n",
    "df_test.sort_index(inplace=True)"
   ]
  },
  {
   "cell_type": "code",
   "execution_count": 26,
   "id": "raised-violence",
   "metadata": {},
   "outputs": [
    {
     "data": {
      "image/png": "[encoded data removed]",
      "text/plain": [
       "<Figure size 432x288 with 1 Axes>"
      ]
     },
     "metadata": {
      "needs_background": "light"
     },
     "output_type": "display_data"
    }
   ],
   "source": [
    "df_test[[\"target\",\"predicted\"]].plot(alpha=0.5);"
   ]
  },
  {
   "cell_type": "code",
   "execution_count": 27,
   "id": "desperate-thesaurus",
   "metadata": {
    "tags": []
   },
   "outputs": [
    {
     "data": {
      "text/plain": [
       "array([[21,  3],\n",
       "       [ 4, 32]], dtype=int64)"
      ]
     },
     "execution_count": 27,
     "metadata": {},
     "output_type": "execute_result"
    }
   ],
   "source": [
    "from sklearn.metrics import confusion_matrix\n",
    "confusion_matrix(Y, test_set[\"predicted\"])"
   ]
  },
  {
   "cell_type": "code",
   "execution_count": 28,
   "id": "reverse-sword",
   "metadata": {},
   "outputs": [
    {
     "data": {
      "text/plain": [
       "0.8833333333333333"
      ]
     },
     "execution_count": 28,
     "metadata": {},
     "output_type": "execute_result"
    }
   ],
   "source": [
    "from sklearn.metrics import accuracy_score\n",
    "accuracy_score(Y, test_set[\"predicted\"])    "
   ]
  },
  {
   "cell_type": "code",
   "execution_count": 29,
   "id": "catholic-courage",
   "metadata": {
    "tags": []
   },
   "outputs": [
    {
     "data": {
      "text/plain": [
       "0.3415650255319866"
      ]
     },
     "execution_count": 29,
     "metadata": {},
     "output_type": "execute_result"
    }
   ],
   "source": [
    "from sklearn.metrics import mean_squared_error\n",
    "forest_pred = forest.predict(X)\n",
    "forest_mse = mean_squared_error(Y, forest_pred)\n",
    "forest_rmse = np.sqrt(forest_mse)\n",
    "forest_rmse"
   ]
  },
  {
   "cell_type": "code",
   "execution_count": 30,
   "id": "baking-nightlife",
   "metadata": {
    "tags": []
   },
   "outputs": [
    {
     "name": "stdout",
     "output_type": "stream",
     "text": [
      "Scores: [0.         0.4472136  0.         0.         0.4472136  0.\n",
      " 0.4472136  0.77459667 0.4472136  0.63245553 0.77459667 0.4472136\n",
      " 0.4472136  0.4472136  0.63245553 0.         0.         0.4472136\n",
      " 0.4472136  0.         0.4472136  0.4472136  0.4472136  0.63245553\n",
      " 0.         0.         0.4472136  0.         0.63245553 0.\n",
      " 0.         0.63245553 0.         0.4472136  0.4472136  0.\n",
      " 0.4472136  0.4472136  0.4472136  0.4472136  0.4472136  0.\n",
      " 0.4472136  0.         0.70710678 0.70710678 0.         0.70710678\n",
      " 0.5        0.5       ]\n",
      "Mean: 0.3444855369542021\n",
      "Standard deviation: 0.2633053642244591\n"
     ]
    }
   ],
   "source": [
    "from sklearn.model_selection import cross_val_score\n",
    "scores = cross_val_score(forest, x, y, scoring=\"neg_mean_squared_error\", cv=50)\n",
    "forest_rmse_scores = np.sqrt(-scores)\n",
    "display_scores(forest_rmse_scores)"
   ]
  },
  {
   "cell_type": "code",
   "execution_count": 31,
   "id": "checked-circulation",
   "metadata": {
    "tags": []
   },
   "outputs": [
    {
     "name": "stderr",
     "output_type": "stream",
     "text": [
      "<ipython-input-31-5efd1f7bc4d1>:4: SettingWithCopyWarning: \n",
      "A value is trying to be set on a copy of a slice from a DataFrame.\n",
      "Try using .loc[row_indexer,col_indexer] = value instead\n",
      "\n",
      "See the caveats in the documentation: https://pandas.pydata.org/pandas-docs/stable/user_guide/indexing.html#returning-a-view-versus-a-copy\n",
      "  test_set[\"predicted\"] = log_reg.predict(X)\n"
     ]
    },
    {
     "data": {
      "text/html": [
       "<div>\n",
       "<style scoped>\n",
       "    .dataframe tbody tr th:only-of-type {\n",
       "        vertical-align: middle;\n",
       "    }\n",
       "\n",
       "    .dataframe tbody tr th {\n",
       "        vertical-align: top;\n",
       "    }\n",
       "\n",
       "    .dataframe thead th {\n",
       "        text-align: right;\n",
       "    }\n",
       "</style>\n",
       "<table border=\"1\" class=\"dataframe\">\n",
       "  <thead>\n",
       "    <tr style=\"text-align: right;\">\n",
       "      <th></th>\n",
       "      <th>0</th>\n",
       "      <th>1</th>\n",
       "      <th>2</th>\n",
       "      <th>3</th>\n",
       "      <th>4</th>\n",
       "      <th>5</th>\n",
       "      <th>6</th>\n",
       "      <th>7</th>\n",
       "      <th>8</th>\n",
       "      <th>9</th>\n",
       "      <th>...</th>\n",
       "      <th>17</th>\n",
       "      <th>18</th>\n",
       "      <th>19</th>\n",
       "      <th>20</th>\n",
       "      <th>21</th>\n",
       "      <th>22</th>\n",
       "      <th>23</th>\n",
       "      <th>24</th>\n",
       "      <th>target</th>\n",
       "      <th>predicted</th>\n",
       "    </tr>\n",
       "  </thead>\n",
       "  <tbody>\n",
       "    <tr>\n",
       "      <th>131</th>\n",
       "      <td>-0.591847</td>\n",
       "      <td>0.135714</td>\n",
       "      <td>0.478035</td>\n",
       "      <td>0.540209</td>\n",
       "      <td>-0.696631</td>\n",
       "      <td>-0.896862</td>\n",
       "      <td>-0.714429</td>\n",
       "      <td>1.0</td>\n",
       "      <td>0.0</td>\n",
       "      <td>0.0</td>\n",
       "      <td>...</td>\n",
       "      <td>0.0</td>\n",
       "      <td>0.0</td>\n",
       "      <td>1.0</td>\n",
       "      <td>0.0</td>\n",
       "      <td>0.0</td>\n",
       "      <td>0.0</td>\n",
       "      <td>1.0</td>\n",
       "      <td>0.0</td>\n",
       "      <td>1</td>\n",
       "      <td>1</td>\n",
       "    </tr>\n",
       "    <tr>\n",
       "      <th>21</th>\n",
       "      <td>-1.143291</td>\n",
       "      <td>-0.092738</td>\n",
       "      <td>-0.256334</td>\n",
       "      <td>1.283627</td>\n",
       "      <td>1.435481</td>\n",
       "      <td>-0.551783</td>\n",
       "      <td>-0.714429</td>\n",
       "      <td>0.0</td>\n",
       "      <td>1.0</td>\n",
       "      <td>0.0</td>\n",
       "      <td>...</td>\n",
       "      <td>0.0</td>\n",
       "      <td>0.0</td>\n",
       "      <td>0.0</td>\n",
       "      <td>1.0</td>\n",
       "      <td>0.0</td>\n",
       "      <td>0.0</td>\n",
       "      <td>1.0</td>\n",
       "      <td>0.0</td>\n",
       "      <td>1</td>\n",
       "      <td>1</td>\n",
       "    </tr>\n",
       "    <tr>\n",
       "      <th>174</th>\n",
       "      <td>0.621330</td>\n",
       "      <td>-0.092738</td>\n",
       "      <td>-0.778122</td>\n",
       "      <td>-0.771706</td>\n",
       "      <td>1.435481</td>\n",
       "      <td>1.173608</td>\n",
       "      <td>1.244593</td>\n",
       "      <td>0.0</td>\n",
       "      <td>1.0</td>\n",
       "      <td>1.0</td>\n",
       "      <td>...</td>\n",
       "      <td>0.0</td>\n",
       "      <td>0.0</td>\n",
       "      <td>1.0</td>\n",
       "      <td>0.0</td>\n",
       "      <td>0.0</td>\n",
       "      <td>0.0</td>\n",
       "      <td>0.0</td>\n",
       "      <td>1.0</td>\n",
       "      <td>0</td>\n",
       "      <td>0</td>\n",
       "    </tr>\n",
       "    <tr>\n",
       "      <th>52</th>\n",
       "      <td>0.841908</td>\n",
       "      <td>-0.092738</td>\n",
       "      <td>-0.294985</td>\n",
       "      <td>-0.159479</td>\n",
       "      <td>-0.696631</td>\n",
       "      <td>0.655990</td>\n",
       "      <td>2.224104</td>\n",
       "      <td>0.0</td>\n",
       "      <td>1.0</td>\n",
       "      <td>0.0</td>\n",
       "      <td>...</td>\n",
       "      <td>0.0</td>\n",
       "      <td>0.0</td>\n",
       "      <td>1.0</td>\n",
       "      <td>0.0</td>\n",
       "      <td>0.0</td>\n",
       "      <td>0.0</td>\n",
       "      <td>0.0</td>\n",
       "      <td>1.0</td>\n",
       "      <td>1</td>\n",
       "      <td>0</td>\n",
       "    </tr>\n",
       "    <tr>\n",
       "      <th>266</th>\n",
       "      <td>0.069886</td>\n",
       "      <td>2.762907</td>\n",
       "      <td>1.560262</td>\n",
       "      <td>-1.427664</td>\n",
       "      <td>1.435481</td>\n",
       "      <td>2.036303</td>\n",
       "      <td>-0.714429</td>\n",
       "      <td>1.0</td>\n",
       "      <td>0.0</td>\n",
       "      <td>1.0</td>\n",
       "      <td>...</td>\n",
       "      <td>1.0</td>\n",
       "      <td>0.0</td>\n",
       "      <td>1.0</td>\n",
       "      <td>0.0</td>\n",
       "      <td>0.0</td>\n",
       "      <td>0.0</td>\n",
       "      <td>1.0</td>\n",
       "      <td>0.0</td>\n",
       "      <td>0</td>\n",
       "      <td>0</td>\n",
       "    </tr>\n",
       "  </tbody>\n",
       "</table>\n",
       "<p>5 rows × 27 columns</p>\n",
       "</div>"
      ],
      "text/plain": [
       "            0         1         2         3         4         5         6  \\\n",
       "131 -0.591847  0.135714  0.478035  0.540209 -0.696631 -0.896862 -0.714429   \n",
       "21  -1.143291 -0.092738 -0.256334  1.283627  1.435481 -0.551783 -0.714429   \n",
       "174  0.621330 -0.092738 -0.778122 -0.771706  1.435481  1.173608  1.244593   \n",
       "52   0.841908 -0.092738 -0.294985 -0.159479 -0.696631  0.655990  2.224104   \n",
       "266  0.069886  2.762907  1.560262 -1.427664  1.435481  2.036303 -0.714429   \n",
       "\n",
       "       7    8    9  ...   17   18   19   20   21   22   23   24  target  \\\n",
       "131  1.0  0.0  0.0  ...  0.0  0.0  1.0  0.0  0.0  0.0  1.0  0.0       1   \n",
       "21   0.0  1.0  0.0  ...  0.0  0.0  0.0  1.0  0.0  0.0  1.0  0.0       1   \n",
       "174  0.0  1.0  1.0  ...  0.0  0.0  1.0  0.0  0.0  0.0  0.0  1.0       0   \n",
       "52   0.0  1.0  0.0  ...  0.0  0.0  1.0  0.0  0.0  0.0  0.0  1.0       1   \n",
       "266  1.0  0.0  1.0  ...  1.0  0.0  1.0  0.0  0.0  0.0  1.0  0.0       0   \n",
       "\n",
       "     predicted  \n",
       "131          1  \n",
       "21           1  \n",
       "174          0  \n",
       "52           0  \n",
       "266          0  \n",
       "\n",
       "[5 rows x 27 columns]"
      ]
     },
     "execution_count": 31,
     "metadata": {},
     "output_type": "execute_result"
    }
   ],
   "source": [
    "from sklearn.linear_model import LogisticRegression\n",
    "log_reg = LogisticRegression().fit(x,y)\n",
    "log_reg.predict(X)\n",
    "test_set[\"predicted\"] = log_reg.predict(X)\n",
    "test_set.head()\n"
   ]
  },
  {
   "cell_type": "code",
   "execution_count": 32,
   "id": "optional-abraham",
   "metadata": {},
   "outputs": [],
   "source": [
    "df_test = pd.DataFrame(test_set)\n",
    "df_test.sort_index(inplace=True)"
   ]
  },
  {
   "cell_type": "code",
   "execution_count": 33,
   "id": "oriental-patrick",
   "metadata": {},
   "outputs": [
    {
     "data": {
      "text/plain": [
       "<AxesSubplot:>"
      ]
     },
     "execution_count": 33,
     "metadata": {},
     "output_type": "execute_result"
    },
    {
     "data": {
      "image/png": "[encoded data removed]",
      "text/plain": [
       "<Figure size 432x288 with 1 Axes>"
      ]
     },
     "metadata": {
      "needs_background": "light"
     },
     "output_type": "display_data"
    }
   ],
   "source": [
    "df_test[[\"target\",\"predicted\"]].plot(alpha=0.5)"
   ]
  },
  {
   "cell_type": "code",
   "execution_count": 34,
   "id": "historic-dividend",
   "metadata": {
    "tags": []
   },
   "outputs": [
    {
     "data": {
      "text/plain": [
       "array([[19,  5],\n",
       "       [ 7, 29]], dtype=int64)"
      ]
     },
     "execution_count": 34,
     "metadata": {},
     "output_type": "execute_result"
    }
   ],
   "source": [
    "from sklearn.metrics import confusion_matrix\n",
    "confusion_matrix(Y, test_set[\"predicted\"])"
   ]
  },
  {
   "cell_type": "code",
   "execution_count": 35,
   "id": "lesbian-mounting",
   "metadata": {},
   "outputs": [
    {
     "data": {
      "text/plain": [
       "0.8"
      ]
     },
     "execution_count": 35,
     "metadata": {},
     "output_type": "execute_result"
    }
   ],
   "source": [
    "from sklearn.metrics import accuracy_score\n",
    "accuracy_score(Y, test_set[\"predicted\"])    "
   ]
  },
  {
   "cell_type": "code",
   "execution_count": 36,
   "id": "differential-flashing",
   "metadata": {
    "tags": []
   },
   "outputs": [
    {
     "data": {
      "text/plain": [
       "0.4472135954999579"
      ]
     },
     "execution_count": 36,
     "metadata": {},
     "output_type": "execute_result"
    }
   ],
   "source": [
    "log_pred = log_reg.predict(X)\n",
    "log_mse = mean_squared_error(Y, log_pred)\n",
    "log_rmse = np.sqrt(log_mse)\n",
    "log_rmse"
   ]
  },
  {
   "cell_type": "code",
   "execution_count": 37,
   "id": "occasional-large",
   "metadata": {
    "tags": []
   },
   "outputs": [
    {
     "name": "stdout",
     "output_type": "stream",
     "text": [
      "Scores: [0.         0.4472136  0.         0.4472136  0.4472136  0.\n",
      " 0.         0.4472136  0.63245553 0.63245553 0.63245553 0.\n",
      " 0.         0.         0.4472136  0.         0.         0.4472136\n",
      " 0.4472136  0.         0.4472136  0.4472136  0.         0.4472136\n",
      " 0.4472136  0.         0.4472136  0.         0.63245553 0.\n",
      " 0.         0.63245553 0.         0.4472136  0.4472136  0.4472136\n",
      " 0.63245553 0.4472136  0.4472136  0.         0.4472136  0.\n",
      " 0.4472136  0.         0.5        0.70710678 0.         0.70710678\n",
      " 0.5        0.5       ]\n",
      "Mean: 0.30412010138148704\n",
      "Standard deviation: 0.257897196447953\n"
     ]
    }
   ],
   "source": [
    "from sklearn.model_selection import cross_val_score\n",
    "scores = cross_val_score(log_reg, x, y, scoring=\"neg_mean_squared_error\", cv=50)\n",
    "log_rmse_scores = np.sqrt(-scores)\n",
    "display_scores(log_rmse_scores)"
   ]
  },
  {
   "cell_type": "code",
   "execution_count": 38,
   "id": "brilliant-training",
   "metadata": {},
   "outputs": [
    {
     "name": "stderr",
     "output_type": "stream",
     "text": [
      "<ipython-input-38-471fd728731e>:5: SettingWithCopyWarning: \n",
      "A value is trying to be set on a copy of a slice from a DataFrame.\n",
      "Try using .loc[row_indexer,col_indexer] = value instead\n",
      "\n",
      "See the caveats in the documentation: https://pandas.pydata.org/pandas-docs/stable/user_guide/indexing.html#returning-a-view-versus-a-copy\n",
      "  test_set[\"predicted\"] = model.predict(X)\n"
     ]
    },
    {
     "data": {
      "text/html": [
       "<div>\n",
       "<style scoped>\n",
       "    .dataframe tbody tr th:only-of-type {\n",
       "        vertical-align: middle;\n",
       "    }\n",
       "\n",
       "    .dataframe tbody tr th {\n",
       "        vertical-align: top;\n",
       "    }\n",
       "\n",
       "    .dataframe thead th {\n",
       "        text-align: right;\n",
       "    }\n",
       "</style>\n",
       "<table border=\"1\" class=\"dataframe\">\n",
       "  <thead>\n",
       "    <tr style=\"text-align: right;\">\n",
       "      <th></th>\n",
       "      <th>0</th>\n",
       "      <th>1</th>\n",
       "      <th>2</th>\n",
       "      <th>3</th>\n",
       "      <th>4</th>\n",
       "      <th>5</th>\n",
       "      <th>6</th>\n",
       "      <th>7</th>\n",
       "      <th>8</th>\n",
       "      <th>9</th>\n",
       "      <th>...</th>\n",
       "      <th>17</th>\n",
       "      <th>18</th>\n",
       "      <th>19</th>\n",
       "      <th>20</th>\n",
       "      <th>21</th>\n",
       "      <th>22</th>\n",
       "      <th>23</th>\n",
       "      <th>24</th>\n",
       "      <th>target</th>\n",
       "      <th>predicted</th>\n",
       "    </tr>\n",
       "  </thead>\n",
       "  <tbody>\n",
       "    <tr>\n",
       "      <th>131</th>\n",
       "      <td>-0.591847</td>\n",
       "      <td>0.135714</td>\n",
       "      <td>0.478035</td>\n",
       "      <td>0.540209</td>\n",
       "      <td>-0.696631</td>\n",
       "      <td>-0.896862</td>\n",
       "      <td>-0.714429</td>\n",
       "      <td>1.0</td>\n",
       "      <td>0.0</td>\n",
       "      <td>0.0</td>\n",
       "      <td>...</td>\n",
       "      <td>0.0</td>\n",
       "      <td>0.0</td>\n",
       "      <td>1.0</td>\n",
       "      <td>0.0</td>\n",
       "      <td>0.0</td>\n",
       "      <td>0.0</td>\n",
       "      <td>1.0</td>\n",
       "      <td>0.0</td>\n",
       "      <td>1</td>\n",
       "      <td>1</td>\n",
       "    </tr>\n",
       "    <tr>\n",
       "      <th>21</th>\n",
       "      <td>-1.143291</td>\n",
       "      <td>-0.092738</td>\n",
       "      <td>-0.256334</td>\n",
       "      <td>1.283627</td>\n",
       "      <td>1.435481</td>\n",
       "      <td>-0.551783</td>\n",
       "      <td>-0.714429</td>\n",
       "      <td>0.0</td>\n",
       "      <td>1.0</td>\n",
       "      <td>0.0</td>\n",
       "      <td>...</td>\n",
       "      <td>0.0</td>\n",
       "      <td>0.0</td>\n",
       "      <td>0.0</td>\n",
       "      <td>1.0</td>\n",
       "      <td>0.0</td>\n",
       "      <td>0.0</td>\n",
       "      <td>1.0</td>\n",
       "      <td>0.0</td>\n",
       "      <td>1</td>\n",
       "      <td>1</td>\n",
       "    </tr>\n",
       "    <tr>\n",
       "      <th>174</th>\n",
       "      <td>0.621330</td>\n",
       "      <td>-0.092738</td>\n",
       "      <td>-0.778122</td>\n",
       "      <td>-0.771706</td>\n",
       "      <td>1.435481</td>\n",
       "      <td>1.173608</td>\n",
       "      <td>1.244593</td>\n",
       "      <td>0.0</td>\n",
       "      <td>1.0</td>\n",
       "      <td>1.0</td>\n",
       "      <td>...</td>\n",
       "      <td>0.0</td>\n",
       "      <td>0.0</td>\n",
       "      <td>1.0</td>\n",
       "      <td>0.0</td>\n",
       "      <td>0.0</td>\n",
       "      <td>0.0</td>\n",
       "      <td>0.0</td>\n",
       "      <td>1.0</td>\n",
       "      <td>0</td>\n",
       "      <td>0</td>\n",
       "    </tr>\n",
       "    <tr>\n",
       "      <th>52</th>\n",
       "      <td>0.841908</td>\n",
       "      <td>-0.092738</td>\n",
       "      <td>-0.294985</td>\n",
       "      <td>-0.159479</td>\n",
       "      <td>-0.696631</td>\n",
       "      <td>0.655990</td>\n",
       "      <td>2.224104</td>\n",
       "      <td>0.0</td>\n",
       "      <td>1.0</td>\n",
       "      <td>0.0</td>\n",
       "      <td>...</td>\n",
       "      <td>0.0</td>\n",
       "      <td>0.0</td>\n",
       "      <td>1.0</td>\n",
       "      <td>0.0</td>\n",
       "      <td>0.0</td>\n",
       "      <td>0.0</td>\n",
       "      <td>0.0</td>\n",
       "      <td>1.0</td>\n",
       "      <td>1</td>\n",
       "      <td>0</td>\n",
       "    </tr>\n",
       "    <tr>\n",
       "      <th>266</th>\n",
       "      <td>0.069886</td>\n",
       "      <td>2.762907</td>\n",
       "      <td>1.560262</td>\n",
       "      <td>-1.427664</td>\n",
       "      <td>1.435481</td>\n",
       "      <td>2.036303</td>\n",
       "      <td>-0.714429</td>\n",
       "      <td>1.0</td>\n",
       "      <td>0.0</td>\n",
       "      <td>1.0</td>\n",
       "      <td>...</td>\n",
       "      <td>1.0</td>\n",
       "      <td>0.0</td>\n",
       "      <td>1.0</td>\n",
       "      <td>0.0</td>\n",
       "      <td>0.0</td>\n",
       "      <td>0.0</td>\n",
       "      <td>1.0</td>\n",
       "      <td>0.0</td>\n",
       "      <td>0</td>\n",
       "      <td>0</td>\n",
       "    </tr>\n",
       "  </tbody>\n",
       "</table>\n",
       "<p>5 rows × 27 columns</p>\n",
       "</div>"
      ],
      "text/plain": [
       "            0         1         2         3         4         5         6  \\\n",
       "131 -0.591847  0.135714  0.478035  0.540209 -0.696631 -0.896862 -0.714429   \n",
       "21  -1.143291 -0.092738 -0.256334  1.283627  1.435481 -0.551783 -0.714429   \n",
       "174  0.621330 -0.092738 -0.778122 -0.771706  1.435481  1.173608  1.244593   \n",
       "52   0.841908 -0.092738 -0.294985 -0.159479 -0.696631  0.655990  2.224104   \n",
       "266  0.069886  2.762907  1.560262 -1.427664  1.435481  2.036303 -0.714429   \n",
       "\n",
       "       7    8    9  ...   17   18   19   20   21   22   23   24  target  \\\n",
       "131  1.0  0.0  0.0  ...  0.0  0.0  1.0  0.0  0.0  0.0  1.0  0.0       1   \n",
       "21   0.0  1.0  0.0  ...  0.0  0.0  0.0  1.0  0.0  0.0  1.0  0.0       1   \n",
       "174  0.0  1.0  1.0  ...  0.0  0.0  1.0  0.0  0.0  0.0  0.0  1.0       0   \n",
       "52   0.0  1.0  0.0  ...  0.0  0.0  1.0  0.0  0.0  0.0  0.0  1.0       1   \n",
       "266  1.0  0.0  1.0  ...  1.0  0.0  1.0  0.0  0.0  0.0  1.0  0.0       0   \n",
       "\n",
       "     predicted  \n",
       "131          1  \n",
       "21           1  \n",
       "174          0  \n",
       "52           0  \n",
       "266          0  \n",
       "\n",
       "[5 rows x 27 columns]"
      ]
     },
     "execution_count": 38,
     "metadata": {},
     "output_type": "execute_result"
    }
   ],
   "source": [
    "from sklearn.neighbors import KNeighborsClassifier\n",
    "model = KNeighborsClassifier(n_neighbors=2)\n",
    "model.fit(x, y)\n",
    "Y_model = model.predict(X)\n",
    "test_set[\"predicted\"] = model.predict(X)\n",
    "test_set.head()"
   ]
  },
  {
   "cell_type": "code",
   "execution_count": 39,
   "id": "differential-headset",
   "metadata": {},
   "outputs": [],
   "source": [
    "df_test = pd.DataFrame(test_set)\n",
    "df_test.sort_index(inplace=True)"
   ]
  },
  {
   "cell_type": "code",
   "execution_count": 40,
   "id": "confused-mason",
   "metadata": {
    "tags": []
   },
   "outputs": [
    {
     "data": {
      "text/plain": [
       "<AxesSubplot:>"
      ]
     },
     "execution_count": 40,
     "metadata": {},
     "output_type": "execute_result"
    },
    {
     "data": {
      "image/png": "[encoded data removed]",
      "text/plain": [
       "<Figure size 432x288 with 1 Axes>"
      ]
     },
     "metadata": {
      "needs_background": "light"
     },
     "output_type": "display_data"
    }
   ],
   "source": [
    "df_test[[\"target\",\"predicted\"]].plot(alpha=0.5)"
   ]
  },
  {
   "cell_type": "code",
   "execution_count": 41,
   "id": "sublime-sperm",
   "metadata": {
    "tags": []
   },
   "outputs": [
    {
     "data": {
      "text/plain": [
       "array([[21,  3],\n",
       "       [11, 25]], dtype=int64)"
      ]
     },
     "execution_count": 41,
     "metadata": {},
     "output_type": "execute_result"
    }
   ],
   "source": [
    "from sklearn.metrics import confusion_matrix\n",
    "confusion_matrix(Y, test_set[\"predicted\"])"
   ]
  },
  {
   "cell_type": "code",
   "execution_count": 42,
   "id": "appointed-ratio",
   "metadata": {
    "tags": []
   },
   "outputs": [
    {
     "data": {
      "text/plain": [
       "0.7666666666666667"
      ]
     },
     "execution_count": 42,
     "metadata": {},
     "output_type": "execute_result"
    }
   ],
   "source": [
    "from sklearn.metrics import accuracy_score\n",
    "accuracy_score(Y, Y_model)"
   ]
  },
  {
   "cell_type": "code",
   "execution_count": 43,
   "id": "improved-solution",
   "metadata": {
    "tags": []
   },
   "outputs": [
    {
     "data": {
      "text/plain": [
       "0.48304589153964794"
      ]
     },
     "execution_count": 43,
     "metadata": {},
     "output_type": "execute_result"
    }
   ],
   "source": [
    "from sklearn.metrics import mean_squared_error\n",
    "knn_pred = model.predict(X)\n",
    "knn_mse = mean_squared_error(Y, knn_pred)\n",
    "knn_rmse = np.sqrt(knn_mse)\n",
    "knn_rmse"
   ]
  },
  {
   "cell_type": "code",
   "execution_count": 44,
   "id": "cubic-filling",
   "metadata": {
    "tags": []
   },
   "outputs": [
    {
     "name": "stdout",
     "output_type": "stream",
     "text": [
      "Scores: [0.         0.4472136  0.4472136  0.         0.4472136  0.\n",
      " 0.         0.4472136  0.         0.4472136  0.63245553 0.63245553\n",
      " 0.         0.4472136  0.4472136  0.63245553 0.4472136  0.63245553\n",
      " 0.63245553 0.4472136  0.4472136  0.63245553 0.4472136  0.63245553\n",
      " 0.         0.4472136  0.63245553 0.         0.63245553 0.4472136\n",
      " 0.4472136  0.4472136  0.4472136  0.4472136  0.         0.\n",
      " 0.63245553 0.4472136  0.63245553 0.4472136  0.4472136  0.\n",
      " 0.4472136  0.5        0.70710678 0.5        0.5        0.5\n",
      " 0.5        0.5       ]\n",
      "Mean: 0.40111206278112194\n",
      "Standard deviation: 0.2260732471821318\n"
     ]
    }
   ],
   "source": [
    "from sklearn.model_selection import cross_val_score\n",
    "scores = cross_val_score(model, x, y, scoring=\"neg_mean_squared_error\", cv=50)\n",
    "knn_rmse_scores = np.sqrt(-scores)\n",
    "display_scores(knn_rmse_scores)"
   ]
  },
  {
   "cell_type": "code",
   "execution_count": 45,
   "id": "eleven-devil",
   "metadata": {},
   "outputs": [
    {
     "name": "stderr",
     "output_type": "stream",
     "text": [
      "<ipython-input-45-0aaba105a26d>:5: SettingWithCopyWarning: \n",
      "A value is trying to be set on a copy of a slice from a DataFrame.\n",
      "Try using .loc[row_indexer,col_indexer] = value instead\n",
      "\n",
      "See the caveats in the documentation: https://pandas.pydata.org/pandas-docs/stable/user_guide/indexing.html#returning-a-view-versus-a-copy\n",
      "  test_set[\"predicted\"] = SVM.predict(X)\n"
     ]
    },
    {
     "data": {
      "text/html": [
       "<div>\n",
       "<style scoped>\n",
       "    .dataframe tbody tr th:only-of-type {\n",
       "        vertical-align: middle;\n",
       "    }\n",
       "\n",
       "    .dataframe tbody tr th {\n",
       "        vertical-align: top;\n",
       "    }\n",
       "\n",
       "    .dataframe thead th {\n",
       "        text-align: right;\n",
       "    }\n",
       "</style>\n",
       "<table border=\"1\" class=\"dataframe\">\n",
       "  <thead>\n",
       "    <tr style=\"text-align: right;\">\n",
       "      <th></th>\n",
       "      <th>0</th>\n",
       "      <th>1</th>\n",
       "      <th>2</th>\n",
       "      <th>3</th>\n",
       "      <th>4</th>\n",
       "      <th>5</th>\n",
       "      <th>6</th>\n",
       "      <th>7</th>\n",
       "      <th>8</th>\n",
       "      <th>9</th>\n",
       "      <th>...</th>\n",
       "      <th>17</th>\n",
       "      <th>18</th>\n",
       "      <th>19</th>\n",
       "      <th>20</th>\n",
       "      <th>21</th>\n",
       "      <th>22</th>\n",
       "      <th>23</th>\n",
       "      <th>24</th>\n",
       "      <th>target</th>\n",
       "      <th>predicted</th>\n",
       "    </tr>\n",
       "  </thead>\n",
       "  <tbody>\n",
       "    <tr>\n",
       "      <th>131</th>\n",
       "      <td>-0.591847</td>\n",
       "      <td>0.135714</td>\n",
       "      <td>0.478035</td>\n",
       "      <td>0.540209</td>\n",
       "      <td>-0.696631</td>\n",
       "      <td>-0.896862</td>\n",
       "      <td>-0.714429</td>\n",
       "      <td>1.0</td>\n",
       "      <td>0.0</td>\n",
       "      <td>0.0</td>\n",
       "      <td>...</td>\n",
       "      <td>0.0</td>\n",
       "      <td>0.0</td>\n",
       "      <td>1.0</td>\n",
       "      <td>0.0</td>\n",
       "      <td>0.0</td>\n",
       "      <td>0.0</td>\n",
       "      <td>1.0</td>\n",
       "      <td>0.0</td>\n",
       "      <td>1</td>\n",
       "      <td>1</td>\n",
       "    </tr>\n",
       "    <tr>\n",
       "      <th>21</th>\n",
       "      <td>-1.143291</td>\n",
       "      <td>-0.092738</td>\n",
       "      <td>-0.256334</td>\n",
       "      <td>1.283627</td>\n",
       "      <td>1.435481</td>\n",
       "      <td>-0.551783</td>\n",
       "      <td>-0.714429</td>\n",
       "      <td>0.0</td>\n",
       "      <td>1.0</td>\n",
       "      <td>0.0</td>\n",
       "      <td>...</td>\n",
       "      <td>0.0</td>\n",
       "      <td>0.0</td>\n",
       "      <td>0.0</td>\n",
       "      <td>1.0</td>\n",
       "      <td>0.0</td>\n",
       "      <td>0.0</td>\n",
       "      <td>1.0</td>\n",
       "      <td>0.0</td>\n",
       "      <td>1</td>\n",
       "      <td>1</td>\n",
       "    </tr>\n",
       "    <tr>\n",
       "      <th>174</th>\n",
       "      <td>0.621330</td>\n",
       "      <td>-0.092738</td>\n",
       "      <td>-0.778122</td>\n",
       "      <td>-0.771706</td>\n",
       "      <td>1.435481</td>\n",
       "      <td>1.173608</td>\n",
       "      <td>1.244593</td>\n",
       "      <td>0.0</td>\n",
       "      <td>1.0</td>\n",
       "      <td>1.0</td>\n",
       "      <td>...</td>\n",
       "      <td>0.0</td>\n",
       "      <td>0.0</td>\n",
       "      <td>1.0</td>\n",
       "      <td>0.0</td>\n",
       "      <td>0.0</td>\n",
       "      <td>0.0</td>\n",
       "      <td>0.0</td>\n",
       "      <td>1.0</td>\n",
       "      <td>0</td>\n",
       "      <td>0</td>\n",
       "    </tr>\n",
       "    <tr>\n",
       "      <th>52</th>\n",
       "      <td>0.841908</td>\n",
       "      <td>-0.092738</td>\n",
       "      <td>-0.294985</td>\n",
       "      <td>-0.159479</td>\n",
       "      <td>-0.696631</td>\n",
       "      <td>0.655990</td>\n",
       "      <td>2.224104</td>\n",
       "      <td>0.0</td>\n",
       "      <td>1.0</td>\n",
       "      <td>0.0</td>\n",
       "      <td>...</td>\n",
       "      <td>0.0</td>\n",
       "      <td>0.0</td>\n",
       "      <td>1.0</td>\n",
       "      <td>0.0</td>\n",
       "      <td>0.0</td>\n",
       "      <td>0.0</td>\n",
       "      <td>0.0</td>\n",
       "      <td>1.0</td>\n",
       "      <td>1</td>\n",
       "      <td>0</td>\n",
       "    </tr>\n",
       "    <tr>\n",
       "      <th>266</th>\n",
       "      <td>0.069886</td>\n",
       "      <td>2.762907</td>\n",
       "      <td>1.560262</td>\n",
       "      <td>-1.427664</td>\n",
       "      <td>1.435481</td>\n",
       "      <td>2.036303</td>\n",
       "      <td>-0.714429</td>\n",
       "      <td>1.0</td>\n",
       "      <td>0.0</td>\n",
       "      <td>1.0</td>\n",
       "      <td>...</td>\n",
       "      <td>1.0</td>\n",
       "      <td>0.0</td>\n",
       "      <td>1.0</td>\n",
       "      <td>0.0</td>\n",
       "      <td>0.0</td>\n",
       "      <td>0.0</td>\n",
       "      <td>1.0</td>\n",
       "      <td>0.0</td>\n",
       "      <td>0</td>\n",
       "      <td>0</td>\n",
       "    </tr>\n",
       "  </tbody>\n",
       "</table>\n",
       "<p>5 rows × 27 columns</p>\n",
       "</div>"
      ],
      "text/plain": [
       "            0         1         2         3         4         5         6  \\\n",
       "131 -0.591847  0.135714  0.478035  0.540209 -0.696631 -0.896862 -0.714429   \n",
       "21  -1.143291 -0.092738 -0.256334  1.283627  1.435481 -0.551783 -0.714429   \n",
       "174  0.621330 -0.092738 -0.778122 -0.771706  1.435481  1.173608  1.244593   \n",
       "52   0.841908 -0.092738 -0.294985 -0.159479 -0.696631  0.655990  2.224104   \n",
       "266  0.069886  2.762907  1.560262 -1.427664  1.435481  2.036303 -0.714429   \n",
       "\n",
       "       7    8    9  ...   17   18   19   20   21   22   23   24  target  \\\n",
       "131  1.0  0.0  0.0  ...  0.0  0.0  1.0  0.0  0.0  0.0  1.0  0.0       1   \n",
       "21   0.0  1.0  0.0  ...  0.0  0.0  0.0  1.0  0.0  0.0  1.0  0.0       1   \n",
       "174  0.0  1.0  1.0  ...  0.0  0.0  1.0  0.0  0.0  0.0  0.0  1.0       0   \n",
       "52   0.0  1.0  0.0  ...  0.0  0.0  1.0  0.0  0.0  0.0  0.0  1.0       1   \n",
       "266  1.0  0.0  1.0  ...  1.0  0.0  1.0  0.0  0.0  0.0  1.0  0.0       0   \n",
       "\n",
       "     predicted  \n",
       "131          1  \n",
       "21           1  \n",
       "174          0  \n",
       "52           0  \n",
       "266          0  \n",
       "\n",
       "[5 rows x 27 columns]"
      ]
     },
     "execution_count": 45,
     "metadata": {},
     "output_type": "execute_result"
    }
   ],
   "source": [
    "from sklearn import svm\n",
    "SVM = svm.LinearSVC()\n",
    "SVM.fit(x,y)\n",
    "SVM.predict(X)\n",
    "test_set[\"predicted\"] = SVM.predict(X)\n",
    "test_set.head()"
   ]
  },
  {
   "cell_type": "code",
   "execution_count": 46,
   "id": "synthetic-commodity",
   "metadata": {},
   "outputs": [],
   "source": [
    "df_test = pd.DataFrame(test_set)\n",
    "df_test.sort_index(inplace=True)"
   ]
  },
  {
   "cell_type": "code",
   "execution_count": 47,
   "id": "consistent-swing",
   "metadata": {},
   "outputs": [
    {
     "data": {
      "image/png": "[encoded data removed]",
      "text/plain": [
       "<Figure size 432x288 with 1 Axes>"
      ]
     },
     "metadata": {
      "needs_background": "light"
     },
     "output_type": "display_data"
    }
   ],
   "source": [
    "df_test[[\"target\",\"predicted\"]].plot(alpha=0.5);"
   ]
  },
  {
   "cell_type": "code",
   "execution_count": 48,
   "id": "violent-vanilla",
   "metadata": {
    "tags": []
   },
   "outputs": [
    {
     "data": {
      "text/plain": [
       "array([[19,  5],\n",
       "       [ 7, 29]], dtype=int64)"
      ]
     },
     "execution_count": 48,
     "metadata": {},
     "output_type": "execute_result"
    }
   ],
   "source": [
    "from sklearn.metrics import confusion_matrix\n",
    "confusion_matrix(Y, test_set[\"predicted\"])"
   ]
  },
  {
   "cell_type": "code",
   "execution_count": 49,
   "id": "elementary-christmas",
   "metadata": {},
   "outputs": [
    {
     "data": {
      "text/plain": [
       "0.8"
      ]
     },
     "execution_count": 49,
     "metadata": {},
     "output_type": "execute_result"
    }
   ],
   "source": [
    "from sklearn.metrics import accuracy_score\n",
    "accuracy_score(Y, test_set[\"predicted\"])    "
   ]
  },
  {
   "cell_type": "code",
   "execution_count": 50,
   "id": "controlled-humanitarian",
   "metadata": {},
   "outputs": [
    {
     "data": {
      "text/plain": [
       "0.4472135954999579"
      ]
     },
     "execution_count": 50,
     "metadata": {},
     "output_type": "execute_result"
    }
   ],
   "source": [
    "SVM_pred = SVM.predict(X.iloc[:,:])\n",
    "SVM_mse = mean_squared_error(Y, SVM_pred)\n",
    "SVM_rmse = np.sqrt(SVM_mse)\n",
    "SVM_rmse"
   ]
  },
  {
   "cell_type": "code",
   "execution_count": 51,
   "id": "backed-ballet",
   "metadata": {
    "tags": []
   },
   "outputs": [
    {
     "name": "stdout",
     "output_type": "stream",
     "text": [
      "Scores: [0.4472136  0.4472136  0.         0.63245553 0.4472136  0.\n",
      " 0.4472136  0.63245553 0.63245553 0.63245553 0.63245553 0.\n",
      " 0.         0.         0.63245553 0.         0.         0.\n",
      " 0.4472136  0.         0.4472136  0.4472136  0.         0.4472136\n",
      " 0.4472136  0.4472136  0.4472136  0.         0.63245553 0.\n",
      " 0.         0.63245553 0.         0.4472136  0.4472136  0.4472136\n",
      " 0.63245553 0.4472136  0.4472136  0.         0.4472136  0.\n",
      " 0.4472136  0.         0.5        0.70710678 0.         0.70710678\n",
      " 0.70710678 0.5       ]\n",
      "Mean: 0.33726529701723934\n",
      "Standard deviation: 0.2650511637927163\n"
     ]
    }
   ],
   "source": [
    "from sklearn.model_selection import cross_val_score\n",
    "scores = cross_val_score(SVM, x, y, scoring=\"neg_mean_squared_error\", cv=50)\n",
    "SVM_rmse_scores = np.sqrt(-scores)\n",
    "display_scores(SVM_rmse_scores)"
   ]
  },
  {
   "cell_type": "code",
   "execution_count": null,
   "id": "protecting-contractor",
   "metadata": {},
   "outputs": [],
   "source": []
  }
 ],
 "metadata": {
  "kernelspec": {
   "display_name": "Python 3",
   "language": "python",
   "name": "python3"
  },
  "language_info": {
   "codemirror_mode": {
    "name": "ipython",
    "version": 3
   },
   "file_extension": ".py",
   "mimetype": "text/x-python",
   "name": "python",
   "nbconvert_exporter": "python",
   "pygments_lexer": "ipython3",
   "version": "3.8.5"
  }
 },
 "nbformat": 4,
 "nbformat_minor": 5
}
